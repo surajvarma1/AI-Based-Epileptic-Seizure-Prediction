{
  "cells": [
    {
      "cell_type": "markdown",
      "metadata": {
        "id": "MT5lewN7hWFM"
      },
      "source": [
        "## Data Description"
      ]
    },
    {
      "cell_type": "markdown",
      "metadata": {
        "id": "ixQxBAmChY-k"
      },
      "source": [
        "https://www.kaggle.com/datasets/harunshimanto/epileptic-seizure-recognition/data"
      ]
    },
    {
      "cell_type": "markdown",
      "metadata": {
        "id": "VlxV0CRqJwZk"
      },
      "source": [
        "From data description: we divided and shuffled every 4097 data points into 23 chunks, each chunk contains 178 data points for 1 second, and each data point is the value of the EEG recording at a different point in time.\n",
        "\n",
        "So now we have 23 x 500 = 11500 pieces of information(row), each information contains 178 data points for 1 second(column), the last column represents the label y {1,2,3,4,5}."
      ]
    },
    {
      "cell_type": "markdown",
      "metadata": {
        "id": "DW0qlrueJ0su"
      },
      "source": [
        "Let us look more preciesly on y column and it's value's importance for our case.\n",
        "\n",
        "y contains the category of the 178-dimensional input vector. Specifically y in {1, 2, 3, 4, 5}:\n",
        "\n",
        "5 - eyes open, means when they were recording the EEG signal of the brain the patient had their eyes open\n",
        "\n",
        "4 - eyes closed, means when they were recording the EEG signal the patient had their eyes closed\n",
        "\n",
        "3 - Yes they identify where the region of the tumor was in the brain and recording the EEG activity from the healthy brain area\n",
        "\n",
        "2 - They recorder the EEG from the area where the tumor was located\n",
        "\n",
        "1 - Recording of seizure activity All subjects falling in classes 2, 3, 4, and 5 are subjects who did not have epileptic seizure. Only subjects in class 1 have epileptic seizure."
      ]
    },
    {
      "cell_type": "markdown",
      "metadata": {
        "id": "YQ_sdKtqJ-6l"
      },
      "source": [
        "From the first view we can assume we need to solve multi-classification task, but, after accurate exploaring definitions of classes of y, we can realeyes we can reform our multi-classification task to binary classification task.\n",
        "For that we can just combine {2,3,4,5} classes as 0 class (not epileptic seizure) and keep {1} class as 1 (epileptic seizure)."
      ]
    },
    {
      "cell_type": "markdown",
      "metadata": {
        "id": "1QC5q2IbhqAr"
      },
      "source": [
        "## Data Visulization"
      ]
    },
    {
      "cell_type": "code",
      "execution_count": 2,
      "metadata": {
        "id": "qvjs9XOm_0m_"
      },
      "outputs": [
        {
          "ename": "ModuleNotFoundError",
          "evalue": "No module named 'tensorflow'",
          "output_type": "error",
          "traceback": [
            "\u001b[1;31m---------------------------------------------------------------------------\u001b[0m",
            "\u001b[1;31mModuleNotFoundError\u001b[0m                       Traceback (most recent call last)",
            "Cell \u001b[1;32mIn[2], line 9\u001b[0m\n\u001b[0;32m      7\u001b[0m \u001b[38;5;28;01mimport\u001b[39;00m \u001b[38;5;21;01mplotly\u001b[39;00m\u001b[38;5;21;01m.\u001b[39;00m\u001b[38;5;21;01mexpress\u001b[39;00m \u001b[38;5;28;01mas\u001b[39;00m \u001b[38;5;21;01mpx\u001b[39;00m\n\u001b[0;32m      8\u001b[0m \u001b[38;5;28;01mfrom\u001b[39;00m \u001b[38;5;21;01msklearn\u001b[39;00m\u001b[38;5;21;01m.\u001b[39;00m\u001b[38;5;21;01mmodel_selection\u001b[39;00m \u001b[38;5;28;01mimport\u001b[39;00m train_test_split\n\u001b[1;32m----> 9\u001b[0m \u001b[38;5;28;01mimport\u001b[39;00m \u001b[38;5;21;01mtensorflow\u001b[39;00m \u001b[38;5;28;01mas\u001b[39;00m \u001b[38;5;21;01mtf\u001b[39;00m\n\u001b[0;32m     10\u001b[0m \u001b[38;5;28;01mfrom\u001b[39;00m \u001b[38;5;21;01mtensorflow\u001b[39;00m \u001b[38;5;28;01mimport\u001b[39;00m keras\n\u001b[0;32m     11\u001b[0m \u001b[38;5;28;01mfrom\u001b[39;00m \u001b[38;5;21;01msklearn\u001b[39;00m\u001b[38;5;21;01m.\u001b[39;00m\u001b[38;5;21;01mmetrics\u001b[39;00m \u001b[38;5;28;01mimport\u001b[39;00m classification_report, confusion_matrix\n",
            "\u001b[1;31mModuleNotFoundError\u001b[0m: No module named 'tensorflow'"
          ]
        }
      ],
      "source": [
        "import pandas as pd\n",
        "import numpy as np\n",
        "import matplotlib.pyplot as plt\n",
        "import seaborn as sns\n",
        "import plotly.graph_objects as go\n",
        "from plotly.subplots import make_subplots\n",
        "import plotly.express as px\n",
        "from sklearn.model_selection import train_test_split\n",
        "import tensorflow as tf\n",
        "from tensorflow import keras\n",
        "from sklearn.metrics import classification_report, confusion_matrix\n",
        "from tensorflow.keras.models import Sequential\n",
        "from tensorflow.keras.layers import Dense\n",
        "from tensorflow.keras.layers import LSTM, Dropout, BatchNormalization\n",
        "from keras.callbacks import ModelCheckpoint, EarlyStopping\n",
        "import warnings\n",
        "warnings.filterwarnings('ignore')"
      ]
    },
    {
      "cell_type": "code",
      "execution_count": 1,
      "metadata": {
        "id": "3v0SOtlfBHIC"
      },
      "outputs": [
        {
          "ename": "NameError",
          "evalue": "name 'pd' is not defined",
          "output_type": "error",
          "traceback": [
            "\u001b[1;31m---------------------------------------------------------------------------\u001b[0m",
            "\u001b[1;31mNameError\u001b[0m                                 Traceback (most recent call last)",
            "Cell \u001b[1;32mIn[1], line 1\u001b[0m\n\u001b[1;32m----> 1\u001b[0m df \u001b[38;5;241m=\u001b[39m \u001b[43mpd\u001b[49m\u001b[38;5;241m.\u001b[39mread_csv(\n\u001b[0;32m      2\u001b[0m     \u001b[38;5;124m\"\u001b[39m\u001b[38;5;124mE:\u001b[39m\u001b[38;5;124m\\\u001b[39m\u001b[38;5;124mMajorProj\u001b[39m\u001b[38;5;124m\\\u001b[39m\u001b[38;5;124mProject\u001b[39m\u001b[38;5;124m\\\u001b[39m\u001b[38;5;124mEpileptic-Seizure-Recognition\u001b[39m\u001b[38;5;124m\\\u001b[39m\u001b[38;5;124mEpileptic Seizure Recognition.csv\u001b[39m\u001b[38;5;124m\"\u001b[39m\n\u001b[0;32m      3\u001b[0m )\n",
            "\u001b[1;31mNameError\u001b[0m: name 'pd' is not defined"
          ]
        }
      ],
      "source": [
        "df = pd.read_csv(\n",
        "    \"E:\\MajorProj\\Project\\Epileptic-Seizure-Recognition\\Epileptic Seizure Recognition.csv\"\n",
        ")"
      ]
    },
    {
      "cell_type": "code",
      "execution_count": 25,
      "metadata": {
        "colab": {
          "base_uri": "https://localhost:8080/",
          "height": 236
        },
        "id": "Uv2HZkg7BG_9",
        "outputId": "5f92b264-35f1-46ff-a6a0-746ed4ddb855"
      },
      "outputs": [
        {
          "data": {
            "text/html": [
              "<div>\n",
              "<style scoped>\n",
              "    .dataframe tbody tr th:only-of-type {\n",
              "        vertical-align: middle;\n",
              "    }\n",
              "\n",
              "    .dataframe tbody tr th {\n",
              "        vertical-align: top;\n",
              "    }\n",
              "\n",
              "    .dataframe thead th {\n",
              "        text-align: right;\n",
              "    }\n",
              "</style>\n",
              "<table border=\"1\" class=\"dataframe\">\n",
              "  <thead>\n",
              "    <tr style=\"text-align: right;\">\n",
              "      <th></th>\n",
              "      <th>Unnamed</th>\n",
              "      <th>X1</th>\n",
              "      <th>X2</th>\n",
              "      <th>X3</th>\n",
              "      <th>X4</th>\n",
              "      <th>X5</th>\n",
              "      <th>X6</th>\n",
              "      <th>X7</th>\n",
              "      <th>X8</th>\n",
              "      <th>X9</th>\n",
              "      <th>...</th>\n",
              "      <th>X170</th>\n",
              "      <th>X171</th>\n",
              "      <th>X172</th>\n",
              "      <th>X173</th>\n",
              "      <th>X174</th>\n",
              "      <th>X175</th>\n",
              "      <th>X176</th>\n",
              "      <th>X177</th>\n",
              "      <th>X178</th>\n",
              "      <th>y</th>\n",
              "    </tr>\n",
              "  </thead>\n",
              "  <tbody>\n",
              "    <tr>\n",
              "      <th>0</th>\n",
              "      <td>X21.V1.791</td>\n",
              "      <td>135</td>\n",
              "      <td>190</td>\n",
              "      <td>229</td>\n",
              "      <td>223</td>\n",
              "      <td>192</td>\n",
              "      <td>125</td>\n",
              "      <td>55</td>\n",
              "      <td>-9</td>\n",
              "      <td>-33</td>\n",
              "      <td>...</td>\n",
              "      <td>-17</td>\n",
              "      <td>-15</td>\n",
              "      <td>-31</td>\n",
              "      <td>-77</td>\n",
              "      <td>-103</td>\n",
              "      <td>-127</td>\n",
              "      <td>-116</td>\n",
              "      <td>-83</td>\n",
              "      <td>-51</td>\n",
              "      <td>4</td>\n",
              "    </tr>\n",
              "    <tr>\n",
              "      <th>1</th>\n",
              "      <td>X15.V1.924</td>\n",
              "      <td>386</td>\n",
              "      <td>382</td>\n",
              "      <td>356</td>\n",
              "      <td>331</td>\n",
              "      <td>320</td>\n",
              "      <td>315</td>\n",
              "      <td>307</td>\n",
              "      <td>272</td>\n",
              "      <td>244</td>\n",
              "      <td>...</td>\n",
              "      <td>164</td>\n",
              "      <td>150</td>\n",
              "      <td>146</td>\n",
              "      <td>152</td>\n",
              "      <td>157</td>\n",
              "      <td>156</td>\n",
              "      <td>154</td>\n",
              "      <td>143</td>\n",
              "      <td>129</td>\n",
              "      <td>1</td>\n",
              "    </tr>\n",
              "    <tr>\n",
              "      <th>2</th>\n",
              "      <td>X8.V1.1</td>\n",
              "      <td>-32</td>\n",
              "      <td>-39</td>\n",
              "      <td>-47</td>\n",
              "      <td>-37</td>\n",
              "      <td>-32</td>\n",
              "      <td>-36</td>\n",
              "      <td>-57</td>\n",
              "      <td>-73</td>\n",
              "      <td>-85</td>\n",
              "      <td>...</td>\n",
              "      <td>57</td>\n",
              "      <td>64</td>\n",
              "      <td>48</td>\n",
              "      <td>19</td>\n",
              "      <td>-12</td>\n",
              "      <td>-30</td>\n",
              "      <td>-35</td>\n",
              "      <td>-35</td>\n",
              "      <td>-36</td>\n",
              "      <td>5</td>\n",
              "    </tr>\n",
              "    <tr>\n",
              "      <th>3</th>\n",
              "      <td>X16.V1.60</td>\n",
              "      <td>-105</td>\n",
              "      <td>-101</td>\n",
              "      <td>-96</td>\n",
              "      <td>-92</td>\n",
              "      <td>-89</td>\n",
              "      <td>-95</td>\n",
              "      <td>-102</td>\n",
              "      <td>-100</td>\n",
              "      <td>-87</td>\n",
              "      <td>...</td>\n",
              "      <td>-82</td>\n",
              "      <td>-81</td>\n",
              "      <td>-80</td>\n",
              "      <td>-77</td>\n",
              "      <td>-85</td>\n",
              "      <td>-77</td>\n",
              "      <td>-72</td>\n",
              "      <td>-69</td>\n",
              "      <td>-65</td>\n",
              "      <td>5</td>\n",
              "    </tr>\n",
              "    <tr>\n",
              "      <th>4</th>\n",
              "      <td>X20.V1.54</td>\n",
              "      <td>-9</td>\n",
              "      <td>-65</td>\n",
              "      <td>-98</td>\n",
              "      <td>-102</td>\n",
              "      <td>-78</td>\n",
              "      <td>-48</td>\n",
              "      <td>-16</td>\n",
              "      <td>0</td>\n",
              "      <td>-21</td>\n",
              "      <td>...</td>\n",
              "      <td>4</td>\n",
              "      <td>2</td>\n",
              "      <td>-12</td>\n",
              "      <td>-32</td>\n",
              "      <td>-41</td>\n",
              "      <td>-65</td>\n",
              "      <td>-83</td>\n",
              "      <td>-89</td>\n",
              "      <td>-73</td>\n",
              "      <td>5</td>\n",
              "    </tr>\n",
              "  </tbody>\n",
              "</table>\n",
              "<p>5 rows × 180 columns</p>\n",
              "</div>"
            ],
            "text/plain": [
              "      Unnamed   X1   X2   X3   X4   X5   X6   X7   X8   X9  ...  X170  X171  \\\n",
              "0  X21.V1.791  135  190  229  223  192  125   55   -9  -33  ...   -17   -15   \n",
              "1  X15.V1.924  386  382  356  331  320  315  307  272  244  ...   164   150   \n",
              "2     X8.V1.1  -32  -39  -47  -37  -32  -36  -57  -73  -85  ...    57    64   \n",
              "3   X16.V1.60 -105 -101  -96  -92  -89  -95 -102 -100  -87  ...   -82   -81   \n",
              "4   X20.V1.54   -9  -65  -98 -102  -78  -48  -16    0  -21  ...     4     2   \n",
              "\n",
              "   X172  X173  X174  X175  X176  X177  X178  y  \n",
              "0   -31   -77  -103  -127  -116   -83   -51  4  \n",
              "1   146   152   157   156   154   143   129  1  \n",
              "2    48    19   -12   -30   -35   -35   -36  5  \n",
              "3   -80   -77   -85   -77   -72   -69   -65  5  \n",
              "4   -12   -32   -41   -65   -83   -89   -73  5  \n",
              "\n",
              "[5 rows x 180 columns]"
            ]
          },
          "execution_count": 25,
          "metadata": {},
          "output_type": "execute_result"
        }
      ],
      "source": [
        "df.head()"
      ]
    },
    {
      "cell_type": "code",
      "execution_count": 26,
      "metadata": {
        "colab": {
          "base_uri": "https://localhost:8080/"
        },
        "id": "p59Eq7pNiAXM",
        "outputId": "a502d723-8562-4a52-bafb-d40f3bd4d6c1"
      },
      "outputs": [
        {
          "name": "stdout",
          "output_type": "stream",
          "text": [
            "<class 'pandas.core.frame.DataFrame'>\n",
            "RangeIndex: 11500 entries, 0 to 11499\n",
            "Columns: 180 entries, Unnamed to y\n",
            "dtypes: int64(179), object(1)\n",
            "memory usage: 15.8+ MB\n"
          ]
        }
      ],
      "source": [
        "df.info()"
      ]
    },
    {
      "cell_type": "code",
      "execution_count": 27,
      "metadata": {
        "colab": {
          "base_uri": "https://localhost:8080/"
        },
        "id": "7ieXq6ECBG6S",
        "outputId": "2b3434e9-2353-43d2-9704-dadb03870302"
      },
      "outputs": [
        {
          "data": {
            "text/plain": [
              "(11500, 180)"
            ]
          },
          "execution_count": 27,
          "metadata": {},
          "output_type": "execute_result"
        }
      ],
      "source": [
        "df.shape"
      ]
    },
    {
      "cell_type": "markdown",
      "metadata": {
        "id": "91Bft518K9DX"
      },
      "source": [
        "\"Remove Unnamed\" column (it has information which we don't need)"
      ]
    },
    {
      "cell_type": "code",
      "execution_count": 28,
      "metadata": {
        "id": "gEYOpgciFWzB"
      },
      "outputs": [],
      "source": [
        "df.drop('Unnamed', axis=1, inplace=True)"
      ]
    },
    {
      "cell_type": "code",
      "execution_count": 29,
      "metadata": {
        "colab": {
          "base_uri": "https://localhost:8080/"
        },
        "id": "cMYz9U2ZiNop",
        "outputId": "60aa8fd6-54a7-482e-d34c-bd3eeb5da409"
      },
      "outputs": [
        {
          "data": {
            "text/plain": [
              "0"
            ]
          },
          "execution_count": 29,
          "metadata": {},
          "output_type": "execute_result"
        }
      ],
      "source": [
        "df.isna().sum().sum()"
      ]
    },
    {
      "cell_type": "code",
      "execution_count": 30,
      "metadata": {
        "colab": {
          "base_uri": "https://localhost:8080/"
        },
        "id": "x0grFyYliP4I",
        "outputId": "d0c55041-ee48-448a-d604-4f32dd7f662d"
      },
      "outputs": [
        {
          "data": {
            "text/plain": [
              "0"
            ]
          },
          "execution_count": 30,
          "metadata": {},
          "output_type": "execute_result"
        }
      ],
      "source": [
        "df.duplicated().sum()"
      ]
    },
    {
      "cell_type": "code",
      "execution_count": 31,
      "metadata": {
        "colab": {
          "base_uri": "https://localhost:8080/",
          "height": 350
        },
        "id": "h-En5rCIFcM0",
        "outputId": "d60c276c-50dc-4f10-9384-44e6cd2fedc1"
      },
      "outputs": [
        {
          "data": {
            "text/html": [
              "<div>\n",
              "<style scoped>\n",
              "    .dataframe tbody tr th:only-of-type {\n",
              "        vertical-align: middle;\n",
              "    }\n",
              "\n",
              "    .dataframe tbody tr th {\n",
              "        vertical-align: top;\n",
              "    }\n",
              "\n",
              "    .dataframe thead th {\n",
              "        text-align: right;\n",
              "    }\n",
              "</style>\n",
              "<table border=\"1\" class=\"dataframe\">\n",
              "  <thead>\n",
              "    <tr style=\"text-align: right;\">\n",
              "      <th></th>\n",
              "      <th>X1</th>\n",
              "      <th>X2</th>\n",
              "      <th>X3</th>\n",
              "      <th>X4</th>\n",
              "      <th>X5</th>\n",
              "      <th>X6</th>\n",
              "      <th>X7</th>\n",
              "      <th>X8</th>\n",
              "      <th>X9</th>\n",
              "      <th>X10</th>\n",
              "      <th>...</th>\n",
              "      <th>X170</th>\n",
              "      <th>X171</th>\n",
              "      <th>X172</th>\n",
              "      <th>X173</th>\n",
              "      <th>X174</th>\n",
              "      <th>X175</th>\n",
              "      <th>X176</th>\n",
              "      <th>X177</th>\n",
              "      <th>X178</th>\n",
              "      <th>y</th>\n",
              "    </tr>\n",
              "  </thead>\n",
              "  <tbody>\n",
              "    <tr>\n",
              "      <th>count</th>\n",
              "      <td>11500.000000</td>\n",
              "      <td>11500.000000</td>\n",
              "      <td>11500.000000</td>\n",
              "      <td>11500.000000</td>\n",
              "      <td>11500.000000</td>\n",
              "      <td>11500.000000</td>\n",
              "      <td>11500.000000</td>\n",
              "      <td>11500.00000</td>\n",
              "      <td>11500.00000</td>\n",
              "      <td>11500.000000</td>\n",
              "      <td>...</td>\n",
              "      <td>11500.000000</td>\n",
              "      <td>11500.000000</td>\n",
              "      <td>11500.000000</td>\n",
              "      <td>11500.000000</td>\n",
              "      <td>11500.000000</td>\n",
              "      <td>11500.000000</td>\n",
              "      <td>11500.000000</td>\n",
              "      <td>11500.000000</td>\n",
              "      <td>11500.000000</td>\n",
              "      <td>11500.000000</td>\n",
              "    </tr>\n",
              "    <tr>\n",
              "      <th>mean</th>\n",
              "      <td>-11.581391</td>\n",
              "      <td>-10.911565</td>\n",
              "      <td>-10.187130</td>\n",
              "      <td>-9.143043</td>\n",
              "      <td>-8.009739</td>\n",
              "      <td>-7.003478</td>\n",
              "      <td>-6.502087</td>\n",
              "      <td>-6.68713</td>\n",
              "      <td>-6.55800</td>\n",
              "      <td>-6.168435</td>\n",
              "      <td>...</td>\n",
              "      <td>-10.145739</td>\n",
              "      <td>-11.630348</td>\n",
              "      <td>-12.943478</td>\n",
              "      <td>-13.668870</td>\n",
              "      <td>-13.363304</td>\n",
              "      <td>-13.045043</td>\n",
              "      <td>-12.705130</td>\n",
              "      <td>-12.426000</td>\n",
              "      <td>-12.195652</td>\n",
              "      <td>3.000000</td>\n",
              "    </tr>\n",
              "    <tr>\n",
              "      <th>std</th>\n",
              "      <td>165.626284</td>\n",
              "      <td>166.059609</td>\n",
              "      <td>163.524317</td>\n",
              "      <td>161.269041</td>\n",
              "      <td>160.998007</td>\n",
              "      <td>161.328725</td>\n",
              "      <td>161.467837</td>\n",
              "      <td>162.11912</td>\n",
              "      <td>162.03336</td>\n",
              "      <td>160.436352</td>\n",
              "      <td>...</td>\n",
              "      <td>164.652883</td>\n",
              "      <td>166.149790</td>\n",
              "      <td>168.554058</td>\n",
              "      <td>168.556486</td>\n",
              "      <td>167.257290</td>\n",
              "      <td>164.241019</td>\n",
              "      <td>162.895832</td>\n",
              "      <td>162.886311</td>\n",
              "      <td>164.852015</td>\n",
              "      <td>1.414275</td>\n",
              "    </tr>\n",
              "    <tr>\n",
              "      <th>min</th>\n",
              "      <td>-1839.000000</td>\n",
              "      <td>-1838.000000</td>\n",
              "      <td>-1835.000000</td>\n",
              "      <td>-1845.000000</td>\n",
              "      <td>-1791.000000</td>\n",
              "      <td>-1757.000000</td>\n",
              "      <td>-1832.000000</td>\n",
              "      <td>-1778.00000</td>\n",
              "      <td>-1840.00000</td>\n",
              "      <td>-1867.000000</td>\n",
              "      <td>...</td>\n",
              "      <td>-1867.000000</td>\n",
              "      <td>-1865.000000</td>\n",
              "      <td>-1642.000000</td>\n",
              "      <td>-1723.000000</td>\n",
              "      <td>-1866.000000</td>\n",
              "      <td>-1863.000000</td>\n",
              "      <td>-1781.000000</td>\n",
              "      <td>-1727.000000</td>\n",
              "      <td>-1829.000000</td>\n",
              "      <td>1.000000</td>\n",
              "    </tr>\n",
              "    <tr>\n",
              "      <th>25%</th>\n",
              "      <td>-54.000000</td>\n",
              "      <td>-55.000000</td>\n",
              "      <td>-54.000000</td>\n",
              "      <td>-54.000000</td>\n",
              "      <td>-54.000000</td>\n",
              "      <td>-54.000000</td>\n",
              "      <td>-54.000000</td>\n",
              "      <td>-55.00000</td>\n",
              "      <td>-55.00000</td>\n",
              "      <td>-54.000000</td>\n",
              "      <td>...</td>\n",
              "      <td>-55.000000</td>\n",
              "      <td>-56.000000</td>\n",
              "      <td>-56.000000</td>\n",
              "      <td>-56.000000</td>\n",
              "      <td>-55.000000</td>\n",
              "      <td>-56.000000</td>\n",
              "      <td>-55.000000</td>\n",
              "      <td>-55.000000</td>\n",
              "      <td>-55.000000</td>\n",
              "      <td>2.000000</td>\n",
              "    </tr>\n",
              "    <tr>\n",
              "      <th>50%</th>\n",
              "      <td>-8.000000</td>\n",
              "      <td>-8.000000</td>\n",
              "      <td>-7.000000</td>\n",
              "      <td>-8.000000</td>\n",
              "      <td>-8.000000</td>\n",
              "      <td>-8.000000</td>\n",
              "      <td>-8.000000</td>\n",
              "      <td>-8.00000</td>\n",
              "      <td>-7.00000</td>\n",
              "      <td>-7.000000</td>\n",
              "      <td>...</td>\n",
              "      <td>-9.000000</td>\n",
              "      <td>-10.000000</td>\n",
              "      <td>-10.000000</td>\n",
              "      <td>-10.000000</td>\n",
              "      <td>-10.000000</td>\n",
              "      <td>-9.000000</td>\n",
              "      <td>-9.000000</td>\n",
              "      <td>-9.000000</td>\n",
              "      <td>-9.000000</td>\n",
              "      <td>3.000000</td>\n",
              "    </tr>\n",
              "    <tr>\n",
              "      <th>75%</th>\n",
              "      <td>34.000000</td>\n",
              "      <td>35.000000</td>\n",
              "      <td>36.000000</td>\n",
              "      <td>36.000000</td>\n",
              "      <td>35.000000</td>\n",
              "      <td>36.000000</td>\n",
              "      <td>35.000000</td>\n",
              "      <td>36.00000</td>\n",
              "      <td>36.00000</td>\n",
              "      <td>35.250000</td>\n",
              "      <td>...</td>\n",
              "      <td>34.000000</td>\n",
              "      <td>34.000000</td>\n",
              "      <td>33.000000</td>\n",
              "      <td>33.000000</td>\n",
              "      <td>34.000000</td>\n",
              "      <td>34.000000</td>\n",
              "      <td>34.000000</td>\n",
              "      <td>34.000000</td>\n",
              "      <td>34.000000</td>\n",
              "      <td>4.000000</td>\n",
              "    </tr>\n",
              "    <tr>\n",
              "      <th>max</th>\n",
              "      <td>1726.000000</td>\n",
              "      <td>1713.000000</td>\n",
              "      <td>1697.000000</td>\n",
              "      <td>1612.000000</td>\n",
              "      <td>1518.000000</td>\n",
              "      <td>1816.000000</td>\n",
              "      <td>2047.000000</td>\n",
              "      <td>2047.00000</td>\n",
              "      <td>2047.00000</td>\n",
              "      <td>2047.000000</td>\n",
              "      <td>...</td>\n",
              "      <td>1777.000000</td>\n",
              "      <td>1472.000000</td>\n",
              "      <td>1319.000000</td>\n",
              "      <td>1436.000000</td>\n",
              "      <td>1733.000000</td>\n",
              "      <td>1958.000000</td>\n",
              "      <td>2047.000000</td>\n",
              "      <td>2047.000000</td>\n",
              "      <td>1915.000000</td>\n",
              "      <td>5.000000</td>\n",
              "    </tr>\n",
              "  </tbody>\n",
              "</table>\n",
              "<p>8 rows × 179 columns</p>\n",
              "</div>"
            ],
            "text/plain": [
              "                 X1            X2            X3            X4            X5  \\\n",
              "count  11500.000000  11500.000000  11500.000000  11500.000000  11500.000000   \n",
              "mean     -11.581391    -10.911565    -10.187130     -9.143043     -8.009739   \n",
              "std      165.626284    166.059609    163.524317    161.269041    160.998007   \n",
              "min    -1839.000000  -1838.000000  -1835.000000  -1845.000000  -1791.000000   \n",
              "25%      -54.000000    -55.000000    -54.000000    -54.000000    -54.000000   \n",
              "50%       -8.000000     -8.000000     -7.000000     -8.000000     -8.000000   \n",
              "75%       34.000000     35.000000     36.000000     36.000000     35.000000   \n",
              "max     1726.000000   1713.000000   1697.000000   1612.000000   1518.000000   \n",
              "\n",
              "                 X6            X7           X8           X9           X10  \\\n",
              "count  11500.000000  11500.000000  11500.00000  11500.00000  11500.000000   \n",
              "mean      -7.003478     -6.502087     -6.68713     -6.55800     -6.168435   \n",
              "std      161.328725    161.467837    162.11912    162.03336    160.436352   \n",
              "min    -1757.000000  -1832.000000  -1778.00000  -1840.00000  -1867.000000   \n",
              "25%      -54.000000    -54.000000    -55.00000    -55.00000    -54.000000   \n",
              "50%       -8.000000     -8.000000     -8.00000     -7.00000     -7.000000   \n",
              "75%       36.000000     35.000000     36.00000     36.00000     35.250000   \n",
              "max     1816.000000   2047.000000   2047.00000   2047.00000   2047.000000   \n",
              "\n",
              "       ...          X170          X171          X172          X173  \\\n",
              "count  ...  11500.000000  11500.000000  11500.000000  11500.000000   \n",
              "mean   ...    -10.145739    -11.630348    -12.943478    -13.668870   \n",
              "std    ...    164.652883    166.149790    168.554058    168.556486   \n",
              "min    ...  -1867.000000  -1865.000000  -1642.000000  -1723.000000   \n",
              "25%    ...    -55.000000    -56.000000    -56.000000    -56.000000   \n",
              "50%    ...     -9.000000    -10.000000    -10.000000    -10.000000   \n",
              "75%    ...     34.000000     34.000000     33.000000     33.000000   \n",
              "max    ...   1777.000000   1472.000000   1319.000000   1436.000000   \n",
              "\n",
              "               X174          X175          X176          X177          X178  \\\n",
              "count  11500.000000  11500.000000  11500.000000  11500.000000  11500.000000   \n",
              "mean     -13.363304    -13.045043    -12.705130    -12.426000    -12.195652   \n",
              "std      167.257290    164.241019    162.895832    162.886311    164.852015   \n",
              "min    -1866.000000  -1863.000000  -1781.000000  -1727.000000  -1829.000000   \n",
              "25%      -55.000000    -56.000000    -55.000000    -55.000000    -55.000000   \n",
              "50%      -10.000000     -9.000000     -9.000000     -9.000000     -9.000000   \n",
              "75%       34.000000     34.000000     34.000000     34.000000     34.000000   \n",
              "max     1733.000000   1958.000000   2047.000000   2047.000000   1915.000000   \n",
              "\n",
              "                  y  \n",
              "count  11500.000000  \n",
              "mean       3.000000  \n",
              "std        1.414275  \n",
              "min        1.000000  \n",
              "25%        2.000000  \n",
              "50%        3.000000  \n",
              "75%        4.000000  \n",
              "max        5.000000  \n",
              "\n",
              "[8 rows x 179 columns]"
            ]
          },
          "execution_count": 31,
          "metadata": {},
          "output_type": "execute_result"
        }
      ],
      "source": [
        "df.describe()"
      ]
    },
    {
      "cell_type": "code",
      "execution_count": 32,
      "metadata": {
        "colab": {
          "base_uri": "https://localhost:8080/",
          "height": 241
        },
        "id": "jY02f1E65efl",
        "outputId": "2ef9d9b0-3dcd-460f-f903-21e293222f1b"
      },
      "outputs": [
        {
          "data": {
            "text/plain": [
              "0         eyes closed\n",
              "1    seizure activity\n",
              "2           eyes open\n",
              "3           eyes open\n",
              "4           eyes open\n",
              "Name: y, dtype: object"
            ]
          },
          "execution_count": 32,
          "metadata": {},
          "output_type": "execute_result"
        }
      ],
      "source": [
        "# mapping name of coloumn to be understanding in visualization\n",
        "class_labels = {\n",
        "    5: 'eyes open',\n",
        "    4: 'eyes closed',\n",
        "    3: 'tumor region identified',\n",
        "    2: 'EEG from tumor area',\n",
        "    1: 'seizure activity'\n",
        "}\n",
        "df['y'] = df['y'].map(class_labels)\n",
        "df['y'].head()"
      ]
    },
    {
      "cell_type": "code",
      "execution_count": 33,
      "metadata": {
        "colab": {
          "base_uri": "https://localhost:8080/",
          "height": 560
        },
        "id": "_JF3zkwMiZft",
        "outputId": "57704d84-b7ff-4918-b86d-f0b2650a78a1"
      },
      "outputs": [
        {
          "data": {
            "application/vnd.plotly.v1+json": {
              "config": {
                "plotlyServerURL": "https://plot.ly"
              },
              "data": [
                {
                  "domain": {
                    "x": [
                      0,
                      1
                    ],
                    "y": [
                      0,
                      1
                    ]
                  },
                  "hole": 0.3,
                  "hovertemplate": "label=%{label}<br>value=%{value}<extra></extra>",
                  "labels": [
                    "eyes closed",
                    "seizure activity",
                    "eyes open",
                    "EEG from tumor area",
                    "tumor region identified"
                  ],
                  "legendgroup": "",
                  "name": "",
                  "showlegend": true,
                  "type": "pie",
                  "values": [
                    2300,
                    2300,
                    2300,
                    2300,
                    2300
                  ]
                }
              ],
              "layout": {
                "legend": {
                  "tracegroupgap": 0
                },
                "template": {
                  "data": {
                    "bar": [
                      {
                        "error_x": {
                          "color": "#2a3f5f"
                        },
                        "error_y": {
                          "color": "#2a3f5f"
                        },
                        "marker": {
                          "line": {
                            "color": "#E5ECF6",
                            "width": 0.5
                          },
                          "pattern": {
                            "fillmode": "overlay",
                            "size": 10,
                            "solidity": 0.2
                          }
                        },
                        "type": "bar"
                      }
                    ],
                    "barpolar": [
                      {
                        "marker": {
                          "line": {
                            "color": "#E5ECF6",
                            "width": 0.5
                          },
                          "pattern": {
                            "fillmode": "overlay",
                            "size": 10,
                            "solidity": 0.2
                          }
                        },
                        "type": "barpolar"
                      }
                    ],
                    "carpet": [
                      {
                        "aaxis": {
                          "endlinecolor": "#2a3f5f",
                          "gridcolor": "white",
                          "linecolor": "white",
                          "minorgridcolor": "white",
                          "startlinecolor": "#2a3f5f"
                        },
                        "baxis": {
                          "endlinecolor": "#2a3f5f",
                          "gridcolor": "white",
                          "linecolor": "white",
                          "minorgridcolor": "white",
                          "startlinecolor": "#2a3f5f"
                        },
                        "type": "carpet"
                      }
                    ],
                    "choropleth": [
                      {
                        "colorbar": {
                          "outlinewidth": 0,
                          "ticks": ""
                        },
                        "type": "choropleth"
                      }
                    ],
                    "contour": [
                      {
                        "colorbar": {
                          "outlinewidth": 0,
                          "ticks": ""
                        },
                        "colorscale": [
                          [
                            0,
                            "#0d0887"
                          ],
                          [
                            0.1111111111111111,
                            "#46039f"
                          ],
                          [
                            0.2222222222222222,
                            "#7201a8"
                          ],
                          [
                            0.3333333333333333,
                            "#9c179e"
                          ],
                          [
                            0.4444444444444444,
                            "#bd3786"
                          ],
                          [
                            0.5555555555555556,
                            "#d8576b"
                          ],
                          [
                            0.6666666666666666,
                            "#ed7953"
                          ],
                          [
                            0.7777777777777778,
                            "#fb9f3a"
                          ],
                          [
                            0.8888888888888888,
                            "#fdca26"
                          ],
                          [
                            1,
                            "#f0f921"
                          ]
                        ],
                        "type": "contour"
                      }
                    ],
                    "contourcarpet": [
                      {
                        "colorbar": {
                          "outlinewidth": 0,
                          "ticks": ""
                        },
                        "type": "contourcarpet"
                      }
                    ],
                    "heatmap": [
                      {
                        "colorbar": {
                          "outlinewidth": 0,
                          "ticks": ""
                        },
                        "colorscale": [
                          [
                            0,
                            "#0d0887"
                          ],
                          [
                            0.1111111111111111,
                            "#46039f"
                          ],
                          [
                            0.2222222222222222,
                            "#7201a8"
                          ],
                          [
                            0.3333333333333333,
                            "#9c179e"
                          ],
                          [
                            0.4444444444444444,
                            "#bd3786"
                          ],
                          [
                            0.5555555555555556,
                            "#d8576b"
                          ],
                          [
                            0.6666666666666666,
                            "#ed7953"
                          ],
                          [
                            0.7777777777777778,
                            "#fb9f3a"
                          ],
                          [
                            0.8888888888888888,
                            "#fdca26"
                          ],
                          [
                            1,
                            "#f0f921"
                          ]
                        ],
                        "type": "heatmap"
                      }
                    ],
                    "heatmapgl": [
                      {
                        "colorbar": {
                          "outlinewidth": 0,
                          "ticks": ""
                        },
                        "colorscale": [
                          [
                            0,
                            "#0d0887"
                          ],
                          [
                            0.1111111111111111,
                            "#46039f"
                          ],
                          [
                            0.2222222222222222,
                            "#7201a8"
                          ],
                          [
                            0.3333333333333333,
                            "#9c179e"
                          ],
                          [
                            0.4444444444444444,
                            "#bd3786"
                          ],
                          [
                            0.5555555555555556,
                            "#d8576b"
                          ],
                          [
                            0.6666666666666666,
                            "#ed7953"
                          ],
                          [
                            0.7777777777777778,
                            "#fb9f3a"
                          ],
                          [
                            0.8888888888888888,
                            "#fdca26"
                          ],
                          [
                            1,
                            "#f0f921"
                          ]
                        ],
                        "type": "heatmapgl"
                      }
                    ],
                    "histogram": [
                      {
                        "marker": {
                          "pattern": {
                            "fillmode": "overlay",
                            "size": 10,
                            "solidity": 0.2
                          }
                        },
                        "type": "histogram"
                      }
                    ],
                    "histogram2d": [
                      {
                        "colorbar": {
                          "outlinewidth": 0,
                          "ticks": ""
                        },
                        "colorscale": [
                          [
                            0,
                            "#0d0887"
                          ],
                          [
                            0.1111111111111111,
                            "#46039f"
                          ],
                          [
                            0.2222222222222222,
                            "#7201a8"
                          ],
                          [
                            0.3333333333333333,
                            "#9c179e"
                          ],
                          [
                            0.4444444444444444,
                            "#bd3786"
                          ],
                          [
                            0.5555555555555556,
                            "#d8576b"
                          ],
                          [
                            0.6666666666666666,
                            "#ed7953"
                          ],
                          [
                            0.7777777777777778,
                            "#fb9f3a"
                          ],
                          [
                            0.8888888888888888,
                            "#fdca26"
                          ],
                          [
                            1,
                            "#f0f921"
                          ]
                        ],
                        "type": "histogram2d"
                      }
                    ],
                    "histogram2dcontour": [
                      {
                        "colorbar": {
                          "outlinewidth": 0,
                          "ticks": ""
                        },
                        "colorscale": [
                          [
                            0,
                            "#0d0887"
                          ],
                          [
                            0.1111111111111111,
                            "#46039f"
                          ],
                          [
                            0.2222222222222222,
                            "#7201a8"
                          ],
                          [
                            0.3333333333333333,
                            "#9c179e"
                          ],
                          [
                            0.4444444444444444,
                            "#bd3786"
                          ],
                          [
                            0.5555555555555556,
                            "#d8576b"
                          ],
                          [
                            0.6666666666666666,
                            "#ed7953"
                          ],
                          [
                            0.7777777777777778,
                            "#fb9f3a"
                          ],
                          [
                            0.8888888888888888,
                            "#fdca26"
                          ],
                          [
                            1,
                            "#f0f921"
                          ]
                        ],
                        "type": "histogram2dcontour"
                      }
                    ],
                    "mesh3d": [
                      {
                        "colorbar": {
                          "outlinewidth": 0,
                          "ticks": ""
                        },
                        "type": "mesh3d"
                      }
                    ],
                    "parcoords": [
                      {
                        "line": {
                          "colorbar": {
                            "outlinewidth": 0,
                            "ticks": ""
                          }
                        },
                        "type": "parcoords"
                      }
                    ],
                    "pie": [
                      {
                        "automargin": true,
                        "type": "pie"
                      }
                    ],
                    "scatter": [
                      {
                        "fillpattern": {
                          "fillmode": "overlay",
                          "size": 10,
                          "solidity": 0.2
                        },
                        "type": "scatter"
                      }
                    ],
                    "scatter3d": [
                      {
                        "line": {
                          "colorbar": {
                            "outlinewidth": 0,
                            "ticks": ""
                          }
                        },
                        "marker": {
                          "colorbar": {
                            "outlinewidth": 0,
                            "ticks": ""
                          }
                        },
                        "type": "scatter3d"
                      }
                    ],
                    "scattercarpet": [
                      {
                        "marker": {
                          "colorbar": {
                            "outlinewidth": 0,
                            "ticks": ""
                          }
                        },
                        "type": "scattercarpet"
                      }
                    ],
                    "scattergeo": [
                      {
                        "marker": {
                          "colorbar": {
                            "outlinewidth": 0,
                            "ticks": ""
                          }
                        },
                        "type": "scattergeo"
                      }
                    ],
                    "scattergl": [
                      {
                        "marker": {
                          "colorbar": {
                            "outlinewidth": 0,
                            "ticks": ""
                          }
                        },
                        "type": "scattergl"
                      }
                    ],
                    "scattermapbox": [
                      {
                        "marker": {
                          "colorbar": {
                            "outlinewidth": 0,
                            "ticks": ""
                          }
                        },
                        "type": "scattermapbox"
                      }
                    ],
                    "scatterpolar": [
                      {
                        "marker": {
                          "colorbar": {
                            "outlinewidth": 0,
                            "ticks": ""
                          }
                        },
                        "type": "scatterpolar"
                      }
                    ],
                    "scatterpolargl": [
                      {
                        "marker": {
                          "colorbar": {
                            "outlinewidth": 0,
                            "ticks": ""
                          }
                        },
                        "type": "scatterpolargl"
                      }
                    ],
                    "scatterternary": [
                      {
                        "marker": {
                          "colorbar": {
                            "outlinewidth": 0,
                            "ticks": ""
                          }
                        },
                        "type": "scatterternary"
                      }
                    ],
                    "surface": [
                      {
                        "colorbar": {
                          "outlinewidth": 0,
                          "ticks": ""
                        },
                        "colorscale": [
                          [
                            0,
                            "#0d0887"
                          ],
                          [
                            0.1111111111111111,
                            "#46039f"
                          ],
                          [
                            0.2222222222222222,
                            "#7201a8"
                          ],
                          [
                            0.3333333333333333,
                            "#9c179e"
                          ],
                          [
                            0.4444444444444444,
                            "#bd3786"
                          ],
                          [
                            0.5555555555555556,
                            "#d8576b"
                          ],
                          [
                            0.6666666666666666,
                            "#ed7953"
                          ],
                          [
                            0.7777777777777778,
                            "#fb9f3a"
                          ],
                          [
                            0.8888888888888888,
                            "#fdca26"
                          ],
                          [
                            1,
                            "#f0f921"
                          ]
                        ],
                        "type": "surface"
                      }
                    ],
                    "table": [
                      {
                        "cells": {
                          "fill": {
                            "color": "#EBF0F8"
                          },
                          "line": {
                            "color": "white"
                          }
                        },
                        "header": {
                          "fill": {
                            "color": "#C8D4E3"
                          },
                          "line": {
                            "color": "white"
                          }
                        },
                        "type": "table"
                      }
                    ]
                  },
                  "layout": {
                    "annotationdefaults": {
                      "arrowcolor": "#2a3f5f",
                      "arrowhead": 0,
                      "arrowwidth": 1
                    },
                    "autotypenumbers": "strict",
                    "coloraxis": {
                      "colorbar": {
                        "outlinewidth": 0,
                        "ticks": ""
                      }
                    },
                    "colorscale": {
                      "diverging": [
                        [
                          0,
                          "#8e0152"
                        ],
                        [
                          0.1,
                          "#c51b7d"
                        ],
                        [
                          0.2,
                          "#de77ae"
                        ],
                        [
                          0.3,
                          "#f1b6da"
                        ],
                        [
                          0.4,
                          "#fde0ef"
                        ],
                        [
                          0.5,
                          "#f7f7f7"
                        ],
                        [
                          0.6,
                          "#e6f5d0"
                        ],
                        [
                          0.7,
                          "#b8e186"
                        ],
                        [
                          0.8,
                          "#7fbc41"
                        ],
                        [
                          0.9,
                          "#4d9221"
                        ],
                        [
                          1,
                          "#276419"
                        ]
                      ],
                      "sequential": [
                        [
                          0,
                          "#0d0887"
                        ],
                        [
                          0.1111111111111111,
                          "#46039f"
                        ],
                        [
                          0.2222222222222222,
                          "#7201a8"
                        ],
                        [
                          0.3333333333333333,
                          "#9c179e"
                        ],
                        [
                          0.4444444444444444,
                          "#bd3786"
                        ],
                        [
                          0.5555555555555556,
                          "#d8576b"
                        ],
                        [
                          0.6666666666666666,
                          "#ed7953"
                        ],
                        [
                          0.7777777777777778,
                          "#fb9f3a"
                        ],
                        [
                          0.8888888888888888,
                          "#fdca26"
                        ],
                        [
                          1,
                          "#f0f921"
                        ]
                      ],
                      "sequentialminus": [
                        [
                          0,
                          "#0d0887"
                        ],
                        [
                          0.1111111111111111,
                          "#46039f"
                        ],
                        [
                          0.2222222222222222,
                          "#7201a8"
                        ],
                        [
                          0.3333333333333333,
                          "#9c179e"
                        ],
                        [
                          0.4444444444444444,
                          "#bd3786"
                        ],
                        [
                          0.5555555555555556,
                          "#d8576b"
                        ],
                        [
                          0.6666666666666666,
                          "#ed7953"
                        ],
                        [
                          0.7777777777777778,
                          "#fb9f3a"
                        ],
                        [
                          0.8888888888888888,
                          "#fdca26"
                        ],
                        [
                          1,
                          "#f0f921"
                        ]
                      ]
                    },
                    "colorway": [
                      "#636efa",
                      "#EF553B",
                      "#00cc96",
                      "#ab63fa",
                      "#FFA15A",
                      "#19d3f3",
                      "#FF6692",
                      "#B6E880",
                      "#FF97FF",
                      "#FECB52"
                    ],
                    "font": {
                      "color": "#2a3f5f"
                    },
                    "geo": {
                      "bgcolor": "white",
                      "lakecolor": "white",
                      "landcolor": "#E5ECF6",
                      "showlakes": true,
                      "showland": true,
                      "subunitcolor": "white"
                    },
                    "hoverlabel": {
                      "align": "left"
                    },
                    "hovermode": "closest",
                    "mapbox": {
                      "style": "light"
                    },
                    "paper_bgcolor": "white",
                    "plot_bgcolor": "#E5ECF6",
                    "polar": {
                      "angularaxis": {
                        "gridcolor": "white",
                        "linecolor": "white",
                        "ticks": ""
                      },
                      "bgcolor": "#E5ECF6",
                      "radialaxis": {
                        "gridcolor": "white",
                        "linecolor": "white",
                        "ticks": ""
                      }
                    },
                    "scene": {
                      "xaxis": {
                        "backgroundcolor": "#E5ECF6",
                        "gridcolor": "white",
                        "gridwidth": 2,
                        "linecolor": "white",
                        "showbackground": true,
                        "ticks": "",
                        "zerolinecolor": "white"
                      },
                      "yaxis": {
                        "backgroundcolor": "#E5ECF6",
                        "gridcolor": "white",
                        "gridwidth": 2,
                        "linecolor": "white",
                        "showbackground": true,
                        "ticks": "",
                        "zerolinecolor": "white"
                      },
                      "zaxis": {
                        "backgroundcolor": "#E5ECF6",
                        "gridcolor": "white",
                        "gridwidth": 2,
                        "linecolor": "white",
                        "showbackground": true,
                        "ticks": "",
                        "zerolinecolor": "white"
                      }
                    },
                    "shapedefaults": {
                      "line": {
                        "color": "#2a3f5f"
                      }
                    },
                    "ternary": {
                      "aaxis": {
                        "gridcolor": "white",
                        "linecolor": "white",
                        "ticks": ""
                      },
                      "baxis": {
                        "gridcolor": "white",
                        "linecolor": "white",
                        "ticks": ""
                      },
                      "bgcolor": "#E5ECF6",
                      "caxis": {
                        "gridcolor": "white",
                        "linecolor": "white",
                        "ticks": ""
                      }
                    },
                    "title": {
                      "x": 0.05
                    },
                    "xaxis": {
                      "automargin": true,
                      "gridcolor": "white",
                      "linecolor": "white",
                      "ticks": "",
                      "title": {
                        "standoff": 15
                      },
                      "zerolinecolor": "white",
                      "zerolinewidth": 2
                    },
                    "yaxis": {
                      "automargin": true,
                      "gridcolor": "white",
                      "linecolor": "white",
                      "ticks": "",
                      "title": {
                        "standoff": 15
                      },
                      "zerolinecolor": "white",
                      "zerolinewidth": 2
                    }
                  }
                },
                "title": {
                  "text": "Distribution of Classes in y"
                }
              }
            }
          },
          "metadata": {},
          "output_type": "display_data"
        },
        {
          "data": {
            "text/plain": [
              "<Figure size 1000x600 with 0 Axes>"
            ]
          },
          "metadata": {},
          "output_type": "display_data"
        }
      ],
      "source": [
        "# Count the occurrences of each class\n",
        "value_counts = df['y'].value_counts()\n",
        "\n",
        "plt.figure(figsize=(10, 6))\n",
        "# Create a pie chart using Plotly\n",
        "fig = px.pie(\n",
        "    values=value_counts,\n",
        "    names=value_counts.index,\n",
        "    title='Distribution of Classes in y',\n",
        "    labels=value_counts.index,\n",
        "    hole=0.3,  # If you want a donut chart, set hole > 0\n",
        ")\n",
        "\n",
        "# Show the plot\n",
        "fig.show()"
      ]
    },
    {
      "cell_type": "code",
      "execution_count": 34,
      "metadata": {
        "colab": {
          "base_uri": "https://localhost:8080/",
          "height": 1000
        },
        "id": "mdLeRLBPpPWT",
        "outputId": "7fa3f138-cd00-4ead-c127-a67c62a872ef"
      },
      "outputs": [
        {
          "data": {
            "application/vnd.plotly.v1+json": {
              "config": {
                "plotlyServerURL": "https://plot.ly"
              },
              "data": [
                {
                  "mode": "lines",
                  "name": "Class eyes closed",
                  "type": "scatter",
                  "xaxis": "x",
                  "y": [
                    -23,
                    -21,
                    -16,
                    -4,
                    19,
                    46,
                    62,
                    75,
                    61,
                    43,
                    32,
                    19,
                    4,
                    -8,
                    -14,
                    -40,
                    -63,
                    -74,
                    -58,
                    -23,
                    40,
                    114,
                    165,
                    189,
                    180,
                    147,
                    90,
                    32,
                    -36,
                    -96,
                    -138,
                    -153,
                    -133,
                    -101,
                    -45,
                    35,
                    98,
                    152,
                    188,
                    200,
                    193,
                    172,
                    132,
                    89,
                    39,
                    -15,
                    -78,
                    -146,
                    -194,
                    -201,
                    -176,
                    -105,
                    -26,
                    36,
                    76,
                    111,
                    128,
                    132,
                    103,
                    34,
                    -65,
                    -172,
                    -237,
                    -233,
                    -183,
                    -98,
                    -26,
                    23,
                    53,
                    76,
                    81,
                    69,
                    55,
                    49,
                    29,
                    1,
                    -32,
                    -57,
                    -74,
                    -73,
                    -61,
                    -43,
                    -31,
                    -18,
                    6,
                    45,
                    107,
                    162,
                    168,
                    133,
                    59,
                    -30,
                    -114,
                    -165,
                    -181,
                    -164,
                    -114,
                    -47,
                    11,
                    50,
                    62,
                    57,
                    32,
                    13,
                    -5,
                    -37,
                    -83,
                    -140,
                    -172,
                    -184,
                    -162,
                    -118,
                    -55,
                    9,
                    66,
                    107,
                    115,
                    103,
                    78,
                    39,
                    -1,
                    -32,
                    -85,
                    -152,
                    -193,
                    -201,
                    -181,
                    -143,
                    -98,
                    -54,
                    -15,
                    12,
                    47,
                    61,
                    48,
                    -1,
                    -81,
                    -146,
                    -188,
                    -189,
                    -189,
                    -174,
                    -147,
                    -120,
                    -87,
                    -49,
                    0,
                    44,
                    77,
                    82,
                    56,
                    4,
                    -49,
                    -89,
                    -127,
                    -148,
                    -151,
                    -122,
                    -82,
                    -35,
                    8,
                    23,
                    34,
                    36,
                    35,
                    17,
                    -5,
                    -40,
                    -85,
                    -124,
                    -145,
                    -151,
                    -137,
                    -106,
                    -78,
                    -54,
                    -29,
                    "eyes closed"
                  ],
                  "yaxis": "y"
                },
                {
                  "mode": "lines",
                  "name": "Class seizure activity",
                  "type": "scatter",
                  "xaxis": "x2",
                  "y": [
                    240,
                    201,
                    149,
                    113,
                    97,
                    112,
                    134,
                    165,
                    201,
                    234,
                    288,
                    318,
                    311,
                    127,
                    -63,
                    -229,
                    -227,
                    -182,
                    -199,
                    -289,
                    -390,
                    -432,
                    -426,
                    -408,
                    -353,
                    -280,
                    -184,
                    -83,
                    4,
                    81,
                    137,
                    173,
                    201,
                    214,
                    228,
                    245,
                    225,
                    172,
                    92,
                    33,
                    26,
                    46,
                    86,
                    126,
                    175,
                    243,
                    306,
                    328,
                    315,
                    276,
                    211,
                    268,
                    294,
                    340,
                    234,
                    13,
                    -212,
                    -374,
                    -439,
                    -432,
                    -402,
                    -359,
                    -322,
                    -269,
                    -215,
                    -153,
                    -92,
                    -45,
                    -6,
                    14,
                    19,
                    20,
                    8,
                    -21,
                    -69,
                    -120,
                    -147,
                    -131,
                    -93,
                    -56,
                    -20,
                    14,
                    49,
                    89,
                    129,
                    175,
                    213,
                    243,
                    274,
                    304,
                    346,
                    383,
                    370,
                    344,
                    347,
                    403,
                    489,
                    542,
                    500,
                    318,
                    25,
                    -254,
                    -441,
                    -505,
                    -499,
                    -475,
                    -451,
                    -410,
                    -357,
                    -291,
                    -245,
                    -203,
                    -119,
                    -130,
                    -151,
                    -262,
                    -315,
                    -249,
                    -128,
                    -25,
                    5,
                    -1,
                    -13,
                    -11,
                    -25,
                    -54,
                    -78,
                    -98,
                    -127,
                    -203,
                    -281,
                    -336,
                    -340,
                    -286,
                    -287,
                    -312,
                    -397,
                    -449,
                    -429,
                    -354,
                    -238,
                    -113,
                    -5,
                    73,
                    114,
                    143,
                    174,
                    224,
                    275,
                    298,
                    275,
                    188,
                    31,
                    -204,
                    -436,
                    -597,
                    -619,
                    -509,
                    -292,
                    -73,
                    109,
                    246,
                    324,
                    300,
                    102,
                    -204,
                    -290,
                    -216,
                    -55,
                    48,
                    69,
                    137,
                    232,
                    284,
                    298,
                    286,
                    272,
                    "seizure activity"
                  ],
                  "yaxis": "y2"
                },
                {
                  "mode": "lines",
                  "name": "Class eyes open",
                  "type": "scatter",
                  "xaxis": "x3",
                  "y": [
                    -3,
                    -2,
                    -5,
                    -15,
                    -27,
                    -37,
                    -54,
                    -86,
                    -121,
                    -141,
                    -131,
                    -101,
                    -84,
                    -74,
                    -82,
                    -85,
                    -75,
                    -44,
                    -15,
                    -11,
                    -8,
                    -24,
                    -38,
                    -41,
                    -42,
                    -35,
                    -35,
                    -15,
                    -3,
                    14,
                    30,
                    48,
                    52,
                    29,
                    6,
                    -14,
                    -27,
                    -35,
                    -38,
                    -51,
                    -54,
                    -38,
                    -3,
                    33,
                    56,
                    67,
                    55,
                    41,
                    34,
                    34,
                    29,
                    16,
                    13,
                    -9,
                    -18,
                    1,
                    26,
                    54,
                    63,
                    49,
                    29,
                    19,
                    23,
                    38,
                    36,
                    27,
                    10,
                    -13,
                    -29,
                    -28,
                    -20,
                    -30,
                    -30,
                    -22,
                    0,
                    25,
                    47,
                    40,
                    21,
                    10,
                    -3,
                    -15,
                    -29,
                    -46,
                    -64,
                    -78,
                    -72,
                    -51,
                    -32,
                    -13,
                    -2,
                    0,
                    -1,
                    16,
                    37,
                    56,
                    50,
                    17,
                    -22,
                    -46,
                    -40,
                    -26,
                    -8,
                    -3,
                    2,
                    6,
                    23,
                    56,
                    77,
                    71,
                    42,
                    17,
                    -6,
                    -7,
                    1,
                    9,
                    4,
                    -4,
                    -2,
                    5,
                    18,
                    39,
                    55,
                    59,
                    55,
                    52,
                    37,
                    27,
                    14,
                    3,
                    -7,
                    -16,
                    -21,
                    -15,
                    -2,
                    10,
                    11,
                    1,
                    -11,
                    -18,
                    -28,
                    -26,
                    -19,
                    -11,
                    -4,
                    22,
                    47,
                    71,
                    76,
                    71,
                    50,
                    22,
                    12,
                    15,
                    31,
                    35,
                    28,
                    7,
                    -19,
                    -19,
                    -9,
                    0,
                    6,
                    7,
                    -10,
                    -24,
                    -32,
                    -36,
                    -41,
                    -44,
                    -34,
                    -24,
                    -9,
                    7,
                    3,
                    -10,
                    -22,
                    "eyes open"
                  ],
                  "yaxis": "y3"
                },
                {
                  "mode": "lines",
                  "name": "Class EEG from tumor area",
                  "type": "scatter",
                  "xaxis": "x4",
                  "y": [
                    4,
                    2,
                    9,
                    14,
                    26,
                    36,
                    48,
                    52,
                    56,
                    59,
                    55,
                    51,
                    43,
                    36,
                    29,
                    31,
                    39,
                    37,
                    34,
                    26,
                    23,
                    23,
                    35,
                    44,
                    50,
                    54,
                    63,
                    71,
                    76,
                    78,
                    73,
                    74,
                    85,
                    100,
                    109,
                    107,
                    107,
                    101,
                    91,
                    80,
                    67,
                    49,
                    29,
                    12,
                    4,
                    -4,
                    -13,
                    -11,
                    2,
                    30,
                    50,
                    57,
                    52,
                    40,
                    32,
                    22,
                    22,
                    26,
                    31,
                    34,
                    45,
                    60,
                    74,
                    84,
                    89,
                    80,
                    65,
                    49,
                    38,
                    26,
                    13,
                    -6,
                    -34,
                    -54,
                    -61,
                    -53,
                    -41,
                    -32,
                    -13,
                    4,
                    20,
                    34,
                    41,
                    45,
                    41,
                    40,
                    34,
                    20,
                    11,
                    6,
                    0,
                    0,
                    3,
                    7,
                    14,
                    26,
                    32,
                    35,
                    36,
                    35,
                    36,
                    35,
                    40,
                    44,
                    44,
                    42,
                    42,
                    40,
                    37,
                    38,
                    37,
                    36,
                    35,
                    35,
                    32,
                    34,
                    35,
                    26,
                    7,
                    -9,
                    -17,
                    -24,
                    -22,
                    -16,
                    -11,
                    -5,
                    2,
                    17,
                    23,
                    33,
                    42,
                    44,
                    43,
                    39,
                    37,
                    28,
                    23,
                    14,
                    3,
                    -5,
                    -10,
                    -12,
                    -14,
                    -11,
                    -2,
                    5,
                    9,
                    10,
                    10,
                    8,
                    10,
                    14,
                    21,
                    20,
                    21,
                    21,
                    24,
                    26,
                    29,
                    29,
                    28,
                    33,
                    31,
                    28,
                    26,
                    25,
                    22,
                    19,
                    19,
                    21,
                    13,
                    11,
                    11,
                    7,
                    5,
                    7,
                    4,
                    "EEG from tumor area"
                  ],
                  "yaxis": "y4"
                },
                {
                  "mode": "lines",
                  "name": "Class tumor region identified",
                  "type": "scatter",
                  "xaxis": "x5",
                  "y": [
                    -42,
                    -28,
                    -22,
                    0,
                    29,
                    37,
                    46,
                    78,
                    61,
                    48,
                    32,
                    14,
                    29,
                    50,
                    62,
                    48,
                    24,
                    -6,
                    -27,
                    -29,
                    -44,
                    -59,
                    -66,
                    -67,
                    -46,
                    -27,
                    -23,
                    -24,
                    -26,
                    -28,
                    -7,
                    -5,
                    -34,
                    -55,
                    -64,
                    -56,
                    -38,
                    -38,
                    0,
                    25,
                    40,
                    42,
                    11,
                    -22,
                    -37,
                    -26,
                    -26,
                    -20,
                    -45,
                    -38,
                    -33,
                    -19,
                    -13,
                    -32,
                    -55,
                    -76,
                    -85,
                    -103,
                    -96,
                    -106,
                    -124,
                    -108,
                    -87,
                    -67,
                    -76,
                    -79,
                    -92,
                    -58,
                    -43,
                    -29,
                    -11,
                    -24,
                    -20,
                    -28,
                    -75,
                    -77,
                    -104,
                    -133,
                    -145,
                    -165,
                    -168,
                    -175,
                    -180,
                    -181,
                    -178,
                    -161,
                    -98,
                    -34,
                    -2,
                    4,
                    -17,
                    -17,
                    -2,
                    10,
                    -8,
                    -42,
                    -55,
                    -60,
                    -70,
                    -84,
                    -88,
                    -81,
                    -81,
                    -74,
                    -84,
                    -69,
                    -94,
                    -118,
                    -133,
                    -149,
                    -142,
                    -132,
                    -149,
                    -138,
                    -135,
                    -125,
                    -123,
                    -117,
                    -102,
                    -89,
                    -100,
                    -114,
                    -133,
                    -137,
                    -135,
                    -113,
                    -75,
                    -36,
                    -26,
                    -48,
                    -70,
                    -65,
                    -86,
                    -119,
                    -170,
                    -190,
                    -172,
                    -153,
                    -168,
                    -160,
                    -164,
                    -152,
                    -152,
                    -191,
                    -208,
                    -199,
                    -188,
                    -156,
                    -143,
                    -107,
                    -99,
                    -117,
                    -109,
                    -117,
                    -139,
                    -172,
                    -189,
                    -175,
                    -147,
                    -124,
                    -81,
                    -70,
                    -48,
                    -45,
                    -72,
                    -81,
                    -95,
                    -115,
                    -136,
                    -138,
                    -149,
                    -163,
                    -187,
                    -191,
                    -156,
                    -94,
                    -38,
                    "tumor region identified"
                  ],
                  "yaxis": "y5"
                }
              ],
              "layout": {
                "annotations": [
                  {
                    "font": {
                      "size": 16
                    },
                    "showarrow": false,
                    "text": "Class eyes closed",
                    "x": 0.5,
                    "xanchor": "center",
                    "xref": "paper",
                    "y": 1,
                    "yanchor": "bottom",
                    "yref": "paper"
                  },
                  {
                    "font": {
                      "size": 16
                    },
                    "showarrow": false,
                    "text": "Class seizure activity",
                    "x": 0.5,
                    "xanchor": "center",
                    "xref": "paper",
                    "y": 0.78,
                    "yanchor": "bottom",
                    "yref": "paper"
                  },
                  {
                    "font": {
                      "size": 16
                    },
                    "showarrow": false,
                    "text": "Class eyes open",
                    "x": 0.5,
                    "xanchor": "center",
                    "xref": "paper",
                    "y": 0.56,
                    "yanchor": "bottom",
                    "yref": "paper"
                  },
                  {
                    "font": {
                      "size": 16
                    },
                    "showarrow": false,
                    "text": "Class EEG from tumor area",
                    "x": 0.5,
                    "xanchor": "center",
                    "xref": "paper",
                    "y": 0.33999999999999997,
                    "yanchor": "bottom",
                    "yref": "paper"
                  },
                  {
                    "font": {
                      "size": 16
                    },
                    "showarrow": false,
                    "text": "Class tumor region identified",
                    "x": 0.5,
                    "xanchor": "center",
                    "xref": "paper",
                    "y": 0.12,
                    "yanchor": "bottom",
                    "yref": "paper"
                  }
                ],
                "height": 1500,
                "showlegend": false,
                "template": {
                  "data": {
                    "bar": [
                      {
                        "error_x": {
                          "color": "#2a3f5f"
                        },
                        "error_y": {
                          "color": "#2a3f5f"
                        },
                        "marker": {
                          "line": {
                            "color": "#E5ECF6",
                            "width": 0.5
                          },
                          "pattern": {
                            "fillmode": "overlay",
                            "size": 10,
                            "solidity": 0.2
                          }
                        },
                        "type": "bar"
                      }
                    ],
                    "barpolar": [
                      {
                        "marker": {
                          "line": {
                            "color": "#E5ECF6",
                            "width": 0.5
                          },
                          "pattern": {
                            "fillmode": "overlay",
                            "size": 10,
                            "solidity": 0.2
                          }
                        },
                        "type": "barpolar"
                      }
                    ],
                    "carpet": [
                      {
                        "aaxis": {
                          "endlinecolor": "#2a3f5f",
                          "gridcolor": "white",
                          "linecolor": "white",
                          "minorgridcolor": "white",
                          "startlinecolor": "#2a3f5f"
                        },
                        "baxis": {
                          "endlinecolor": "#2a3f5f",
                          "gridcolor": "white",
                          "linecolor": "white",
                          "minorgridcolor": "white",
                          "startlinecolor": "#2a3f5f"
                        },
                        "type": "carpet"
                      }
                    ],
                    "choropleth": [
                      {
                        "colorbar": {
                          "outlinewidth": 0,
                          "ticks": ""
                        },
                        "type": "choropleth"
                      }
                    ],
                    "contour": [
                      {
                        "colorbar": {
                          "outlinewidth": 0,
                          "ticks": ""
                        },
                        "colorscale": [
                          [
                            0,
                            "#0d0887"
                          ],
                          [
                            0.1111111111111111,
                            "#46039f"
                          ],
                          [
                            0.2222222222222222,
                            "#7201a8"
                          ],
                          [
                            0.3333333333333333,
                            "#9c179e"
                          ],
                          [
                            0.4444444444444444,
                            "#bd3786"
                          ],
                          [
                            0.5555555555555556,
                            "#d8576b"
                          ],
                          [
                            0.6666666666666666,
                            "#ed7953"
                          ],
                          [
                            0.7777777777777778,
                            "#fb9f3a"
                          ],
                          [
                            0.8888888888888888,
                            "#fdca26"
                          ],
                          [
                            1,
                            "#f0f921"
                          ]
                        ],
                        "type": "contour"
                      }
                    ],
                    "contourcarpet": [
                      {
                        "colorbar": {
                          "outlinewidth": 0,
                          "ticks": ""
                        },
                        "type": "contourcarpet"
                      }
                    ],
                    "heatmap": [
                      {
                        "colorbar": {
                          "outlinewidth": 0,
                          "ticks": ""
                        },
                        "colorscale": [
                          [
                            0,
                            "#0d0887"
                          ],
                          [
                            0.1111111111111111,
                            "#46039f"
                          ],
                          [
                            0.2222222222222222,
                            "#7201a8"
                          ],
                          [
                            0.3333333333333333,
                            "#9c179e"
                          ],
                          [
                            0.4444444444444444,
                            "#bd3786"
                          ],
                          [
                            0.5555555555555556,
                            "#d8576b"
                          ],
                          [
                            0.6666666666666666,
                            "#ed7953"
                          ],
                          [
                            0.7777777777777778,
                            "#fb9f3a"
                          ],
                          [
                            0.8888888888888888,
                            "#fdca26"
                          ],
                          [
                            1,
                            "#f0f921"
                          ]
                        ],
                        "type": "heatmap"
                      }
                    ],
                    "heatmapgl": [
                      {
                        "colorbar": {
                          "outlinewidth": 0,
                          "ticks": ""
                        },
                        "colorscale": [
                          [
                            0,
                            "#0d0887"
                          ],
                          [
                            0.1111111111111111,
                            "#46039f"
                          ],
                          [
                            0.2222222222222222,
                            "#7201a8"
                          ],
                          [
                            0.3333333333333333,
                            "#9c179e"
                          ],
                          [
                            0.4444444444444444,
                            "#bd3786"
                          ],
                          [
                            0.5555555555555556,
                            "#d8576b"
                          ],
                          [
                            0.6666666666666666,
                            "#ed7953"
                          ],
                          [
                            0.7777777777777778,
                            "#fb9f3a"
                          ],
                          [
                            0.8888888888888888,
                            "#fdca26"
                          ],
                          [
                            1,
                            "#f0f921"
                          ]
                        ],
                        "type": "heatmapgl"
                      }
                    ],
                    "histogram": [
                      {
                        "marker": {
                          "pattern": {
                            "fillmode": "overlay",
                            "size": 10,
                            "solidity": 0.2
                          }
                        },
                        "type": "histogram"
                      }
                    ],
                    "histogram2d": [
                      {
                        "colorbar": {
                          "outlinewidth": 0,
                          "ticks": ""
                        },
                        "colorscale": [
                          [
                            0,
                            "#0d0887"
                          ],
                          [
                            0.1111111111111111,
                            "#46039f"
                          ],
                          [
                            0.2222222222222222,
                            "#7201a8"
                          ],
                          [
                            0.3333333333333333,
                            "#9c179e"
                          ],
                          [
                            0.4444444444444444,
                            "#bd3786"
                          ],
                          [
                            0.5555555555555556,
                            "#d8576b"
                          ],
                          [
                            0.6666666666666666,
                            "#ed7953"
                          ],
                          [
                            0.7777777777777778,
                            "#fb9f3a"
                          ],
                          [
                            0.8888888888888888,
                            "#fdca26"
                          ],
                          [
                            1,
                            "#f0f921"
                          ]
                        ],
                        "type": "histogram2d"
                      }
                    ],
                    "histogram2dcontour": [
                      {
                        "colorbar": {
                          "outlinewidth": 0,
                          "ticks": ""
                        },
                        "colorscale": [
                          [
                            0,
                            "#0d0887"
                          ],
                          [
                            0.1111111111111111,
                            "#46039f"
                          ],
                          [
                            0.2222222222222222,
                            "#7201a8"
                          ],
                          [
                            0.3333333333333333,
                            "#9c179e"
                          ],
                          [
                            0.4444444444444444,
                            "#bd3786"
                          ],
                          [
                            0.5555555555555556,
                            "#d8576b"
                          ],
                          [
                            0.6666666666666666,
                            "#ed7953"
                          ],
                          [
                            0.7777777777777778,
                            "#fb9f3a"
                          ],
                          [
                            0.8888888888888888,
                            "#fdca26"
                          ],
                          [
                            1,
                            "#f0f921"
                          ]
                        ],
                        "type": "histogram2dcontour"
                      }
                    ],
                    "mesh3d": [
                      {
                        "colorbar": {
                          "outlinewidth": 0,
                          "ticks": ""
                        },
                        "type": "mesh3d"
                      }
                    ],
                    "parcoords": [
                      {
                        "line": {
                          "colorbar": {
                            "outlinewidth": 0,
                            "ticks": ""
                          }
                        },
                        "type": "parcoords"
                      }
                    ],
                    "pie": [
                      {
                        "automargin": true,
                        "type": "pie"
                      }
                    ],
                    "scatter": [
                      {
                        "fillpattern": {
                          "fillmode": "overlay",
                          "size": 10,
                          "solidity": 0.2
                        },
                        "type": "scatter"
                      }
                    ],
                    "scatter3d": [
                      {
                        "line": {
                          "colorbar": {
                            "outlinewidth": 0,
                            "ticks": ""
                          }
                        },
                        "marker": {
                          "colorbar": {
                            "outlinewidth": 0,
                            "ticks": ""
                          }
                        },
                        "type": "scatter3d"
                      }
                    ],
                    "scattercarpet": [
                      {
                        "marker": {
                          "colorbar": {
                            "outlinewidth": 0,
                            "ticks": ""
                          }
                        },
                        "type": "scattercarpet"
                      }
                    ],
                    "scattergeo": [
                      {
                        "marker": {
                          "colorbar": {
                            "outlinewidth": 0,
                            "ticks": ""
                          }
                        },
                        "type": "scattergeo"
                      }
                    ],
                    "scattergl": [
                      {
                        "marker": {
                          "colorbar": {
                            "outlinewidth": 0,
                            "ticks": ""
                          }
                        },
                        "type": "scattergl"
                      }
                    ],
                    "scattermapbox": [
                      {
                        "marker": {
                          "colorbar": {
                            "outlinewidth": 0,
                            "ticks": ""
                          }
                        },
                        "type": "scattermapbox"
                      }
                    ],
                    "scatterpolar": [
                      {
                        "marker": {
                          "colorbar": {
                            "outlinewidth": 0,
                            "ticks": ""
                          }
                        },
                        "type": "scatterpolar"
                      }
                    ],
                    "scatterpolargl": [
                      {
                        "marker": {
                          "colorbar": {
                            "outlinewidth": 0,
                            "ticks": ""
                          }
                        },
                        "type": "scatterpolargl"
                      }
                    ],
                    "scatterternary": [
                      {
                        "marker": {
                          "colorbar": {
                            "outlinewidth": 0,
                            "ticks": ""
                          }
                        },
                        "type": "scatterternary"
                      }
                    ],
                    "surface": [
                      {
                        "colorbar": {
                          "outlinewidth": 0,
                          "ticks": ""
                        },
                        "colorscale": [
                          [
                            0,
                            "#0d0887"
                          ],
                          [
                            0.1111111111111111,
                            "#46039f"
                          ],
                          [
                            0.2222222222222222,
                            "#7201a8"
                          ],
                          [
                            0.3333333333333333,
                            "#9c179e"
                          ],
                          [
                            0.4444444444444444,
                            "#bd3786"
                          ],
                          [
                            0.5555555555555556,
                            "#d8576b"
                          ],
                          [
                            0.6666666666666666,
                            "#ed7953"
                          ],
                          [
                            0.7777777777777778,
                            "#fb9f3a"
                          ],
                          [
                            0.8888888888888888,
                            "#fdca26"
                          ],
                          [
                            1,
                            "#f0f921"
                          ]
                        ],
                        "type": "surface"
                      }
                    ],
                    "table": [
                      {
                        "cells": {
                          "fill": {
                            "color": "#EBF0F8"
                          },
                          "line": {
                            "color": "white"
                          }
                        },
                        "header": {
                          "fill": {
                            "color": "#C8D4E3"
                          },
                          "line": {
                            "color": "white"
                          }
                        },
                        "type": "table"
                      }
                    ]
                  },
                  "layout": {
                    "annotationdefaults": {
                      "arrowcolor": "#2a3f5f",
                      "arrowhead": 0,
                      "arrowwidth": 1
                    },
                    "autotypenumbers": "strict",
                    "coloraxis": {
                      "colorbar": {
                        "outlinewidth": 0,
                        "ticks": ""
                      }
                    },
                    "colorscale": {
                      "diverging": [
                        [
                          0,
                          "#8e0152"
                        ],
                        [
                          0.1,
                          "#c51b7d"
                        ],
                        [
                          0.2,
                          "#de77ae"
                        ],
                        [
                          0.3,
                          "#f1b6da"
                        ],
                        [
                          0.4,
                          "#fde0ef"
                        ],
                        [
                          0.5,
                          "#f7f7f7"
                        ],
                        [
                          0.6,
                          "#e6f5d0"
                        ],
                        [
                          0.7,
                          "#b8e186"
                        ],
                        [
                          0.8,
                          "#7fbc41"
                        ],
                        [
                          0.9,
                          "#4d9221"
                        ],
                        [
                          1,
                          "#276419"
                        ]
                      ],
                      "sequential": [
                        [
                          0,
                          "#0d0887"
                        ],
                        [
                          0.1111111111111111,
                          "#46039f"
                        ],
                        [
                          0.2222222222222222,
                          "#7201a8"
                        ],
                        [
                          0.3333333333333333,
                          "#9c179e"
                        ],
                        [
                          0.4444444444444444,
                          "#bd3786"
                        ],
                        [
                          0.5555555555555556,
                          "#d8576b"
                        ],
                        [
                          0.6666666666666666,
                          "#ed7953"
                        ],
                        [
                          0.7777777777777778,
                          "#fb9f3a"
                        ],
                        [
                          0.8888888888888888,
                          "#fdca26"
                        ],
                        [
                          1,
                          "#f0f921"
                        ]
                      ],
                      "sequentialminus": [
                        [
                          0,
                          "#0d0887"
                        ],
                        [
                          0.1111111111111111,
                          "#46039f"
                        ],
                        [
                          0.2222222222222222,
                          "#7201a8"
                        ],
                        [
                          0.3333333333333333,
                          "#9c179e"
                        ],
                        [
                          0.4444444444444444,
                          "#bd3786"
                        ],
                        [
                          0.5555555555555556,
                          "#d8576b"
                        ],
                        [
                          0.6666666666666666,
                          "#ed7953"
                        ],
                        [
                          0.7777777777777778,
                          "#fb9f3a"
                        ],
                        [
                          0.8888888888888888,
                          "#fdca26"
                        ],
                        [
                          1,
                          "#f0f921"
                        ]
                      ]
                    },
                    "colorway": [
                      "#636efa",
                      "#EF553B",
                      "#00cc96",
                      "#ab63fa",
                      "#FFA15A",
                      "#19d3f3",
                      "#FF6692",
                      "#B6E880",
                      "#FF97FF",
                      "#FECB52"
                    ],
                    "font": {
                      "color": "#2a3f5f"
                    },
                    "geo": {
                      "bgcolor": "white",
                      "lakecolor": "white",
                      "landcolor": "#E5ECF6",
                      "showlakes": true,
                      "showland": true,
                      "subunitcolor": "white"
                    },
                    "hoverlabel": {
                      "align": "left"
                    },
                    "hovermode": "closest",
                    "mapbox": {
                      "style": "light"
                    },
                    "paper_bgcolor": "white",
                    "plot_bgcolor": "#E5ECF6",
                    "polar": {
                      "angularaxis": {
                        "gridcolor": "white",
                        "linecolor": "white",
                        "ticks": ""
                      },
                      "bgcolor": "#E5ECF6",
                      "radialaxis": {
                        "gridcolor": "white",
                        "linecolor": "white",
                        "ticks": ""
                      }
                    },
                    "scene": {
                      "xaxis": {
                        "backgroundcolor": "#E5ECF6",
                        "gridcolor": "white",
                        "gridwidth": 2,
                        "linecolor": "white",
                        "showbackground": true,
                        "ticks": "",
                        "zerolinecolor": "white"
                      },
                      "yaxis": {
                        "backgroundcolor": "#E5ECF6",
                        "gridcolor": "white",
                        "gridwidth": 2,
                        "linecolor": "white",
                        "showbackground": true,
                        "ticks": "",
                        "zerolinecolor": "white"
                      },
                      "zaxis": {
                        "backgroundcolor": "#E5ECF6",
                        "gridcolor": "white",
                        "gridwidth": 2,
                        "linecolor": "white",
                        "showbackground": true,
                        "ticks": "",
                        "zerolinecolor": "white"
                      }
                    },
                    "shapedefaults": {
                      "line": {
                        "color": "#2a3f5f"
                      }
                    },
                    "ternary": {
                      "aaxis": {
                        "gridcolor": "white",
                        "linecolor": "white",
                        "ticks": ""
                      },
                      "baxis": {
                        "gridcolor": "white",
                        "linecolor": "white",
                        "ticks": ""
                      },
                      "bgcolor": "#E5ECF6",
                      "caxis": {
                        "gridcolor": "white",
                        "linecolor": "white",
                        "ticks": ""
                      }
                    },
                    "title": {
                      "x": 0.05
                    },
                    "xaxis": {
                      "automargin": true,
                      "gridcolor": "white",
                      "linecolor": "white",
                      "ticks": "",
                      "title": {
                        "standoff": 15
                      },
                      "zerolinecolor": "white",
                      "zerolinewidth": 2
                    },
                    "yaxis": {
                      "automargin": true,
                      "gridcolor": "white",
                      "linecolor": "white",
                      "ticks": "",
                      "title": {
                        "standoff": 15
                      },
                      "zerolinecolor": "white",
                      "zerolinewidth": 2
                    }
                  }
                },
                "title": {
                  "text": "EEG Signals by Class (One Sample per Class)"
                },
                "width": 1000,
                "xaxis": {
                  "anchor": "y",
                  "domain": [
                    0,
                    1
                  ]
                },
                "xaxis2": {
                  "anchor": "y2",
                  "domain": [
                    0,
                    1
                  ]
                },
                "xaxis3": {
                  "anchor": "y3",
                  "domain": [
                    0,
                    1
                  ]
                },
                "xaxis4": {
                  "anchor": "y4",
                  "domain": [
                    0,
                    1
                  ]
                },
                "xaxis5": {
                  "anchor": "y5",
                  "domain": [
                    0,
                    1
                  ]
                },
                "yaxis": {
                  "anchor": "x",
                  "domain": [
                    0.88,
                    1
                  ]
                },
                "yaxis2": {
                  "anchor": "x2",
                  "domain": [
                    0.66,
                    0.78
                  ]
                },
                "yaxis3": {
                  "anchor": "x3",
                  "domain": [
                    0.44,
                    0.56
                  ]
                },
                "yaxis4": {
                  "anchor": "x4",
                  "domain": [
                    0.22,
                    0.33999999999999997
                  ]
                },
                "yaxis5": {
                  "anchor": "x5",
                  "domain": [
                    0,
                    0.12
                  ]
                }
              }
            }
          },
          "metadata": {},
          "output_type": "display_data"
        }
      ],
      "source": [
        "# Get unique classes\n",
        "unique_classes = df['y'].unique()\n",
        "\n",
        "# Create subplots for each class with 1 column (for 1 sample per class)\n",
        "fig = make_subplots(rows=len(unique_classes), cols=1, subplot_titles=[f'Class {class_label}' for class_label in unique_classes])\n",
        "\n",
        "# Iterate over each class\n",
        "for i, class_label in enumerate(unique_classes):\n",
        "    class_data = df[df['y'] == class_label]\n",
        "\n",
        "    # Select 1 random sample from the class\n",
        "    random_sample = class_data.sample(n=1)\n",
        "\n",
        "    # Plot the sample\n",
        "    fig.add_trace(\n",
        "        go.Scatter(\n",
        "            y=random_sample.iloc[0, 1:],  # Exclude the label column\n",
        "            mode='lines',\n",
        "            name=f'Class {class_label}'\n",
        "        ),\n",
        "        row=i+1, col=1\n",
        "    )\n",
        "\n",
        "# Update layout for a clean look\n",
        "fig.update_layout(\n",
        "    height=300 * len(unique_classes),  # Adjust height for the number of rows\n",
        "    width=1000,  # Adjust width\n",
        "    title_text='EEG Signals by Class (One Sample per Class)',\n",
        "    showlegend=False,\n",
        ")\n",
        "\n",
        "# Show the plot\n",
        "fig.show()"
      ]
    },
    {
      "cell_type": "code",
      "execution_count": 35,
      "metadata": {
        "colab": {
          "base_uri": "https://localhost:8080/",
          "height": 517
        },
        "id": "Ko-P4wFyivlF",
        "outputId": "163cbf7c-4c73-4aa3-81c6-1771ab1bc5fd"
      },
      "outputs": [
        {
          "data": {
            "application/vnd.plotly.v1+json": {
              "config": {
                "plotlyServerURL": "https://plot.ly"
              },
              "data": [
                {
                  "mode": "lines",
                  "name": "eyes closed",
                  "type": "scatter",
                  "x": [
                    "X2",
                    "X3",
                    "X4",
                    "X5",
                    "X6",
                    "X7",
                    "X8",
                    "X9",
                    "X10",
                    "X11",
                    "X12",
                    "X13",
                    "X14",
                    "X15",
                    "X16",
                    "X17",
                    "X18",
                    "X19",
                    "X20",
                    "X21",
                    "X22",
                    "X23",
                    "X24",
                    "X25",
                    "X26",
                    "X27",
                    "X28",
                    "X29",
                    "X30",
                    "X31",
                    "X32",
                    "X33",
                    "X34",
                    "X35",
                    "X36",
                    "X37",
                    "X38",
                    "X39",
                    "X40",
                    "X41",
                    "X42",
                    "X43",
                    "X44",
                    "X45",
                    "X46",
                    "X47",
                    "X48",
                    "X49",
                    "X50",
                    "X51",
                    "X52",
                    "X53",
                    "X54",
                    "X55",
                    "X56",
                    "X57",
                    "X58",
                    "X59",
                    "X60",
                    "X61",
                    "X62",
                    "X63",
                    "X64",
                    "X65",
                    "X66",
                    "X67",
                    "X68",
                    "X69",
                    "X70",
                    "X71",
                    "X72",
                    "X73",
                    "X74",
                    "X75",
                    "X76",
                    "X77",
                    "X78",
                    "X79",
                    "X80",
                    "X81",
                    "X82",
                    "X83",
                    "X84",
                    "X85",
                    "X86",
                    "X87",
                    "X88",
                    "X89",
                    "X90",
                    "X91",
                    "X92",
                    "X93",
                    "X94",
                    "X95",
                    "X96",
                    "X97",
                    "X98",
                    "X99",
                    "X100",
                    "X101",
                    "X102",
                    "X103",
                    "X104",
                    "X105",
                    "X106",
                    "X107",
                    "X108",
                    "X109",
                    "X110",
                    "X111",
                    "X112",
                    "X113",
                    "X114",
                    "X115",
                    "X116",
                    "X117",
                    "X118",
                    "X119",
                    "X120",
                    "X121",
                    "X122",
                    "X123",
                    "X124",
                    "X125",
                    "X126",
                    "X127",
                    "X128",
                    "X129",
                    "X130",
                    "X131",
                    "X132",
                    "X133",
                    "X134",
                    "X135",
                    "X136",
                    "X137",
                    "X138",
                    "X139",
                    "X140",
                    "X141",
                    "X142",
                    "X143",
                    "X144",
                    "X145",
                    "X146",
                    "X147",
                    "X148",
                    "X149",
                    "X150",
                    "X151",
                    "X152",
                    "X153",
                    "X154",
                    "X155",
                    "X156",
                    "X157",
                    "X158",
                    "X159",
                    "X160",
                    "X161",
                    "X162",
                    "X163",
                    "X164",
                    "X165",
                    "X166",
                    "X167",
                    "X168",
                    "X169",
                    "X170",
                    "X171",
                    "X172",
                    "X173",
                    "X174",
                    "X175",
                    "X176",
                    "X177",
                    "X178"
                  ],
                  "y": [
                    190,
                    229,
                    223,
                    192,
                    125,
                    55,
                    -9,
                    -33,
                    -38,
                    -10,
                    35,
                    64,
                    113,
                    152,
                    164,
                    127,
                    50,
                    -47,
                    -121,
                    -138,
                    -125,
                    -101,
                    -50,
                    11,
                    39,
                    24,
                    48,
                    64,
                    46,
                    13,
                    -19,
                    -61,
                    -96,
                    -130,
                    -132,
                    -116,
                    -115,
                    -71,
                    -14,
                    25,
                    19,
                    6,
                    9,
                    21,
                    13,
                    -37,
                    -58,
                    -33,
                    5,
                    47,
                    80,
                    101,
                    88,
                    73,
                    69,
                    41,
                    -13,
                    -31,
                    -61,
                    -80,
                    -77,
                    -66,
                    -43,
                    5,
                    87,
                    129,
                    121,
                    88,
                    12,
                    -76,
                    -150,
                    -207,
                    -186,
                    -165,
                    -148,
                    -103,
                    -33,
                    40,
                    94,
                    75,
                    8,
                    -81,
                    -155,
                    -227,
                    -262,
                    -233,
                    -218,
                    -187,
                    -126,
                    -65,
                    -12,
                    27,
                    61,
                    49,
                    9,
                    -46,
                    -124,
                    -210,
                    -281,
                    -265,
                    -181,
                    -89,
                    -4,
                    53,
                    53,
                    38,
                    43,
                    31,
                    34,
                    9,
                    -7,
                    -34,
                    -70,
                    -84,
                    -101,
                    -70,
                    -11,
                    42,
                    62,
                    66,
                    74,
                    64,
                    59,
                    56,
                    36,
                    -11,
                    -30,
                    -43,
                    -23,
                    8,
                    42,
                    77,
                    103,
                    135,
                    121,
                    79,
                    59,
                    43,
                    54,
                    90,
                    111,
                    107,
                    64,
                    32,
                    18,
                    -25,
                    -69,
                    -65,
                    -44,
                    -33,
                    -57,
                    -88,
                    -114,
                    -130,
                    -114,
                    -83,
                    -53,
                    -79,
                    -72,
                    -85,
                    -109,
                    -98,
                    -72,
                    -65,
                    -63,
                    -11,
                    10,
                    8,
                    -17,
                    -15,
                    -31,
                    -77,
                    -103,
                    -127,
                    -116,
                    -83,
                    -51
                  ]
                },
                {
                  "mode": "lines",
                  "name": "seizure activity",
                  "type": "scatter",
                  "x": [
                    "X2",
                    "X3",
                    "X4",
                    "X5",
                    "X6",
                    "X7",
                    "X8",
                    "X9",
                    "X10",
                    "X11",
                    "X12",
                    "X13",
                    "X14",
                    "X15",
                    "X16",
                    "X17",
                    "X18",
                    "X19",
                    "X20",
                    "X21",
                    "X22",
                    "X23",
                    "X24",
                    "X25",
                    "X26",
                    "X27",
                    "X28",
                    "X29",
                    "X30",
                    "X31",
                    "X32",
                    "X33",
                    "X34",
                    "X35",
                    "X36",
                    "X37",
                    "X38",
                    "X39",
                    "X40",
                    "X41",
                    "X42",
                    "X43",
                    "X44",
                    "X45",
                    "X46",
                    "X47",
                    "X48",
                    "X49",
                    "X50",
                    "X51",
                    "X52",
                    "X53",
                    "X54",
                    "X55",
                    "X56",
                    "X57",
                    "X58",
                    "X59",
                    "X60",
                    "X61",
                    "X62",
                    "X63",
                    "X64",
                    "X65",
                    "X66",
                    "X67",
                    "X68",
                    "X69",
                    "X70",
                    "X71",
                    "X72",
                    "X73",
                    "X74",
                    "X75",
                    "X76",
                    "X77",
                    "X78",
                    "X79",
                    "X80",
                    "X81",
                    "X82",
                    "X83",
                    "X84",
                    "X85",
                    "X86",
                    "X87",
                    "X88",
                    "X89",
                    "X90",
                    "X91",
                    "X92",
                    "X93",
                    "X94",
                    "X95",
                    "X96",
                    "X97",
                    "X98",
                    "X99",
                    "X100",
                    "X101",
                    "X102",
                    "X103",
                    "X104",
                    "X105",
                    "X106",
                    "X107",
                    "X108",
                    "X109",
                    "X110",
                    "X111",
                    "X112",
                    "X113",
                    "X114",
                    "X115",
                    "X116",
                    "X117",
                    "X118",
                    "X119",
                    "X120",
                    "X121",
                    "X122",
                    "X123",
                    "X124",
                    "X125",
                    "X126",
                    "X127",
                    "X128",
                    "X129",
                    "X130",
                    "X131",
                    "X132",
                    "X133",
                    "X134",
                    "X135",
                    "X136",
                    "X137",
                    "X138",
                    "X139",
                    "X140",
                    "X141",
                    "X142",
                    "X143",
                    "X144",
                    "X145",
                    "X146",
                    "X147",
                    "X148",
                    "X149",
                    "X150",
                    "X151",
                    "X152",
                    "X153",
                    "X154",
                    "X155",
                    "X156",
                    "X157",
                    "X158",
                    "X159",
                    "X160",
                    "X161",
                    "X162",
                    "X163",
                    "X164",
                    "X165",
                    "X166",
                    "X167",
                    "X168",
                    "X169",
                    "X170",
                    "X171",
                    "X172",
                    "X173",
                    "X174",
                    "X175",
                    "X176",
                    "X177",
                    "X178"
                  ],
                  "y": [
                    382,
                    356,
                    331,
                    320,
                    315,
                    307,
                    272,
                    244,
                    232,
                    237,
                    258,
                    212,
                    2,
                    -267,
                    -605,
                    -850,
                    -1001,
                    -1109,
                    -1090,
                    -967,
                    -746,
                    -464,
                    -152,
                    118,
                    318,
                    427,
                    473,
                    485,
                    447,
                    397,
                    339,
                    312,
                    314,
                    326,
                    335,
                    332,
                    324,
                    310,
                    312,
                    309,
                    309,
                    303,
                    297,
                    295,
                    295,
                    293,
                    286,
                    279,
                    283,
                    301,
                    308,
                    285,
                    252,
                    215,
                    194,
                    169,
                    111,
                    -74,
                    -388,
                    -679,
                    -892,
                    -949,
                    -972,
                    -1001,
                    -1006,
                    -949,
                    -847,
                    -668,
                    -432,
                    -153,
                    72,
                    226,
                    326,
                    392,
                    461,
                    495,
                    513,
                    511,
                    496,
                    479,
                    453,
                    440,
                    427,
                    414,
                    399,
                    385,
                    385,
                    404,
                    432,
                    444,
                    437,
                    418,
                    392,
                    373,
                    363,
                    365,
                    372,
                    385,
                    388,
                    383,
                    371,
                    360,
                    353,
                    334,
                    303,
                    252,
                    200,
                    153,
                    151,
                    143,
                    48,
                    -206,
                    -548,
                    -859,
                    -1067,
                    -1069,
                    -957,
                    -780,
                    -597,
                    -460,
                    -357,
                    -276,
                    -224,
                    -210,
                    -350,
                    -930,
                    -1413,
                    -1716,
                    -1360,
                    -662,
                    -96,
                    243,
                    323,
                    241,
                    29,
                    -167,
                    -228,
                    -136,
                    27,
                    146,
                    229,
                    269,
                    297,
                    307,
                    303,
                    305,
                    306,
                    307,
                    280,
                    231,
                    159,
                    85,
                    51,
                    43,
                    62,
                    63,
                    63,
                    69,
                    89,
                    123,
                    136,
                    127,
                    102,
                    95,
                    105,
                    131,
                    163,
                    168,
                    164,
                    150,
                    146,
                    152,
                    157,
                    156,
                    154,
                    143,
                    129
                  ]
                },
                {
                  "mode": "lines",
                  "name": "eyes open",
                  "type": "scatter",
                  "x": [
                    "X2",
                    "X3",
                    "X4",
                    "X5",
                    "X6",
                    "X7",
                    "X8",
                    "X9",
                    "X10",
                    "X11",
                    "X12",
                    "X13",
                    "X14",
                    "X15",
                    "X16",
                    "X17",
                    "X18",
                    "X19",
                    "X20",
                    "X21",
                    "X22",
                    "X23",
                    "X24",
                    "X25",
                    "X26",
                    "X27",
                    "X28",
                    "X29",
                    "X30",
                    "X31",
                    "X32",
                    "X33",
                    "X34",
                    "X35",
                    "X36",
                    "X37",
                    "X38",
                    "X39",
                    "X40",
                    "X41",
                    "X42",
                    "X43",
                    "X44",
                    "X45",
                    "X46",
                    "X47",
                    "X48",
                    "X49",
                    "X50",
                    "X51",
                    "X52",
                    "X53",
                    "X54",
                    "X55",
                    "X56",
                    "X57",
                    "X58",
                    "X59",
                    "X60",
                    "X61",
                    "X62",
                    "X63",
                    "X64",
                    "X65",
                    "X66",
                    "X67",
                    "X68",
                    "X69",
                    "X70",
                    "X71",
                    "X72",
                    "X73",
                    "X74",
                    "X75",
                    "X76",
                    "X77",
                    "X78",
                    "X79",
                    "X80",
                    "X81",
                    "X82",
                    "X83",
                    "X84",
                    "X85",
                    "X86",
                    "X87",
                    "X88",
                    "X89",
                    "X90",
                    "X91",
                    "X92",
                    "X93",
                    "X94",
                    "X95",
                    "X96",
                    "X97",
                    "X98",
                    "X99",
                    "X100",
                    "X101",
                    "X102",
                    "X103",
                    "X104",
                    "X105",
                    "X106",
                    "X107",
                    "X108",
                    "X109",
                    "X110",
                    "X111",
                    "X112",
                    "X113",
                    "X114",
                    "X115",
                    "X116",
                    "X117",
                    "X118",
                    "X119",
                    "X120",
                    "X121",
                    "X122",
                    "X123",
                    "X124",
                    "X125",
                    "X126",
                    "X127",
                    "X128",
                    "X129",
                    "X130",
                    "X131",
                    "X132",
                    "X133",
                    "X134",
                    "X135",
                    "X136",
                    "X137",
                    "X138",
                    "X139",
                    "X140",
                    "X141",
                    "X142",
                    "X143",
                    "X144",
                    "X145",
                    "X146",
                    "X147",
                    "X148",
                    "X149",
                    "X150",
                    "X151",
                    "X152",
                    "X153",
                    "X154",
                    "X155",
                    "X156",
                    "X157",
                    "X158",
                    "X159",
                    "X160",
                    "X161",
                    "X162",
                    "X163",
                    "X164",
                    "X165",
                    "X166",
                    "X167",
                    "X168",
                    "X169",
                    "X170",
                    "X171",
                    "X172",
                    "X173",
                    "X174",
                    "X175",
                    "X176",
                    "X177",
                    "X178"
                  ],
                  "y": [
                    -39,
                    -47,
                    -37,
                    -32,
                    -36,
                    -57,
                    -73,
                    -85,
                    -94,
                    -99,
                    -94,
                    -96,
                    -104,
                    -103,
                    -92,
                    -75,
                    -69,
                    -69,
                    -53,
                    -37,
                    -14,
                    -10,
                    -39,
                    -78,
                    -102,
                    -98,
                    -80,
                    -54,
                    -40,
                    -35,
                    -39,
                    -32,
                    -13,
                    7,
                    34,
                    41,
                    33,
                    6,
                    -15,
                    -30,
                    -47,
                    -53,
                    -65,
                    -64,
                    -68,
                    -85,
                    -98,
                    -109,
                    -82,
                    -57,
                    -38,
                    -40,
                    -36,
                    -31,
                    -13,
                    11,
                    19,
                    9,
                    -20,
                    -48,
                    -71,
                    -71,
                    -57,
                    -32,
                    -13,
                    6,
                    29,
                    27,
                    25,
                    10,
                    -7,
                    -36,
                    -47,
                    -37,
                    -36,
                    -22,
                    -32,
                    -38,
                    -55,
                    -61,
                    -64,
                    -72,
                    -67,
                    -53,
                    -25,
                    -10,
                    -4,
                    -23,
                    -55,
                    -93,
                    -102,
                    -106,
                    -101,
                    -69,
                    -45,
                    -42,
                    -57,
                    -64,
                    -77,
                    -80,
                    -77,
                    -78,
                    -56,
                    -34,
                    -5,
                    10,
                    5,
                    -5,
                    -44,
                    -75,
                    -99,
                    -110,
                    -104,
                    -103,
                    -94,
                    -105,
                    -108,
                    -110,
                    -99,
                    -89,
                    -82,
                    -76,
                    -80,
                    -90,
                    -106,
                    -106,
                    -108,
                    -87,
                    -60,
                    -37,
                    -26,
                    -15,
                    -6,
                    -14,
                    -23,
                    -34,
                    -41,
                    -54,
                    -82,
                    -107,
                    -126,
                    -124,
                    -108,
                    -84,
                    -68,
                    -61,
                    -56,
                    -63,
                    -62,
                    -33,
                    1,
                    28,
                    45,
                    37,
                    48,
                    62,
                    80,
                    66,
                    23,
                    -11,
                    -39,
                    -44,
                    -42,
                    -45,
                    -48,
                    -42,
                    -6,
                    29,
                    57,
                    64,
                    48,
                    19,
                    -12,
                    -30,
                    -35,
                    -35,
                    -36
                  ]
                },
                {
                  "mode": "lines",
                  "name": "EEG from tumor area",
                  "type": "scatter",
                  "x": [
                    "X2",
                    "X3",
                    "X4",
                    "X5",
                    "X6",
                    "X7",
                    "X8",
                    "X9",
                    "X10",
                    "X11",
                    "X12",
                    "X13",
                    "X14",
                    "X15",
                    "X16",
                    "X17",
                    "X18",
                    "X19",
                    "X20",
                    "X21",
                    "X22",
                    "X23",
                    "X24",
                    "X25",
                    "X26",
                    "X27",
                    "X28",
                    "X29",
                    "X30",
                    "X31",
                    "X32",
                    "X33",
                    "X34",
                    "X35",
                    "X36",
                    "X37",
                    "X38",
                    "X39",
                    "X40",
                    "X41",
                    "X42",
                    "X43",
                    "X44",
                    "X45",
                    "X46",
                    "X47",
                    "X48",
                    "X49",
                    "X50",
                    "X51",
                    "X52",
                    "X53",
                    "X54",
                    "X55",
                    "X56",
                    "X57",
                    "X58",
                    "X59",
                    "X60",
                    "X61",
                    "X62",
                    "X63",
                    "X64",
                    "X65",
                    "X66",
                    "X67",
                    "X68",
                    "X69",
                    "X70",
                    "X71",
                    "X72",
                    "X73",
                    "X74",
                    "X75",
                    "X76",
                    "X77",
                    "X78",
                    "X79",
                    "X80",
                    "X81",
                    "X82",
                    "X83",
                    "X84",
                    "X85",
                    "X86",
                    "X87",
                    "X88",
                    "X89",
                    "X90",
                    "X91",
                    "X92",
                    "X93",
                    "X94",
                    "X95",
                    "X96",
                    "X97",
                    "X98",
                    "X99",
                    "X100",
                    "X101",
                    "X102",
                    "X103",
                    "X104",
                    "X105",
                    "X106",
                    "X107",
                    "X108",
                    "X109",
                    "X110",
                    "X111",
                    "X112",
                    "X113",
                    "X114",
                    "X115",
                    "X116",
                    "X117",
                    "X118",
                    "X119",
                    "X120",
                    "X121",
                    "X122",
                    "X123",
                    "X124",
                    "X125",
                    "X126",
                    "X127",
                    "X128",
                    "X129",
                    "X130",
                    "X131",
                    "X132",
                    "X133",
                    "X134",
                    "X135",
                    "X136",
                    "X137",
                    "X138",
                    "X139",
                    "X140",
                    "X141",
                    "X142",
                    "X143",
                    "X144",
                    "X145",
                    "X146",
                    "X147",
                    "X148",
                    "X149",
                    "X150",
                    "X151",
                    "X152",
                    "X153",
                    "X154",
                    "X155",
                    "X156",
                    "X157",
                    "X158",
                    "X159",
                    "X160",
                    "X161",
                    "X162",
                    "X163",
                    "X164",
                    "X165",
                    "X166",
                    "X167",
                    "X168",
                    "X169",
                    "X170",
                    "X171",
                    "X172",
                    "X173",
                    "X174",
                    "X175",
                    "X176",
                    "X177",
                    "X178"
                  ],
                  "y": [
                    -2,
                    -8,
                    -11,
                    -12,
                    -17,
                    -15,
                    -16,
                    -18,
                    -17,
                    -19,
                    -18,
                    -16,
                    -15,
                    -14,
                    -21,
                    -19,
                    -24,
                    -24,
                    -24,
                    -17,
                    -20,
                    -23,
                    -15,
                    -17,
                    -20,
                    -18,
                    -19,
                    -20,
                    -19,
                    -18,
                    -20,
                    -25,
                    -27,
                    -24,
                    -22,
                    -20,
                    -9,
                    0,
                    12,
                    18,
                    25,
                    23,
                    20,
                    17,
                    12,
                    6,
                    -1,
                    -5,
                    -10,
                    -13,
                    -13,
                    -17,
                    -20,
                    -20,
                    -19,
                    -20,
                    -21,
                    -22,
                    -24,
                    -27,
                    -29,
                    -31,
                    -36,
                    -45,
                    -49,
                    -60,
                    -71,
                    -83,
                    -89,
                    -97,
                    -103,
                    -105,
                    -103,
                    -104,
                    -97,
                    -99,
                    -99,
                    -101,
                    -96,
                    -91,
                    -78,
                    -64,
                    -48,
                    -36,
                    -23,
                    -15,
                    -14,
                    -17,
                    -18,
                    -15,
                    -14,
                    -13,
                    -12,
                    -17,
                    -21,
                    -22,
                    -23,
                    -14,
                    -12,
                    -9,
                    -12,
                    -18,
                    -16,
                    -19,
                    -23,
                    -21,
                    -18,
                    -17,
                    -15,
                    -10,
                    -7,
                    -9,
                    -7,
                    -2,
                    0,
                    11,
                    18,
                    26,
                    30,
                    30,
                    39,
                    38,
                    28,
                    14,
                    4,
                    -8,
                    -9,
                    -9,
                    -8,
                    -3,
                    3,
                    1,
                    -4,
                    -12,
                    -15,
                    -20,
                    -25,
                    -23,
                    -20,
                    -26,
                    -24,
                    -25,
                    -35,
                    -41,
                    -41,
                    -53,
                    -61,
                    -58,
                    -59,
                    -55,
                    -53,
                    -65,
                    -78,
                    -87,
                    -97,
                    -100,
                    -106,
                    -104,
                    -107,
                    -110,
                    -110,
                    -109,
                    -104,
                    -118,
                    -111,
                    -102,
                    -80,
                    -67,
                    -79,
                    -91,
                    -97,
                    -88,
                    -76,
                    -72,
                    -66,
                    -57,
                    -39
                  ]
                },
                {
                  "mode": "lines",
                  "name": "tumor region identified",
                  "type": "scatter",
                  "x": [
                    "X2",
                    "X3",
                    "X4",
                    "X5",
                    "X6",
                    "X7",
                    "X8",
                    "X9",
                    "X10",
                    "X11",
                    "X12",
                    "X13",
                    "X14",
                    "X15",
                    "X16",
                    "X17",
                    "X18",
                    "X19",
                    "X20",
                    "X21",
                    "X22",
                    "X23",
                    "X24",
                    "X25",
                    "X26",
                    "X27",
                    "X28",
                    "X29",
                    "X30",
                    "X31",
                    "X32",
                    "X33",
                    "X34",
                    "X35",
                    "X36",
                    "X37",
                    "X38",
                    "X39",
                    "X40",
                    "X41",
                    "X42",
                    "X43",
                    "X44",
                    "X45",
                    "X46",
                    "X47",
                    "X48",
                    "X49",
                    "X50",
                    "X51",
                    "X52",
                    "X53",
                    "X54",
                    "X55",
                    "X56",
                    "X57",
                    "X58",
                    "X59",
                    "X60",
                    "X61",
                    "X62",
                    "X63",
                    "X64",
                    "X65",
                    "X66",
                    "X67",
                    "X68",
                    "X69",
                    "X70",
                    "X71",
                    "X72",
                    "X73",
                    "X74",
                    "X75",
                    "X76",
                    "X77",
                    "X78",
                    "X79",
                    "X80",
                    "X81",
                    "X82",
                    "X83",
                    "X84",
                    "X85",
                    "X86",
                    "X87",
                    "X88",
                    "X89",
                    "X90",
                    "X91",
                    "X92",
                    "X93",
                    "X94",
                    "X95",
                    "X96",
                    "X97",
                    "X98",
                    "X99",
                    "X100",
                    "X101",
                    "X102",
                    "X103",
                    "X104",
                    "X105",
                    "X106",
                    "X107",
                    "X108",
                    "X109",
                    "X110",
                    "X111",
                    "X112",
                    "X113",
                    "X114",
                    "X115",
                    "X116",
                    "X117",
                    "X118",
                    "X119",
                    "X120",
                    "X121",
                    "X122",
                    "X123",
                    "X124",
                    "X125",
                    "X126",
                    "X127",
                    "X128",
                    "X129",
                    "X130",
                    "X131",
                    "X132",
                    "X133",
                    "X134",
                    "X135",
                    "X136",
                    "X137",
                    "X138",
                    "X139",
                    "X140",
                    "X141",
                    "X142",
                    "X143",
                    "X144",
                    "X145",
                    "X146",
                    "X147",
                    "X148",
                    "X149",
                    "X150",
                    "X151",
                    "X152",
                    "X153",
                    "X154",
                    "X155",
                    "X156",
                    "X157",
                    "X158",
                    "X159",
                    "X160",
                    "X161",
                    "X162",
                    "X163",
                    "X164",
                    "X165",
                    "X166",
                    "X167",
                    "X168",
                    "X169",
                    "X170",
                    "X171",
                    "X172",
                    "X173",
                    "X174",
                    "X175",
                    "X176",
                    "X177",
                    "X178"
                  ],
                  "y": [
                    49,
                    0,
                    -32,
                    -51,
                    -65,
                    -37,
                    -19,
                    -25,
                    -29,
                    -52,
                    -62,
                    -85,
                    -107,
                    -97,
                    -69,
                    -46,
                    -37,
                    -48,
                    -59,
                    -58,
                    -61,
                    -83,
                    -127,
                    -147,
                    -165,
                    -175,
                    -183,
                    -218,
                    -259,
                    -298,
                    -275,
                    -243,
                    -214,
                    -239,
                    -258,
                    -283,
                    -285,
                    -271,
                    -262,
                    -250,
                    -237,
                    -211,
                    -193,
                    -189,
                    -183,
                    -174,
                    -170,
                    -164,
                    -182,
                    -165,
                    -153,
                    -116,
                    -87,
                    -68,
                    -48,
                    -44,
                    -71,
                    -95,
                    -103,
                    -94,
                    -79,
                    -62,
                    -59,
                    -59,
                    -52,
                    -58,
                    -49,
                    -70,
                    -59,
                    -53,
                    -55,
                    -54,
                    -63,
                    -43,
                    -24,
                    6,
                    28,
                    48,
                    74,
                    98,
                    92,
                    103,
                    89,
                    97,
                    62,
                    19,
                    -11,
                    -46,
                    -59,
                    -43,
                    -37,
                    -30,
                    -22,
                    -26,
                    -42,
                    -53,
                    -71,
                    -40,
                    -13,
                    28,
                    23,
                    22,
                    12,
                    -5,
                    -25,
                    -78,
                    -85,
                    -104,
                    -106,
                    -85,
                    -96,
                    -62,
                    -72,
                    -71,
                    -57,
                    -37,
                    -34,
                    -23,
                    -31,
                    -25,
                    -14,
                    14,
                    18,
                    18,
                    11,
                    -9,
                    -34,
                    -46,
                    -73,
                    -65,
                    -82,
                    -66,
                    -59,
                    -75,
                    -67,
                    -77,
                    -92,
                    -73,
                    -40,
                    -19,
                    -14,
                    -8,
                    2,
                    39,
                    40,
                    31,
                    20,
                    22,
                    32,
                    25,
                    5,
                    -17,
                    -3,
                    5,
                    24,
                    22,
                    13,
                    3,
                    -11,
                    -23,
                    -39,
                    -43,
                    -32,
                    -18,
                    -30,
                    -51,
                    -72,
                    -80,
                    -56,
                    -41,
                    -40,
                    -43,
                    -32,
                    -13,
                    -1,
                    -7,
                    -44
                  ]
                }
              ],
              "layout": {
                "height": 500,
                "legend": {
                  "title": {
                    "text": "Class Labels"
                  }
                },
                "template": {
                  "data": {
                    "bar": [
                      {
                        "error_x": {
                          "color": "#2a3f5f"
                        },
                        "error_y": {
                          "color": "#2a3f5f"
                        },
                        "marker": {
                          "line": {
                            "color": "#E5ECF6",
                            "width": 0.5
                          },
                          "pattern": {
                            "fillmode": "overlay",
                            "size": 10,
                            "solidity": 0.2
                          }
                        },
                        "type": "bar"
                      }
                    ],
                    "barpolar": [
                      {
                        "marker": {
                          "line": {
                            "color": "#E5ECF6",
                            "width": 0.5
                          },
                          "pattern": {
                            "fillmode": "overlay",
                            "size": 10,
                            "solidity": 0.2
                          }
                        },
                        "type": "barpolar"
                      }
                    ],
                    "carpet": [
                      {
                        "aaxis": {
                          "endlinecolor": "#2a3f5f",
                          "gridcolor": "white",
                          "linecolor": "white",
                          "minorgridcolor": "white",
                          "startlinecolor": "#2a3f5f"
                        },
                        "baxis": {
                          "endlinecolor": "#2a3f5f",
                          "gridcolor": "white",
                          "linecolor": "white",
                          "minorgridcolor": "white",
                          "startlinecolor": "#2a3f5f"
                        },
                        "type": "carpet"
                      }
                    ],
                    "choropleth": [
                      {
                        "colorbar": {
                          "outlinewidth": 0,
                          "ticks": ""
                        },
                        "type": "choropleth"
                      }
                    ],
                    "contour": [
                      {
                        "colorbar": {
                          "outlinewidth": 0,
                          "ticks": ""
                        },
                        "colorscale": [
                          [
                            0,
                            "#0d0887"
                          ],
                          [
                            0.1111111111111111,
                            "#46039f"
                          ],
                          [
                            0.2222222222222222,
                            "#7201a8"
                          ],
                          [
                            0.3333333333333333,
                            "#9c179e"
                          ],
                          [
                            0.4444444444444444,
                            "#bd3786"
                          ],
                          [
                            0.5555555555555556,
                            "#d8576b"
                          ],
                          [
                            0.6666666666666666,
                            "#ed7953"
                          ],
                          [
                            0.7777777777777778,
                            "#fb9f3a"
                          ],
                          [
                            0.8888888888888888,
                            "#fdca26"
                          ],
                          [
                            1,
                            "#f0f921"
                          ]
                        ],
                        "type": "contour"
                      }
                    ],
                    "contourcarpet": [
                      {
                        "colorbar": {
                          "outlinewidth": 0,
                          "ticks": ""
                        },
                        "type": "contourcarpet"
                      }
                    ],
                    "heatmap": [
                      {
                        "colorbar": {
                          "outlinewidth": 0,
                          "ticks": ""
                        },
                        "colorscale": [
                          [
                            0,
                            "#0d0887"
                          ],
                          [
                            0.1111111111111111,
                            "#46039f"
                          ],
                          [
                            0.2222222222222222,
                            "#7201a8"
                          ],
                          [
                            0.3333333333333333,
                            "#9c179e"
                          ],
                          [
                            0.4444444444444444,
                            "#bd3786"
                          ],
                          [
                            0.5555555555555556,
                            "#d8576b"
                          ],
                          [
                            0.6666666666666666,
                            "#ed7953"
                          ],
                          [
                            0.7777777777777778,
                            "#fb9f3a"
                          ],
                          [
                            0.8888888888888888,
                            "#fdca26"
                          ],
                          [
                            1,
                            "#f0f921"
                          ]
                        ],
                        "type": "heatmap"
                      }
                    ],
                    "heatmapgl": [
                      {
                        "colorbar": {
                          "outlinewidth": 0,
                          "ticks": ""
                        },
                        "colorscale": [
                          [
                            0,
                            "#0d0887"
                          ],
                          [
                            0.1111111111111111,
                            "#46039f"
                          ],
                          [
                            0.2222222222222222,
                            "#7201a8"
                          ],
                          [
                            0.3333333333333333,
                            "#9c179e"
                          ],
                          [
                            0.4444444444444444,
                            "#bd3786"
                          ],
                          [
                            0.5555555555555556,
                            "#d8576b"
                          ],
                          [
                            0.6666666666666666,
                            "#ed7953"
                          ],
                          [
                            0.7777777777777778,
                            "#fb9f3a"
                          ],
                          [
                            0.8888888888888888,
                            "#fdca26"
                          ],
                          [
                            1,
                            "#f0f921"
                          ]
                        ],
                        "type": "heatmapgl"
                      }
                    ],
                    "histogram": [
                      {
                        "marker": {
                          "pattern": {
                            "fillmode": "overlay",
                            "size": 10,
                            "solidity": 0.2
                          }
                        },
                        "type": "histogram"
                      }
                    ],
                    "histogram2d": [
                      {
                        "colorbar": {
                          "outlinewidth": 0,
                          "ticks": ""
                        },
                        "colorscale": [
                          [
                            0,
                            "#0d0887"
                          ],
                          [
                            0.1111111111111111,
                            "#46039f"
                          ],
                          [
                            0.2222222222222222,
                            "#7201a8"
                          ],
                          [
                            0.3333333333333333,
                            "#9c179e"
                          ],
                          [
                            0.4444444444444444,
                            "#bd3786"
                          ],
                          [
                            0.5555555555555556,
                            "#d8576b"
                          ],
                          [
                            0.6666666666666666,
                            "#ed7953"
                          ],
                          [
                            0.7777777777777778,
                            "#fb9f3a"
                          ],
                          [
                            0.8888888888888888,
                            "#fdca26"
                          ],
                          [
                            1,
                            "#f0f921"
                          ]
                        ],
                        "type": "histogram2d"
                      }
                    ],
                    "histogram2dcontour": [
                      {
                        "colorbar": {
                          "outlinewidth": 0,
                          "ticks": ""
                        },
                        "colorscale": [
                          [
                            0,
                            "#0d0887"
                          ],
                          [
                            0.1111111111111111,
                            "#46039f"
                          ],
                          [
                            0.2222222222222222,
                            "#7201a8"
                          ],
                          [
                            0.3333333333333333,
                            "#9c179e"
                          ],
                          [
                            0.4444444444444444,
                            "#bd3786"
                          ],
                          [
                            0.5555555555555556,
                            "#d8576b"
                          ],
                          [
                            0.6666666666666666,
                            "#ed7953"
                          ],
                          [
                            0.7777777777777778,
                            "#fb9f3a"
                          ],
                          [
                            0.8888888888888888,
                            "#fdca26"
                          ],
                          [
                            1,
                            "#f0f921"
                          ]
                        ],
                        "type": "histogram2dcontour"
                      }
                    ],
                    "mesh3d": [
                      {
                        "colorbar": {
                          "outlinewidth": 0,
                          "ticks": ""
                        },
                        "type": "mesh3d"
                      }
                    ],
                    "parcoords": [
                      {
                        "line": {
                          "colorbar": {
                            "outlinewidth": 0,
                            "ticks": ""
                          }
                        },
                        "type": "parcoords"
                      }
                    ],
                    "pie": [
                      {
                        "automargin": true,
                        "type": "pie"
                      }
                    ],
                    "scatter": [
                      {
                        "fillpattern": {
                          "fillmode": "overlay",
                          "size": 10,
                          "solidity": 0.2
                        },
                        "type": "scatter"
                      }
                    ],
                    "scatter3d": [
                      {
                        "line": {
                          "colorbar": {
                            "outlinewidth": 0,
                            "ticks": ""
                          }
                        },
                        "marker": {
                          "colorbar": {
                            "outlinewidth": 0,
                            "ticks": ""
                          }
                        },
                        "type": "scatter3d"
                      }
                    ],
                    "scattercarpet": [
                      {
                        "marker": {
                          "colorbar": {
                            "outlinewidth": 0,
                            "ticks": ""
                          }
                        },
                        "type": "scattercarpet"
                      }
                    ],
                    "scattergeo": [
                      {
                        "marker": {
                          "colorbar": {
                            "outlinewidth": 0,
                            "ticks": ""
                          }
                        },
                        "type": "scattergeo"
                      }
                    ],
                    "scattergl": [
                      {
                        "marker": {
                          "colorbar": {
                            "outlinewidth": 0,
                            "ticks": ""
                          }
                        },
                        "type": "scattergl"
                      }
                    ],
                    "scattermapbox": [
                      {
                        "marker": {
                          "colorbar": {
                            "outlinewidth": 0,
                            "ticks": ""
                          }
                        },
                        "type": "scattermapbox"
                      }
                    ],
                    "scatterpolar": [
                      {
                        "marker": {
                          "colorbar": {
                            "outlinewidth": 0,
                            "ticks": ""
                          }
                        },
                        "type": "scatterpolar"
                      }
                    ],
                    "scatterpolargl": [
                      {
                        "marker": {
                          "colorbar": {
                            "outlinewidth": 0,
                            "ticks": ""
                          }
                        },
                        "type": "scatterpolargl"
                      }
                    ],
                    "scatterternary": [
                      {
                        "marker": {
                          "colorbar": {
                            "outlinewidth": 0,
                            "ticks": ""
                          }
                        },
                        "type": "scatterternary"
                      }
                    ],
                    "surface": [
                      {
                        "colorbar": {
                          "outlinewidth": 0,
                          "ticks": ""
                        },
                        "colorscale": [
                          [
                            0,
                            "#0d0887"
                          ],
                          [
                            0.1111111111111111,
                            "#46039f"
                          ],
                          [
                            0.2222222222222222,
                            "#7201a8"
                          ],
                          [
                            0.3333333333333333,
                            "#9c179e"
                          ],
                          [
                            0.4444444444444444,
                            "#bd3786"
                          ],
                          [
                            0.5555555555555556,
                            "#d8576b"
                          ],
                          [
                            0.6666666666666666,
                            "#ed7953"
                          ],
                          [
                            0.7777777777777778,
                            "#fb9f3a"
                          ],
                          [
                            0.8888888888888888,
                            "#fdca26"
                          ],
                          [
                            1,
                            "#f0f921"
                          ]
                        ],
                        "type": "surface"
                      }
                    ],
                    "table": [
                      {
                        "cells": {
                          "fill": {
                            "color": "#EBF0F8"
                          },
                          "line": {
                            "color": "white"
                          }
                        },
                        "header": {
                          "fill": {
                            "color": "#C8D4E3"
                          },
                          "line": {
                            "color": "white"
                          }
                        },
                        "type": "table"
                      }
                    ]
                  },
                  "layout": {
                    "annotationdefaults": {
                      "arrowcolor": "#2a3f5f",
                      "arrowhead": 0,
                      "arrowwidth": 1
                    },
                    "autotypenumbers": "strict",
                    "coloraxis": {
                      "colorbar": {
                        "outlinewidth": 0,
                        "ticks": ""
                      }
                    },
                    "colorscale": {
                      "diverging": [
                        [
                          0,
                          "#8e0152"
                        ],
                        [
                          0.1,
                          "#c51b7d"
                        ],
                        [
                          0.2,
                          "#de77ae"
                        ],
                        [
                          0.3,
                          "#f1b6da"
                        ],
                        [
                          0.4,
                          "#fde0ef"
                        ],
                        [
                          0.5,
                          "#f7f7f7"
                        ],
                        [
                          0.6,
                          "#e6f5d0"
                        ],
                        [
                          0.7,
                          "#b8e186"
                        ],
                        [
                          0.8,
                          "#7fbc41"
                        ],
                        [
                          0.9,
                          "#4d9221"
                        ],
                        [
                          1,
                          "#276419"
                        ]
                      ],
                      "sequential": [
                        [
                          0,
                          "#0d0887"
                        ],
                        [
                          0.1111111111111111,
                          "#46039f"
                        ],
                        [
                          0.2222222222222222,
                          "#7201a8"
                        ],
                        [
                          0.3333333333333333,
                          "#9c179e"
                        ],
                        [
                          0.4444444444444444,
                          "#bd3786"
                        ],
                        [
                          0.5555555555555556,
                          "#d8576b"
                        ],
                        [
                          0.6666666666666666,
                          "#ed7953"
                        ],
                        [
                          0.7777777777777778,
                          "#fb9f3a"
                        ],
                        [
                          0.8888888888888888,
                          "#fdca26"
                        ],
                        [
                          1,
                          "#f0f921"
                        ]
                      ],
                      "sequentialminus": [
                        [
                          0,
                          "#0d0887"
                        ],
                        [
                          0.1111111111111111,
                          "#46039f"
                        ],
                        [
                          0.2222222222222222,
                          "#7201a8"
                        ],
                        [
                          0.3333333333333333,
                          "#9c179e"
                        ],
                        [
                          0.4444444444444444,
                          "#bd3786"
                        ],
                        [
                          0.5555555555555556,
                          "#d8576b"
                        ],
                        [
                          0.6666666666666666,
                          "#ed7953"
                        ],
                        [
                          0.7777777777777778,
                          "#fb9f3a"
                        ],
                        [
                          0.8888888888888888,
                          "#fdca26"
                        ],
                        [
                          1,
                          "#f0f921"
                        ]
                      ]
                    },
                    "colorway": [
                      "#636efa",
                      "#EF553B",
                      "#00cc96",
                      "#ab63fa",
                      "#FFA15A",
                      "#19d3f3",
                      "#FF6692",
                      "#B6E880",
                      "#FF97FF",
                      "#FECB52"
                    ],
                    "font": {
                      "color": "#2a3f5f"
                    },
                    "geo": {
                      "bgcolor": "white",
                      "lakecolor": "white",
                      "landcolor": "#E5ECF6",
                      "showlakes": true,
                      "showland": true,
                      "subunitcolor": "white"
                    },
                    "hoverlabel": {
                      "align": "left"
                    },
                    "hovermode": "closest",
                    "mapbox": {
                      "style": "light"
                    },
                    "paper_bgcolor": "white",
                    "plot_bgcolor": "#E5ECF6",
                    "polar": {
                      "angularaxis": {
                        "gridcolor": "white",
                        "linecolor": "white",
                        "ticks": ""
                      },
                      "bgcolor": "#E5ECF6",
                      "radialaxis": {
                        "gridcolor": "white",
                        "linecolor": "white",
                        "ticks": ""
                      }
                    },
                    "scene": {
                      "xaxis": {
                        "backgroundcolor": "#E5ECF6",
                        "gridcolor": "white",
                        "gridwidth": 2,
                        "linecolor": "white",
                        "showbackground": true,
                        "ticks": "",
                        "zerolinecolor": "white"
                      },
                      "yaxis": {
                        "backgroundcolor": "#E5ECF6",
                        "gridcolor": "white",
                        "gridwidth": 2,
                        "linecolor": "white",
                        "showbackground": true,
                        "ticks": "",
                        "zerolinecolor": "white"
                      },
                      "zaxis": {
                        "backgroundcolor": "#E5ECF6",
                        "gridcolor": "white",
                        "gridwidth": 2,
                        "linecolor": "white",
                        "showbackground": true,
                        "ticks": "",
                        "zerolinecolor": "white"
                      }
                    },
                    "shapedefaults": {
                      "line": {
                        "color": "#2a3f5f"
                      }
                    },
                    "ternary": {
                      "aaxis": {
                        "gridcolor": "white",
                        "linecolor": "white",
                        "ticks": ""
                      },
                      "baxis": {
                        "gridcolor": "white",
                        "linecolor": "white",
                        "ticks": ""
                      },
                      "bgcolor": "#E5ECF6",
                      "caxis": {
                        "gridcolor": "white",
                        "linecolor": "white",
                        "ticks": ""
                      }
                    },
                    "title": {
                      "x": 0.05
                    },
                    "xaxis": {
                      "automargin": true,
                      "gridcolor": "white",
                      "linecolor": "white",
                      "ticks": "",
                      "title": {
                        "standoff": 15
                      },
                      "zerolinecolor": "white",
                      "zerolinewidth": 2
                    },
                    "yaxis": {
                      "automargin": true,
                      "gridcolor": "white",
                      "linecolor": "white",
                      "ticks": "",
                      "title": {
                        "standoff": 15
                      },
                      "zerolinecolor": "white",
                      "zerolinewidth": 2
                    }
                  }
                },
                "title": {
                  "text": "EEG Signal for All Classes"
                },
                "width": 900,
                "xaxis": {
                  "title": {
                    "text": "Data Points (178 Data Points for 1 Second)"
                  }
                },
                "yaxis": {
                  "title": {
                    "text": "EEG Value"
                  }
                }
              }
            }
          },
          "metadata": {},
          "output_type": "display_data"
        }
      ],
      "source": [
        "# Create a figure\n",
        "fig = go.Figure()\n",
        "\n",
        "# Assuming df has a 'y' column for labels and rest are data\n",
        "unique_classes = df['y'].unique()\n",
        "\n",
        "# Loop through each class and plot the sample data\n",
        "for label in unique_classes:\n",
        "    class_data = df[df['y'] == label]  # Get data for the current class\n",
        "    sample_index = 0  # Adjust this to select different samples if needed\n",
        "    sample_data = class_data.iloc[sample_index]\n",
        "\n",
        "    # Add the trace for this class\n",
        "    fig.add_trace(go.Scatter(\n",
        "        x=sample_data.index[1:-1],  # Exclude the label and last column (if it's the target variable)\n",
        "        y=sample_data.values[1:-1],  # Exclude the label and last column (if it's the target variable)\n",
        "        mode='lines',\n",
        "        name=label\n",
        "    ))\n",
        "\n",
        "# Set the plot title and labels\n",
        "fig.update_layout(\n",
        "    title='EEG Signal for All Classes',\n",
        "    xaxis_title='Data Points (178 Data Points for 1 Second)',\n",
        "    yaxis_title='EEG Value',\n",
        "    legend_title='Class Labels',\n",
        "    width=900,\n",
        "    height=500\n",
        ")\n",
        "\n",
        "# Display the plot\n",
        "fig.show()"
      ]
    },
    {
      "cell_type": "markdown",
      "metadata": {
        "id": "hbKGASsIKhJJ"
      },
      "source": [
        "Change the y target column (make a binary classification task)"
      ]
    },
    {
      "cell_type": "code",
      "execution_count": 36,
      "metadata": {
        "id": "NkMrfnuIKg4R"
      },
      "outputs": [],
      "source": [
        "# convert target column from object data type to numerical data type\n",
        "dic = {'seizure activity': 1,\n",
        "       'eyes open': 0 ,\n",
        "       'eyes closed': 0,\n",
        "       'tumor region identified': 0,\n",
        "       'EEG from tumor area': 0}\n",
        "\n",
        "df['y'] = df['y'].map(dic)"
      ]
    },
    {
      "cell_type": "code",
      "execution_count": 37,
      "metadata": {
        "colab": {
          "base_uri": "https://localhost:8080/",
          "height": 307
        },
        "id": "zTvxcEjpKy9Q",
        "outputId": "ef9ac26b-cc0b-4c49-db22-0416b7e15b86"
      },
      "outputs": [
        {
          "name": "stdout",
          "output_type": "stream",
          "text": [
            "y\n",
            "0    9200\n",
            "1    2300\n",
            "Name: count, dtype: int64\n"
          ]
        },
        {
          "data": {
            "text/html": [
              "<div>\n",
              "<style scoped>\n",
              "    .dataframe tbody tr th:only-of-type {\n",
              "        vertical-align: middle;\n",
              "    }\n",
              "\n",
              "    .dataframe tbody tr th {\n",
              "        vertical-align: top;\n",
              "    }\n",
              "\n",
              "    .dataframe thead th {\n",
              "        text-align: right;\n",
              "    }\n",
              "</style>\n",
              "<table border=\"1\" class=\"dataframe\">\n",
              "  <thead>\n",
              "    <tr style=\"text-align: right;\">\n",
              "      <th></th>\n",
              "      <th>X1</th>\n",
              "      <th>X2</th>\n",
              "      <th>X3</th>\n",
              "      <th>X4</th>\n",
              "      <th>X5</th>\n",
              "      <th>X6</th>\n",
              "      <th>X7</th>\n",
              "      <th>X8</th>\n",
              "      <th>X9</th>\n",
              "      <th>X10</th>\n",
              "      <th>...</th>\n",
              "      <th>X170</th>\n",
              "      <th>X171</th>\n",
              "      <th>X172</th>\n",
              "      <th>X173</th>\n",
              "      <th>X174</th>\n",
              "      <th>X175</th>\n",
              "      <th>X176</th>\n",
              "      <th>X177</th>\n",
              "      <th>X178</th>\n",
              "      <th>y</th>\n",
              "    </tr>\n",
              "  </thead>\n",
              "  <tbody>\n",
              "    <tr>\n",
              "      <th>0</th>\n",
              "      <td>135</td>\n",
              "      <td>190</td>\n",
              "      <td>229</td>\n",
              "      <td>223</td>\n",
              "      <td>192</td>\n",
              "      <td>125</td>\n",
              "      <td>55</td>\n",
              "      <td>-9</td>\n",
              "      <td>-33</td>\n",
              "      <td>-38</td>\n",
              "      <td>...</td>\n",
              "      <td>-17</td>\n",
              "      <td>-15</td>\n",
              "      <td>-31</td>\n",
              "      <td>-77</td>\n",
              "      <td>-103</td>\n",
              "      <td>-127</td>\n",
              "      <td>-116</td>\n",
              "      <td>-83</td>\n",
              "      <td>-51</td>\n",
              "      <td>0</td>\n",
              "    </tr>\n",
              "    <tr>\n",
              "      <th>1</th>\n",
              "      <td>386</td>\n",
              "      <td>382</td>\n",
              "      <td>356</td>\n",
              "      <td>331</td>\n",
              "      <td>320</td>\n",
              "      <td>315</td>\n",
              "      <td>307</td>\n",
              "      <td>272</td>\n",
              "      <td>244</td>\n",
              "      <td>232</td>\n",
              "      <td>...</td>\n",
              "      <td>164</td>\n",
              "      <td>150</td>\n",
              "      <td>146</td>\n",
              "      <td>152</td>\n",
              "      <td>157</td>\n",
              "      <td>156</td>\n",
              "      <td>154</td>\n",
              "      <td>143</td>\n",
              "      <td>129</td>\n",
              "      <td>1</td>\n",
              "    </tr>\n",
              "    <tr>\n",
              "      <th>2</th>\n",
              "      <td>-32</td>\n",
              "      <td>-39</td>\n",
              "      <td>-47</td>\n",
              "      <td>-37</td>\n",
              "      <td>-32</td>\n",
              "      <td>-36</td>\n",
              "      <td>-57</td>\n",
              "      <td>-73</td>\n",
              "      <td>-85</td>\n",
              "      <td>-94</td>\n",
              "      <td>...</td>\n",
              "      <td>57</td>\n",
              "      <td>64</td>\n",
              "      <td>48</td>\n",
              "      <td>19</td>\n",
              "      <td>-12</td>\n",
              "      <td>-30</td>\n",
              "      <td>-35</td>\n",
              "      <td>-35</td>\n",
              "      <td>-36</td>\n",
              "      <td>0</td>\n",
              "    </tr>\n",
              "    <tr>\n",
              "      <th>3</th>\n",
              "      <td>-105</td>\n",
              "      <td>-101</td>\n",
              "      <td>-96</td>\n",
              "      <td>-92</td>\n",
              "      <td>-89</td>\n",
              "      <td>-95</td>\n",
              "      <td>-102</td>\n",
              "      <td>-100</td>\n",
              "      <td>-87</td>\n",
              "      <td>-79</td>\n",
              "      <td>...</td>\n",
              "      <td>-82</td>\n",
              "      <td>-81</td>\n",
              "      <td>-80</td>\n",
              "      <td>-77</td>\n",
              "      <td>-85</td>\n",
              "      <td>-77</td>\n",
              "      <td>-72</td>\n",
              "      <td>-69</td>\n",
              "      <td>-65</td>\n",
              "      <td>0</td>\n",
              "    </tr>\n",
              "    <tr>\n",
              "      <th>4</th>\n",
              "      <td>-9</td>\n",
              "      <td>-65</td>\n",
              "      <td>-98</td>\n",
              "      <td>-102</td>\n",
              "      <td>-78</td>\n",
              "      <td>-48</td>\n",
              "      <td>-16</td>\n",
              "      <td>0</td>\n",
              "      <td>-21</td>\n",
              "      <td>-59</td>\n",
              "      <td>...</td>\n",
              "      <td>4</td>\n",
              "      <td>2</td>\n",
              "      <td>-12</td>\n",
              "      <td>-32</td>\n",
              "      <td>-41</td>\n",
              "      <td>-65</td>\n",
              "      <td>-83</td>\n",
              "      <td>-89</td>\n",
              "      <td>-73</td>\n",
              "      <td>0</td>\n",
              "    </tr>\n",
              "  </tbody>\n",
              "</table>\n",
              "<p>5 rows × 179 columns</p>\n",
              "</div>"
            ],
            "text/plain": [
              "    X1   X2   X3   X4   X5   X6   X7   X8   X9  X10  ...  X170  X171  X172  \\\n",
              "0  135  190  229  223  192  125   55   -9  -33  -38  ...   -17   -15   -31   \n",
              "1  386  382  356  331  320  315  307  272  244  232  ...   164   150   146   \n",
              "2  -32  -39  -47  -37  -32  -36  -57  -73  -85  -94  ...    57    64    48   \n",
              "3 -105 -101  -96  -92  -89  -95 -102 -100  -87  -79  ...   -82   -81   -80   \n",
              "4   -9  -65  -98 -102  -78  -48  -16    0  -21  -59  ...     4     2   -12   \n",
              "\n",
              "   X173  X174  X175  X176  X177  X178  y  \n",
              "0   -77  -103  -127  -116   -83   -51  0  \n",
              "1   152   157   156   154   143   129  1  \n",
              "2    19   -12   -30   -35   -35   -36  0  \n",
              "3   -77   -85   -77   -72   -69   -65  0  \n",
              "4   -32   -41   -65   -83   -89   -73  0  \n",
              "\n",
              "[5 rows x 179 columns]"
            ]
          },
          "execution_count": 37,
          "metadata": {},
          "output_type": "execute_result"
        }
      ],
      "source": [
        "#Check the difference in dataframe in general\n",
        "#Check which values do we have in y column\n",
        "print(df['y'].value_counts())\n",
        "df.head()"
      ]
    },
    {
      "cell_type": "code",
      "execution_count": 38,
      "metadata": {
        "colab": {
          "base_uri": "https://localhost:8080/",
          "height": 542
        },
        "id": "RvTpX3GjkbhX",
        "outputId": "332a992f-0376-41a6-985a-6ecce96be56d"
      },
      "outputs": [
        {
          "data": {
            "application/vnd.plotly.v1+json": {
              "config": {
                "plotlyServerURL": "https://plot.ly"
              },
              "data": [
                {
                  "mode": "lines",
                  "name": "y=1",
                  "type": "scatter",
                  "y": [
                    -127,
                    -114,
                    -111,
                    -103,
                    -92,
                    -71,
                    -55,
                    -36,
                    -13,
                    4,
                    21,
                    8,
                    -34,
                    -98,
                    -158,
                    -163,
                    -146,
                    -110,
                    -60,
                    -14,
                    17,
                    24,
                    12,
                    -1,
                    3,
                    9,
                    -7,
                    -48,
                    -94,
                    -114,
                    -107,
                    -94,
                    -86,
                    -76,
                    -61,
                    -36,
                    -17,
                    -6,
                    -1,
                    8,
                    18,
                    27,
                    38,
                    48,
                    52,
                    63,
                    73,
                    89,
                    97,
                    103,
                    100,
                    94,
                    97,
                    105,
                    120,
                    137,
                    151,
                    160,
                    154,
                    118,
                    69,
                    -8,
                    -46,
                    12,
                    175,
                    339,
                    405,
                    352,
                    244,
                    148,
                    75,
                    0,
                    -65,
                    -97,
                    -110,
                    -116,
                    -120,
                    -121,
                    -115,
                    -98,
                    -81,
                    -55,
                    -39,
                    -29,
                    -60,
                    -117,
                    -190,
                    -234,
                    -224,
                    -167,
                    -79,
                    1,
                    40,
                    32,
                    -1,
                    -20,
                    -26,
                    -20,
                    -18,
                    -13,
                    -6,
                    3,
                    13,
                    22,
                    39,
                    53,
                    71,
                    82,
                    91,
                    103,
                    111,
                    119,
                    128,
                    135,
                    137,
                    139,
                    139,
                    141,
                    147,
                    155,
                    158,
                    160,
                    160,
                    155,
                    148,
                    144,
                    146,
                    149,
                    155,
                    155,
                    156,
                    148,
                    136,
                    128,
                    118,
                    104,
                    99,
                    90,
                    77,
                    69,
                    71,
                    80,
                    90,
                    90,
                    77,
                    30,
                    -58,
                    -162,
                    -168,
                    13,
                    295,
                    496,
                    502,
                    362,
                    206,
                    94,
                    15,
                    -47,
                    -95,
                    -138,
                    -172,
                    -197,
                    -217,
                    -248,
                    -256,
                    -280,
                    -291,
                    -301,
                    -307,
                    -309,
                    -304,
                    -287,
                    -250,
                    -200,
                    -171,
                    -172,
                    -214,
                    1
                  ]
                },
                {
                  "mode": "lines",
                  "name": "y=0",
                  "type": "scatter",
                  "y": [
                    -20,
                    -30,
                    -44,
                    -56,
                    -37,
                    -17,
                    10,
                    20,
                    33,
                    19,
                    13,
                    0,
                    2,
                    -10,
                    -16,
                    -15,
                    -9,
                    26,
                    62,
                    95,
                    96,
                    96,
                    83,
                    59,
                    35,
                    11,
                    -17,
                    -43,
                    -48,
                    -38,
                    -24,
                    -16,
                    4,
                    43,
                    62,
                    86,
                    77,
                    61,
                    50,
                    39,
                    47,
                    44,
                    48,
                    33,
                    13,
                    4,
                    -1,
                    -3,
                    -12,
                    -19,
                    -23,
                    -19,
                    -2,
                    31,
                    52,
                    62,
                    55,
                    37,
                    15,
                    3,
                    22,
                    17,
                    16,
                    12,
                    10,
                    21,
                    42,
                    60,
                    73,
                    101,
                    125,
                    143,
                    137,
                    105,
                    65,
                    17,
                    -9,
                    -25,
                    -29,
                    -26,
                    -13,
                    3,
                    -10,
                    -3,
                    8,
                    31,
                    60,
                    97,
                    130,
                    137,
                    127,
                    89,
                    58,
                    24,
                    18,
                    12,
                    1,
                    2,
                    21,
                    49,
                    65,
                    63,
                    55,
                    48,
                    49,
                    47,
                    49,
                    47,
                    53,
                    28,
                    -3,
                    -27,
                    -6,
                    49,
                    99,
                    123,
                    116,
                    99,
                    96,
                    105,
                    98,
                    78,
                    50,
                    17,
                    -11,
                    -28,
                    -24,
                    -12,
                    4,
                    0,
                    -22,
                    -38,
                    -45,
                    -42,
                    -41,
                    -44,
                    -15,
                    8,
                    46,
                    85,
                    121,
                    138,
                    124,
                    84,
                    41,
                    18,
                    25,
                    37,
                    21,
                    9,
                    -14,
                    -26,
                    -42,
                    -45,
                    -38,
                    -21,
                    -9,
                    5,
                    6,
                    -9,
                    -5,
                    -4,
                    3,
                    17,
                    10,
                    3,
                    -14,
                    -11,
                    -7,
                    -7,
                    9,
                    26,
                    41,
                    30,
                    2,
                    -18,
                    -17,
                    0
                  ]
                }
              ],
              "layout": {
                "template": {
                  "data": {
                    "bar": [
                      {
                        "error_x": {
                          "color": "#2a3f5f"
                        },
                        "error_y": {
                          "color": "#2a3f5f"
                        },
                        "marker": {
                          "line": {
                            "color": "#E5ECF6",
                            "width": 0.5
                          },
                          "pattern": {
                            "fillmode": "overlay",
                            "size": 10,
                            "solidity": 0.2
                          }
                        },
                        "type": "bar"
                      }
                    ],
                    "barpolar": [
                      {
                        "marker": {
                          "line": {
                            "color": "#E5ECF6",
                            "width": 0.5
                          },
                          "pattern": {
                            "fillmode": "overlay",
                            "size": 10,
                            "solidity": 0.2
                          }
                        },
                        "type": "barpolar"
                      }
                    ],
                    "carpet": [
                      {
                        "aaxis": {
                          "endlinecolor": "#2a3f5f",
                          "gridcolor": "white",
                          "linecolor": "white",
                          "minorgridcolor": "white",
                          "startlinecolor": "#2a3f5f"
                        },
                        "baxis": {
                          "endlinecolor": "#2a3f5f",
                          "gridcolor": "white",
                          "linecolor": "white",
                          "minorgridcolor": "white",
                          "startlinecolor": "#2a3f5f"
                        },
                        "type": "carpet"
                      }
                    ],
                    "choropleth": [
                      {
                        "colorbar": {
                          "outlinewidth": 0,
                          "ticks": ""
                        },
                        "type": "choropleth"
                      }
                    ],
                    "contour": [
                      {
                        "colorbar": {
                          "outlinewidth": 0,
                          "ticks": ""
                        },
                        "colorscale": [
                          [
                            0,
                            "#0d0887"
                          ],
                          [
                            0.1111111111111111,
                            "#46039f"
                          ],
                          [
                            0.2222222222222222,
                            "#7201a8"
                          ],
                          [
                            0.3333333333333333,
                            "#9c179e"
                          ],
                          [
                            0.4444444444444444,
                            "#bd3786"
                          ],
                          [
                            0.5555555555555556,
                            "#d8576b"
                          ],
                          [
                            0.6666666666666666,
                            "#ed7953"
                          ],
                          [
                            0.7777777777777778,
                            "#fb9f3a"
                          ],
                          [
                            0.8888888888888888,
                            "#fdca26"
                          ],
                          [
                            1,
                            "#f0f921"
                          ]
                        ],
                        "type": "contour"
                      }
                    ],
                    "contourcarpet": [
                      {
                        "colorbar": {
                          "outlinewidth": 0,
                          "ticks": ""
                        },
                        "type": "contourcarpet"
                      }
                    ],
                    "heatmap": [
                      {
                        "colorbar": {
                          "outlinewidth": 0,
                          "ticks": ""
                        },
                        "colorscale": [
                          [
                            0,
                            "#0d0887"
                          ],
                          [
                            0.1111111111111111,
                            "#46039f"
                          ],
                          [
                            0.2222222222222222,
                            "#7201a8"
                          ],
                          [
                            0.3333333333333333,
                            "#9c179e"
                          ],
                          [
                            0.4444444444444444,
                            "#bd3786"
                          ],
                          [
                            0.5555555555555556,
                            "#d8576b"
                          ],
                          [
                            0.6666666666666666,
                            "#ed7953"
                          ],
                          [
                            0.7777777777777778,
                            "#fb9f3a"
                          ],
                          [
                            0.8888888888888888,
                            "#fdca26"
                          ],
                          [
                            1,
                            "#f0f921"
                          ]
                        ],
                        "type": "heatmap"
                      }
                    ],
                    "heatmapgl": [
                      {
                        "colorbar": {
                          "outlinewidth": 0,
                          "ticks": ""
                        },
                        "colorscale": [
                          [
                            0,
                            "#0d0887"
                          ],
                          [
                            0.1111111111111111,
                            "#46039f"
                          ],
                          [
                            0.2222222222222222,
                            "#7201a8"
                          ],
                          [
                            0.3333333333333333,
                            "#9c179e"
                          ],
                          [
                            0.4444444444444444,
                            "#bd3786"
                          ],
                          [
                            0.5555555555555556,
                            "#d8576b"
                          ],
                          [
                            0.6666666666666666,
                            "#ed7953"
                          ],
                          [
                            0.7777777777777778,
                            "#fb9f3a"
                          ],
                          [
                            0.8888888888888888,
                            "#fdca26"
                          ],
                          [
                            1,
                            "#f0f921"
                          ]
                        ],
                        "type": "heatmapgl"
                      }
                    ],
                    "histogram": [
                      {
                        "marker": {
                          "pattern": {
                            "fillmode": "overlay",
                            "size": 10,
                            "solidity": 0.2
                          }
                        },
                        "type": "histogram"
                      }
                    ],
                    "histogram2d": [
                      {
                        "colorbar": {
                          "outlinewidth": 0,
                          "ticks": ""
                        },
                        "colorscale": [
                          [
                            0,
                            "#0d0887"
                          ],
                          [
                            0.1111111111111111,
                            "#46039f"
                          ],
                          [
                            0.2222222222222222,
                            "#7201a8"
                          ],
                          [
                            0.3333333333333333,
                            "#9c179e"
                          ],
                          [
                            0.4444444444444444,
                            "#bd3786"
                          ],
                          [
                            0.5555555555555556,
                            "#d8576b"
                          ],
                          [
                            0.6666666666666666,
                            "#ed7953"
                          ],
                          [
                            0.7777777777777778,
                            "#fb9f3a"
                          ],
                          [
                            0.8888888888888888,
                            "#fdca26"
                          ],
                          [
                            1,
                            "#f0f921"
                          ]
                        ],
                        "type": "histogram2d"
                      }
                    ],
                    "histogram2dcontour": [
                      {
                        "colorbar": {
                          "outlinewidth": 0,
                          "ticks": ""
                        },
                        "colorscale": [
                          [
                            0,
                            "#0d0887"
                          ],
                          [
                            0.1111111111111111,
                            "#46039f"
                          ],
                          [
                            0.2222222222222222,
                            "#7201a8"
                          ],
                          [
                            0.3333333333333333,
                            "#9c179e"
                          ],
                          [
                            0.4444444444444444,
                            "#bd3786"
                          ],
                          [
                            0.5555555555555556,
                            "#d8576b"
                          ],
                          [
                            0.6666666666666666,
                            "#ed7953"
                          ],
                          [
                            0.7777777777777778,
                            "#fb9f3a"
                          ],
                          [
                            0.8888888888888888,
                            "#fdca26"
                          ],
                          [
                            1,
                            "#f0f921"
                          ]
                        ],
                        "type": "histogram2dcontour"
                      }
                    ],
                    "mesh3d": [
                      {
                        "colorbar": {
                          "outlinewidth": 0,
                          "ticks": ""
                        },
                        "type": "mesh3d"
                      }
                    ],
                    "parcoords": [
                      {
                        "line": {
                          "colorbar": {
                            "outlinewidth": 0,
                            "ticks": ""
                          }
                        },
                        "type": "parcoords"
                      }
                    ],
                    "pie": [
                      {
                        "automargin": true,
                        "type": "pie"
                      }
                    ],
                    "scatter": [
                      {
                        "fillpattern": {
                          "fillmode": "overlay",
                          "size": 10,
                          "solidity": 0.2
                        },
                        "type": "scatter"
                      }
                    ],
                    "scatter3d": [
                      {
                        "line": {
                          "colorbar": {
                            "outlinewidth": 0,
                            "ticks": ""
                          }
                        },
                        "marker": {
                          "colorbar": {
                            "outlinewidth": 0,
                            "ticks": ""
                          }
                        },
                        "type": "scatter3d"
                      }
                    ],
                    "scattercarpet": [
                      {
                        "marker": {
                          "colorbar": {
                            "outlinewidth": 0,
                            "ticks": ""
                          }
                        },
                        "type": "scattercarpet"
                      }
                    ],
                    "scattergeo": [
                      {
                        "marker": {
                          "colorbar": {
                            "outlinewidth": 0,
                            "ticks": ""
                          }
                        },
                        "type": "scattergeo"
                      }
                    ],
                    "scattergl": [
                      {
                        "marker": {
                          "colorbar": {
                            "outlinewidth": 0,
                            "ticks": ""
                          }
                        },
                        "type": "scattergl"
                      }
                    ],
                    "scattermapbox": [
                      {
                        "marker": {
                          "colorbar": {
                            "outlinewidth": 0,
                            "ticks": ""
                          }
                        },
                        "type": "scattermapbox"
                      }
                    ],
                    "scatterpolar": [
                      {
                        "marker": {
                          "colorbar": {
                            "outlinewidth": 0,
                            "ticks": ""
                          }
                        },
                        "type": "scatterpolar"
                      }
                    ],
                    "scatterpolargl": [
                      {
                        "marker": {
                          "colorbar": {
                            "outlinewidth": 0,
                            "ticks": ""
                          }
                        },
                        "type": "scatterpolargl"
                      }
                    ],
                    "scatterternary": [
                      {
                        "marker": {
                          "colorbar": {
                            "outlinewidth": 0,
                            "ticks": ""
                          }
                        },
                        "type": "scatterternary"
                      }
                    ],
                    "surface": [
                      {
                        "colorbar": {
                          "outlinewidth": 0,
                          "ticks": ""
                        },
                        "colorscale": [
                          [
                            0,
                            "#0d0887"
                          ],
                          [
                            0.1111111111111111,
                            "#46039f"
                          ],
                          [
                            0.2222222222222222,
                            "#7201a8"
                          ],
                          [
                            0.3333333333333333,
                            "#9c179e"
                          ],
                          [
                            0.4444444444444444,
                            "#bd3786"
                          ],
                          [
                            0.5555555555555556,
                            "#d8576b"
                          ],
                          [
                            0.6666666666666666,
                            "#ed7953"
                          ],
                          [
                            0.7777777777777778,
                            "#fb9f3a"
                          ],
                          [
                            0.8888888888888888,
                            "#fdca26"
                          ],
                          [
                            1,
                            "#f0f921"
                          ]
                        ],
                        "type": "surface"
                      }
                    ],
                    "table": [
                      {
                        "cells": {
                          "fill": {
                            "color": "#EBF0F8"
                          },
                          "line": {
                            "color": "white"
                          }
                        },
                        "header": {
                          "fill": {
                            "color": "#C8D4E3"
                          },
                          "line": {
                            "color": "white"
                          }
                        },
                        "type": "table"
                      }
                    ]
                  },
                  "layout": {
                    "annotationdefaults": {
                      "arrowcolor": "#2a3f5f",
                      "arrowhead": 0,
                      "arrowwidth": 1
                    },
                    "autotypenumbers": "strict",
                    "coloraxis": {
                      "colorbar": {
                        "outlinewidth": 0,
                        "ticks": ""
                      }
                    },
                    "colorscale": {
                      "diverging": [
                        [
                          0,
                          "#8e0152"
                        ],
                        [
                          0.1,
                          "#c51b7d"
                        ],
                        [
                          0.2,
                          "#de77ae"
                        ],
                        [
                          0.3,
                          "#f1b6da"
                        ],
                        [
                          0.4,
                          "#fde0ef"
                        ],
                        [
                          0.5,
                          "#f7f7f7"
                        ],
                        [
                          0.6,
                          "#e6f5d0"
                        ],
                        [
                          0.7,
                          "#b8e186"
                        ],
                        [
                          0.8,
                          "#7fbc41"
                        ],
                        [
                          0.9,
                          "#4d9221"
                        ],
                        [
                          1,
                          "#276419"
                        ]
                      ],
                      "sequential": [
                        [
                          0,
                          "#0d0887"
                        ],
                        [
                          0.1111111111111111,
                          "#46039f"
                        ],
                        [
                          0.2222222222222222,
                          "#7201a8"
                        ],
                        [
                          0.3333333333333333,
                          "#9c179e"
                        ],
                        [
                          0.4444444444444444,
                          "#bd3786"
                        ],
                        [
                          0.5555555555555556,
                          "#d8576b"
                        ],
                        [
                          0.6666666666666666,
                          "#ed7953"
                        ],
                        [
                          0.7777777777777778,
                          "#fb9f3a"
                        ],
                        [
                          0.8888888888888888,
                          "#fdca26"
                        ],
                        [
                          1,
                          "#f0f921"
                        ]
                      ],
                      "sequentialminus": [
                        [
                          0,
                          "#0d0887"
                        ],
                        [
                          0.1111111111111111,
                          "#46039f"
                        ],
                        [
                          0.2222222222222222,
                          "#7201a8"
                        ],
                        [
                          0.3333333333333333,
                          "#9c179e"
                        ],
                        [
                          0.4444444444444444,
                          "#bd3786"
                        ],
                        [
                          0.5555555555555556,
                          "#d8576b"
                        ],
                        [
                          0.6666666666666666,
                          "#ed7953"
                        ],
                        [
                          0.7777777777777778,
                          "#fb9f3a"
                        ],
                        [
                          0.8888888888888888,
                          "#fdca26"
                        ],
                        [
                          1,
                          "#f0f921"
                        ]
                      ]
                    },
                    "colorway": [
                      "#636efa",
                      "#EF553B",
                      "#00cc96",
                      "#ab63fa",
                      "#FFA15A",
                      "#19d3f3",
                      "#FF6692",
                      "#B6E880",
                      "#FF97FF",
                      "#FECB52"
                    ],
                    "font": {
                      "color": "#2a3f5f"
                    },
                    "geo": {
                      "bgcolor": "white",
                      "lakecolor": "white",
                      "landcolor": "#E5ECF6",
                      "showlakes": true,
                      "showland": true,
                      "subunitcolor": "white"
                    },
                    "hoverlabel": {
                      "align": "left"
                    },
                    "hovermode": "closest",
                    "mapbox": {
                      "style": "light"
                    },
                    "paper_bgcolor": "white",
                    "plot_bgcolor": "#E5ECF6",
                    "polar": {
                      "angularaxis": {
                        "gridcolor": "white",
                        "linecolor": "white",
                        "ticks": ""
                      },
                      "bgcolor": "#E5ECF6",
                      "radialaxis": {
                        "gridcolor": "white",
                        "linecolor": "white",
                        "ticks": ""
                      }
                    },
                    "scene": {
                      "xaxis": {
                        "backgroundcolor": "#E5ECF6",
                        "gridcolor": "white",
                        "gridwidth": 2,
                        "linecolor": "white",
                        "showbackground": true,
                        "ticks": "",
                        "zerolinecolor": "white"
                      },
                      "yaxis": {
                        "backgroundcolor": "#E5ECF6",
                        "gridcolor": "white",
                        "gridwidth": 2,
                        "linecolor": "white",
                        "showbackground": true,
                        "ticks": "",
                        "zerolinecolor": "white"
                      },
                      "zaxis": {
                        "backgroundcolor": "#E5ECF6",
                        "gridcolor": "white",
                        "gridwidth": 2,
                        "linecolor": "white",
                        "showbackground": true,
                        "ticks": "",
                        "zerolinecolor": "white"
                      }
                    },
                    "shapedefaults": {
                      "line": {
                        "color": "#2a3f5f"
                      }
                    },
                    "ternary": {
                      "aaxis": {
                        "gridcolor": "white",
                        "linecolor": "white",
                        "ticks": ""
                      },
                      "baxis": {
                        "gridcolor": "white",
                        "linecolor": "white",
                        "ticks": ""
                      },
                      "bgcolor": "#E5ECF6",
                      "caxis": {
                        "gridcolor": "white",
                        "linecolor": "white",
                        "ticks": ""
                      }
                    },
                    "title": {
                      "x": 0.05
                    },
                    "xaxis": {
                      "automargin": true,
                      "gridcolor": "white",
                      "linecolor": "white",
                      "ticks": "",
                      "title": {
                        "standoff": 15
                      },
                      "zerolinecolor": "white",
                      "zerolinewidth": 2
                    },
                    "yaxis": {
                      "automargin": true,
                      "gridcolor": "white",
                      "linecolor": "white",
                      "ticks": "",
                      "title": {
                        "standoff": 15
                      },
                      "zerolinecolor": "white",
                      "zerolinewidth": 2
                    }
                  }
                },
                "title": {
                  "text": "Visualization of One Sample for Each Class"
                },
                "xaxis": {
                  "title": {
                    "text": "Data Points"
                  }
                },
                "yaxis": {
                  "title": {
                    "text": "EEG Value"
                  }
                }
              }
            }
          },
          "metadata": {},
          "output_type": "display_data"
        }
      ],
      "source": [
        "# Select one random sample for each class\n",
        "sample_y1 = df[df['y'] == 1].sample(1)\n",
        "sample_y0 = df[df['y'] == 0].sample(1)\n",
        "\n",
        "# Create the plot\n",
        "fig = go.Figure()\n",
        "\n",
        "# Add traces for the selected samples\n",
        "fig.add_trace(go.Scatter(y=sample_y1.iloc[0, 1:].values, mode='lines', name='y=1'))\n",
        "fig.add_trace(go.Scatter(y=sample_y0.iloc[0, 1:].values, mode='lines', name='y=0'))\n",
        "\n",
        "# Update layout\n",
        "fig.update_layout(title='Visualization of One Sample for Each Class',\n",
        "                  xaxis_title='Data Points',\n",
        "                  yaxis_title='EEG Value')"
      ]
    },
    {
      "cell_type": "code",
      "execution_count": 39,
      "metadata": {
        "id": "dt8-y6Eps-2G"
      },
      "outputs": [],
      "source": [
        "df1= df.copy()\n",
        "df2= df.copy()"
      ]
    },
    {
      "cell_type": "markdown",
      "metadata": {
        "id": "omAv-gRQE9ou"
      },
      "source": [
        "## Model(ANN)"
      ]
    },
    {
      "cell_type": "code",
      "execution_count": 40,
      "metadata": {
        "id": "7RYuHBV4DbcQ"
      },
      "outputs": [],
      "source": [
        "# Separate features and labels\n",
        "X = df1.drop('y', axis=1)  # Drop the label column 'y'\n",
        "y = df1['y']\n",
        "\n",
        "# Split the data into training and test sets\n",
        "X_train, X_test, y_train, y_test = train_test_split(X, y, test_size=0.2, random_state=42)"
      ]
    },
    {
      "cell_type": "code",
      "execution_count": 41,
      "metadata": {
        "id": "lWh2OfnjDbP3"
      },
      "outputs": [],
      "source": [
        "# Build the ANN model for binary classification\n",
        "model = Sequential()\n",
        "\n",
        "# Input layer\n",
        "model.add(Dense(256, input_shape=(X_train.shape[1],), activation='elu'))\n",
        "model.add(BatchNormalization())  # Batch Normalization after input layer\n",
        "model.add(Dropout(0.2))  # Dropout after Batch Normalization\n",
        "\n",
        "# Hidden layers\n",
        "model.add(Dense(128, activation='elu'))\n",
        "model.add(Dense(64, activation='elu'))\n",
        "model.add(BatchNormalization())  # Batch Normalization after first hidden layer\n",
        "model.add(Dropout(0.3))  # Dropout after Batch Normalization\n",
        "\n",
        "model.add(Dense(32, activation='elu'))\n",
        "model.add(BatchNormalization())  # Batch Normalization after second hidden layer\n",
        "model.add(Dropout(0.2))  # Dropout after Batch Normalization\n",
        "\n",
        "# Output layer (for binary classification)\n",
        "model.add(Dense(1, activation='sigmoid'))  # Output is 1 neuron with sigmoid for binary classification\n",
        "\n",
        "# Compile the model\n",
        "model.compile(optimizer='adam', loss='binary_crossentropy', metrics=['accuracy'])\n"
      ]
    },
    {
      "cell_type": "code",
      "execution_count": 42,
      "metadata": {
        "colab": {
          "base_uri": "https://localhost:8080/",
          "height": 545
        },
        "id": "E9rAMXO0m8C9",
        "outputId": "18e637dd-f69e-4854-e46c-fc02fd1af4d7"
      },
      "outputs": [
        {
          "data": {
            "text/html": [
              "<pre style=\"white-space:pre;overflow-x:auto;line-height:normal;font-family:Menlo,'DejaVu Sans Mono',consolas,'Courier New',monospace\"><span style=\"font-weight: bold\">Model: \"sequential_1\"</span>\n",
              "</pre>\n"
            ],
            "text/plain": [
              "\u001b[1mModel: \"sequential_1\"\u001b[0m\n"
            ]
          },
          "metadata": {},
          "output_type": "display_data"
        },
        {
          "data": {
            "text/html": [
              "<pre style=\"white-space:pre;overflow-x:auto;line-height:normal;font-family:Menlo,'DejaVu Sans Mono',consolas,'Courier New',monospace\">┏━━━━━━━━━━━━━━━━━━━━━━━━━━━━━━━━━┳━━━━━━━━━━━━━━━━━━━━━━━━┳━━━━━━━━━━━━━━━┓\n",
              "┃<span style=\"font-weight: bold\"> Layer (type)                    </span>┃<span style=\"font-weight: bold\"> Output Shape           </span>┃<span style=\"font-weight: bold\">       Param # </span>┃\n",
              "┡━━━━━━━━━━━━━━━━━━━━━━━━━━━━━━━━━╇━━━━━━━━━━━━━━━━━━━━━━━━╇━━━━━━━━━━━━━━━┩\n",
              "│ dense_5 (<span style=\"color: #0087ff; text-decoration-color: #0087ff\">Dense</span>)                 │ (<span style=\"color: #00d7ff; text-decoration-color: #00d7ff\">None</span>, <span style=\"color: #00af00; text-decoration-color: #00af00\">256</span>)            │        <span style=\"color: #00af00; text-decoration-color: #00af00\">45,824</span> │\n",
              "├─────────────────────────────────┼────────────────────────┼───────────────┤\n",
              "│ batch_normalization_3           │ (<span style=\"color: #00d7ff; text-decoration-color: #00d7ff\">None</span>, <span style=\"color: #00af00; text-decoration-color: #00af00\">256</span>)            │         <span style=\"color: #00af00; text-decoration-color: #00af00\">1,024</span> │\n",
              "│ (<span style=\"color: #0087ff; text-decoration-color: #0087ff\">BatchNormalization</span>)            │                        │               │\n",
              "├─────────────────────────────────┼────────────────────────┼───────────────┤\n",
              "│ dropout_3 (<span style=\"color: #0087ff; text-decoration-color: #0087ff\">Dropout</span>)             │ (<span style=\"color: #00d7ff; text-decoration-color: #00d7ff\">None</span>, <span style=\"color: #00af00; text-decoration-color: #00af00\">256</span>)            │             <span style=\"color: #00af00; text-decoration-color: #00af00\">0</span> │\n",
              "├─────────────────────────────────┼────────────────────────┼───────────────┤\n",
              "│ dense_6 (<span style=\"color: #0087ff; text-decoration-color: #0087ff\">Dense</span>)                 │ (<span style=\"color: #00d7ff; text-decoration-color: #00d7ff\">None</span>, <span style=\"color: #00af00; text-decoration-color: #00af00\">128</span>)            │        <span style=\"color: #00af00; text-decoration-color: #00af00\">32,896</span> │\n",
              "├─────────────────────────────────┼────────────────────────┼───────────────┤\n",
              "│ dense_7 (<span style=\"color: #0087ff; text-decoration-color: #0087ff\">Dense</span>)                 │ (<span style=\"color: #00d7ff; text-decoration-color: #00d7ff\">None</span>, <span style=\"color: #00af00; text-decoration-color: #00af00\">64</span>)             │         <span style=\"color: #00af00; text-decoration-color: #00af00\">8,256</span> │\n",
              "├─────────────────────────────────┼────────────────────────┼───────────────┤\n",
              "│ batch_normalization_4           │ (<span style=\"color: #00d7ff; text-decoration-color: #00d7ff\">None</span>, <span style=\"color: #00af00; text-decoration-color: #00af00\">64</span>)             │           <span style=\"color: #00af00; text-decoration-color: #00af00\">256</span> │\n",
              "│ (<span style=\"color: #0087ff; text-decoration-color: #0087ff\">BatchNormalization</span>)            │                        │               │\n",
              "├─────────────────────────────────┼────────────────────────┼───────────────┤\n",
              "│ dropout_4 (<span style=\"color: #0087ff; text-decoration-color: #0087ff\">Dropout</span>)             │ (<span style=\"color: #00d7ff; text-decoration-color: #00d7ff\">None</span>, <span style=\"color: #00af00; text-decoration-color: #00af00\">64</span>)             │             <span style=\"color: #00af00; text-decoration-color: #00af00\">0</span> │\n",
              "├─────────────────────────────────┼────────────────────────┼───────────────┤\n",
              "│ dense_8 (<span style=\"color: #0087ff; text-decoration-color: #0087ff\">Dense</span>)                 │ (<span style=\"color: #00d7ff; text-decoration-color: #00d7ff\">None</span>, <span style=\"color: #00af00; text-decoration-color: #00af00\">32</span>)             │         <span style=\"color: #00af00; text-decoration-color: #00af00\">2,080</span> │\n",
              "├─────────────────────────────────┼────────────────────────┼───────────────┤\n",
              "│ batch_normalization_5           │ (<span style=\"color: #00d7ff; text-decoration-color: #00d7ff\">None</span>, <span style=\"color: #00af00; text-decoration-color: #00af00\">32</span>)             │           <span style=\"color: #00af00; text-decoration-color: #00af00\">128</span> │\n",
              "│ (<span style=\"color: #0087ff; text-decoration-color: #0087ff\">BatchNormalization</span>)            │                        │               │\n",
              "├─────────────────────────────────┼────────────────────────┼───────────────┤\n",
              "│ dropout_5 (<span style=\"color: #0087ff; text-decoration-color: #0087ff\">Dropout</span>)             │ (<span style=\"color: #00d7ff; text-decoration-color: #00d7ff\">None</span>, <span style=\"color: #00af00; text-decoration-color: #00af00\">32</span>)             │             <span style=\"color: #00af00; text-decoration-color: #00af00\">0</span> │\n",
              "├─────────────────────────────────┼────────────────────────┼───────────────┤\n",
              "│ dense_9 (<span style=\"color: #0087ff; text-decoration-color: #0087ff\">Dense</span>)                 │ (<span style=\"color: #00d7ff; text-decoration-color: #00d7ff\">None</span>, <span style=\"color: #00af00; text-decoration-color: #00af00\">1</span>)              │            <span style=\"color: #00af00; text-decoration-color: #00af00\">33</span> │\n",
              "└─────────────────────────────────┴────────────────────────┴───────────────┘\n",
              "</pre>\n"
            ],
            "text/plain": [
              "┏━━━━━━━━━━━━━━━━━━━━━━━━━━━━━━━━━┳━━━━━━━━━━━━━━━━━━━━━━━━┳━━━━━━━━━━━━━━━┓\n",
              "┃\u001b[1m \u001b[0m\u001b[1mLayer (type)                   \u001b[0m\u001b[1m \u001b[0m┃\u001b[1m \u001b[0m\u001b[1mOutput Shape          \u001b[0m\u001b[1m \u001b[0m┃\u001b[1m \u001b[0m\u001b[1m      Param #\u001b[0m\u001b[1m \u001b[0m┃\n",
              "┡━━━━━━━━━━━━━━━━━━━━━━━━━━━━━━━━━╇━━━━━━━━━━━━━━━━━━━━━━━━╇━━━━━━━━━━━━━━━┩\n",
              "│ dense_5 (\u001b[38;5;33mDense\u001b[0m)                 │ (\u001b[38;5;45mNone\u001b[0m, \u001b[38;5;34m256\u001b[0m)            │        \u001b[38;5;34m45,824\u001b[0m │\n",
              "├─────────────────────────────────┼────────────────────────┼───────────────┤\n",
              "│ batch_normalization_3           │ (\u001b[38;5;45mNone\u001b[0m, \u001b[38;5;34m256\u001b[0m)            │         \u001b[38;5;34m1,024\u001b[0m │\n",
              "│ (\u001b[38;5;33mBatchNormalization\u001b[0m)            │                        │               │\n",
              "├─────────────────────────────────┼────────────────────────┼───────────────┤\n",
              "│ dropout_3 (\u001b[38;5;33mDropout\u001b[0m)             │ (\u001b[38;5;45mNone\u001b[0m, \u001b[38;5;34m256\u001b[0m)            │             \u001b[38;5;34m0\u001b[0m │\n",
              "├─────────────────────────────────┼────────────────────────┼───────────────┤\n",
              "│ dense_6 (\u001b[38;5;33mDense\u001b[0m)                 │ (\u001b[38;5;45mNone\u001b[0m, \u001b[38;5;34m128\u001b[0m)            │        \u001b[38;5;34m32,896\u001b[0m │\n",
              "├─────────────────────────────────┼────────────────────────┼───────────────┤\n",
              "│ dense_7 (\u001b[38;5;33mDense\u001b[0m)                 │ (\u001b[38;5;45mNone\u001b[0m, \u001b[38;5;34m64\u001b[0m)             │         \u001b[38;5;34m8,256\u001b[0m │\n",
              "├─────────────────────────────────┼────────────────────────┼───────────────┤\n",
              "│ batch_normalization_4           │ (\u001b[38;5;45mNone\u001b[0m, \u001b[38;5;34m64\u001b[0m)             │           \u001b[38;5;34m256\u001b[0m │\n",
              "│ (\u001b[38;5;33mBatchNormalization\u001b[0m)            │                        │               │\n",
              "├─────────────────────────────────┼────────────────────────┼───────────────┤\n",
              "│ dropout_4 (\u001b[38;5;33mDropout\u001b[0m)             │ (\u001b[38;5;45mNone\u001b[0m, \u001b[38;5;34m64\u001b[0m)             │             \u001b[38;5;34m0\u001b[0m │\n",
              "├─────────────────────────────────┼────────────────────────┼───────────────┤\n",
              "│ dense_8 (\u001b[38;5;33mDense\u001b[0m)                 │ (\u001b[38;5;45mNone\u001b[0m, \u001b[38;5;34m32\u001b[0m)             │         \u001b[38;5;34m2,080\u001b[0m │\n",
              "├─────────────────────────────────┼────────────────────────┼───────────────┤\n",
              "│ batch_normalization_5           │ (\u001b[38;5;45mNone\u001b[0m, \u001b[38;5;34m32\u001b[0m)             │           \u001b[38;5;34m128\u001b[0m │\n",
              "│ (\u001b[38;5;33mBatchNormalization\u001b[0m)            │                        │               │\n",
              "├─────────────────────────────────┼────────────────────────┼───────────────┤\n",
              "│ dropout_5 (\u001b[38;5;33mDropout\u001b[0m)             │ (\u001b[38;5;45mNone\u001b[0m, \u001b[38;5;34m32\u001b[0m)             │             \u001b[38;5;34m0\u001b[0m │\n",
              "├─────────────────────────────────┼────────────────────────┼───────────────┤\n",
              "│ dense_9 (\u001b[38;5;33mDense\u001b[0m)                 │ (\u001b[38;5;45mNone\u001b[0m, \u001b[38;5;34m1\u001b[0m)              │            \u001b[38;5;34m33\u001b[0m │\n",
              "└─────────────────────────────────┴────────────────────────┴───────────────┘\n"
            ]
          },
          "metadata": {},
          "output_type": "display_data"
        },
        {
          "data": {
            "text/html": [
              "<pre style=\"white-space:pre;overflow-x:auto;line-height:normal;font-family:Menlo,'DejaVu Sans Mono',consolas,'Courier New',monospace\"><span style=\"font-weight: bold\"> Total params: </span><span style=\"color: #00af00; text-decoration-color: #00af00\">90,497</span> (353.50 KB)\n",
              "</pre>\n"
            ],
            "text/plain": [
              "\u001b[1m Total params: \u001b[0m\u001b[38;5;34m90,497\u001b[0m (353.50 KB)\n"
            ]
          },
          "metadata": {},
          "output_type": "display_data"
        },
        {
          "data": {
            "text/html": [
              "<pre style=\"white-space:pre;overflow-x:auto;line-height:normal;font-family:Menlo,'DejaVu Sans Mono',consolas,'Courier New',monospace\"><span style=\"font-weight: bold\"> Trainable params: </span><span style=\"color: #00af00; text-decoration-color: #00af00\">89,793</span> (350.75 KB)\n",
              "</pre>\n"
            ],
            "text/plain": [
              "\u001b[1m Trainable params: \u001b[0m\u001b[38;5;34m89,793\u001b[0m (350.75 KB)\n"
            ]
          },
          "metadata": {},
          "output_type": "display_data"
        },
        {
          "data": {
            "text/html": [
              "<pre style=\"white-space:pre;overflow-x:auto;line-height:normal;font-family:Menlo,'DejaVu Sans Mono',consolas,'Courier New',monospace\"><span style=\"font-weight: bold\"> Non-trainable params: </span><span style=\"color: #00af00; text-decoration-color: #00af00\">704</span> (2.75 KB)\n",
              "</pre>\n"
            ],
            "text/plain": [
              "\u001b[1m Non-trainable params: \u001b[0m\u001b[38;5;34m704\u001b[0m (2.75 KB)\n"
            ]
          },
          "metadata": {},
          "output_type": "display_data"
        }
      ],
      "source": [
        "model.summary()"
      ]
    },
    {
      "cell_type": "code",
      "execution_count": 43,
      "metadata": {
        "colab": {
          "base_uri": "https://localhost:8080/"
        },
        "id": "_CTJ5BR0DbLz",
        "outputId": "7bc5914f-1b8e-4b79-a6c3-b69cb426bdb0"
      },
      "outputs": [
        {
          "name": "stdout",
          "output_type": "stream",
          "text": [
            "Epoch 1/100\n",
            "\u001b[1m221/230\u001b[0m \u001b[32m━━━━━━━━━━━━━━━━━━━\u001b[0m\u001b[37m━\u001b[0m \u001b[1m0s\u001b[0m 3ms/step - accuracy: 0.8333 - loss: 0.4130\n",
            "Epoch 1: val_accuracy improved from -inf to 0.96522, saving model to model.keras\n",
            "\u001b[1m230/230\u001b[0m \u001b[32m━━━━━━━━━━━━━━━━━━━━\u001b[0m\u001b[37m\u001b[0m \u001b[1m4s\u001b[0m 4ms/step - accuracy: 0.8364 - loss: 0.4075 - val_accuracy: 0.9652 - val_loss: 0.1226\n",
            "Epoch 2/100\n",
            "\u001b[1m215/230\u001b[0m \u001b[32m━━━━━━━━━━━━━━━━━━\u001b[0m\u001b[37m━━\u001b[0m \u001b[1m0s\u001b[0m 3ms/step - accuracy: 0.9476 - loss: 0.1709\n",
            "Epoch 2: val_accuracy did not improve from 0.96522\n",
            "\u001b[1m230/230\u001b[0m \u001b[32m━━━━━━━━━━━━━━━━━━━━\u001b[0m\u001b[37m\u001b[0m \u001b[1m1s\u001b[0m 3ms/step - accuracy: 0.9477 - loss: 0.1708 - val_accuracy: 0.9527 - val_loss: 0.1138\n",
            "Epoch 3/100\n",
            "\u001b[1m219/230\u001b[0m \u001b[32m━━━━━━━━━━━━━━━━━━━\u001b[0m\u001b[37m━\u001b[0m \u001b[1m0s\u001b[0m 2ms/step - accuracy: 0.9541 - loss: 0.1312\n",
            "Epoch 3: val_accuracy did not improve from 0.96522\n",
            "\u001b[1m230/230\u001b[0m \u001b[32m━━━━━━━━━━━━━━━━━━━━\u001b[0m\u001b[37m\u001b[0m \u001b[1m1s\u001b[0m 3ms/step - accuracy: 0.9541 - loss: 0.1313 - val_accuracy: 0.9582 - val_loss: 0.1039\n",
            "Epoch 4/100\n",
            "\u001b[1m204/230\u001b[0m \u001b[32m━━━━━━━━━━━━━━━━━\u001b[0m\u001b[37m━━━\u001b[0m \u001b[1m0s\u001b[0m 2ms/step - accuracy: 0.9631 - loss: 0.1028\n",
            "Epoch 4: val_accuracy did not improve from 0.96522\n",
            "\u001b[1m230/230\u001b[0m \u001b[32m━━━━━━━━━━━━━━━━━━━━\u001b[0m\u001b[37m\u001b[0m \u001b[1m1s\u001b[0m 2ms/step - accuracy: 0.9631 - loss: 0.1029 - val_accuracy: 0.9636 - val_loss: 0.0966\n",
            "Epoch 5/100\n",
            "\u001b[1m221/230\u001b[0m \u001b[32m━━━━━━━━━━━━━━━━━━━\u001b[0m\u001b[37m━\u001b[0m \u001b[1m0s\u001b[0m 2ms/step - accuracy: 0.9638 - loss: 0.1033\n",
            "Epoch 5: val_accuracy did not improve from 0.96522\n",
            "\u001b[1m230/230\u001b[0m \u001b[32m━━━━━━━━━━━━━━━━━━━━\u001b[0m\u001b[37m\u001b[0m \u001b[1m1s\u001b[0m 3ms/step - accuracy: 0.9639 - loss: 0.1030 - val_accuracy: 0.9603 - val_loss: 0.0991\n",
            "Epoch 6/100\n",
            "\u001b[1m225/230\u001b[0m \u001b[32m━━━━━━━━━━━━━━━━━━━\u001b[0m\u001b[37m━\u001b[0m \u001b[1m0s\u001b[0m 2ms/step - accuracy: 0.9710 - loss: 0.0863\n",
            "Epoch 6: val_accuracy improved from 0.96522 to 0.96576, saving model to model.keras\n",
            "\u001b[1m230/230\u001b[0m \u001b[32m━━━━━━━━━━━━━━━━━━━━\u001b[0m\u001b[37m\u001b[0m \u001b[1m1s\u001b[0m 3ms/step - accuracy: 0.9709 - loss: 0.0864 - val_accuracy: 0.9658 - val_loss: 0.0814\n",
            "Epoch 7/100\n",
            "\u001b[1m224/230\u001b[0m \u001b[32m━━━━━━━━━━━━━━━━━━━\u001b[0m\u001b[37m━\u001b[0m \u001b[1m0s\u001b[0m 3ms/step - accuracy: 0.9695 - loss: 0.0807\n",
            "Epoch 7: val_accuracy did not improve from 0.96576\n",
            "\u001b[1m230/230\u001b[0m \u001b[32m━━━━━━━━━━━━━━━━━━━━\u001b[0m\u001b[37m\u001b[0m \u001b[1m1s\u001b[0m 4ms/step - accuracy: 0.9695 - loss: 0.0808 - val_accuracy: 0.9658 - val_loss: 0.0898\n",
            "Epoch 8/100\n",
            "\u001b[1m219/230\u001b[0m \u001b[32m━━━━━━━━━━━━━━━━━━━\u001b[0m\u001b[37m━\u001b[0m \u001b[1m0s\u001b[0m 4ms/step - accuracy: 0.9737 - loss: 0.0720\n",
            "Epoch 8: val_accuracy improved from 0.96576 to 0.96848, saving model to model.keras\n",
            "\u001b[1m230/230\u001b[0m \u001b[32m━━━━━━━━━━━━━━━━━━━━\u001b[0m\u001b[37m\u001b[0m \u001b[1m1s\u001b[0m 4ms/step - accuracy: 0.9736 - loss: 0.0721 - val_accuracy: 0.9685 - val_loss: 0.0761\n",
            "Epoch 9/100\n",
            "\u001b[1m216/230\u001b[0m \u001b[32m━━━━━━━━━━━━━━━━━━\u001b[0m\u001b[37m━━\u001b[0m \u001b[1m0s\u001b[0m 2ms/step - accuracy: 0.9664 - loss: 0.0893\n",
            "Epoch 9: val_accuracy did not improve from 0.96848\n",
            "\u001b[1m230/230\u001b[0m \u001b[32m━━━━━━━━━━━━━━━━━━━━\u001b[0m\u001b[37m\u001b[0m \u001b[1m1s\u001b[0m 2ms/step - accuracy: 0.9666 - loss: 0.0888 - val_accuracy: 0.9668 - val_loss: 0.0869\n",
            "Epoch 10/100\n",
            "\u001b[1m229/230\u001b[0m \u001b[32m━━━━━━━━━━━━━━━━━━━\u001b[0m\u001b[37m━\u001b[0m \u001b[1m0s\u001b[0m 2ms/step - accuracy: 0.9743 - loss: 0.0764\n",
            "Epoch 10: val_accuracy did not improve from 0.96848\n",
            "\u001b[1m230/230\u001b[0m \u001b[32m━━━━━━━━━━━━━━━━━━━━\u001b[0m\u001b[37m\u001b[0m \u001b[1m1s\u001b[0m 2ms/step - accuracy: 0.9743 - loss: 0.0764 - val_accuracy: 0.9679 - val_loss: 0.0879\n",
            "Epoch 11/100\n",
            "\u001b[1m211/230\u001b[0m \u001b[32m━━━━━━━━━━━━━━━━━━\u001b[0m\u001b[37m━━\u001b[0m \u001b[1m0s\u001b[0m 2ms/step - accuracy: 0.9756 - loss: 0.0662\n",
            "Epoch 11: val_accuracy improved from 0.96848 to 0.97283, saving model to model.keras\n",
            "\u001b[1m230/230\u001b[0m \u001b[32m━━━━━━━━━━━━━━━━━━━━\u001b[0m\u001b[37m\u001b[0m \u001b[1m1s\u001b[0m 2ms/step - accuracy: 0.9755 - loss: 0.0667 - val_accuracy: 0.9728 - val_loss: 0.0809\n",
            "Epoch 12/100\n",
            "\u001b[1m221/230\u001b[0m \u001b[32m━━━━━━━━━━━━━━━━━━━\u001b[0m\u001b[37m━\u001b[0m \u001b[1m0s\u001b[0m 2ms/step - accuracy: 0.9767 - loss: 0.0689\n",
            "Epoch 12: val_accuracy did not improve from 0.97283\n",
            "\u001b[1m230/230\u001b[0m \u001b[32m━━━━━━━━━━━━━━━━━━━━\u001b[0m\u001b[37m\u001b[0m \u001b[1m1s\u001b[0m 2ms/step - accuracy: 0.9767 - loss: 0.0688 - val_accuracy: 0.9712 - val_loss: 0.0830\n",
            "Epoch 13/100\n",
            "\u001b[1m220/230\u001b[0m \u001b[32m━━━━━━━━━━━━━━━━━━━\u001b[0m\u001b[37m━\u001b[0m \u001b[1m0s\u001b[0m 2ms/step - accuracy: 0.9736 - loss: 0.0703\n",
            "Epoch 13: val_accuracy did not improve from 0.97283\n",
            "\u001b[1m230/230\u001b[0m \u001b[32m━━━━━━━━━━━━━━━━━━━━\u001b[0m\u001b[37m\u001b[0m \u001b[1m1s\u001b[0m 2ms/step - accuracy: 0.9736 - loss: 0.0702 - val_accuracy: 0.9701 - val_loss: 0.0808\n",
            "Epoch 14/100\n",
            "\u001b[1m223/230\u001b[0m \u001b[32m━━━━━━━━━━━━━━━━━━━\u001b[0m\u001b[37m━\u001b[0m \u001b[1m0s\u001b[0m 2ms/step - accuracy: 0.9836 - loss: 0.0519\n",
            "Epoch 14: val_accuracy did not improve from 0.97283\n",
            "\u001b[1m230/230\u001b[0m \u001b[32m━━━━━━━━━━━━━━━━━━━━\u001b[0m\u001b[37m\u001b[0m \u001b[1m1s\u001b[0m 2ms/step - accuracy: 0.9836 - loss: 0.0519 - val_accuracy: 0.9679 - val_loss: 0.0929\n",
            "Epoch 15/100\n",
            "\u001b[1m209/230\u001b[0m \u001b[32m━━━━━━━━━━━━━━━━━━\u001b[0m\u001b[37m━━\u001b[0m \u001b[1m0s\u001b[0m 2ms/step - accuracy: 0.9780 - loss: 0.0595\n",
            "Epoch 15: val_accuracy did not improve from 0.97283\n",
            "\u001b[1m230/230\u001b[0m \u001b[32m━━━━━━━━━━━━━━━━━━━━\u001b[0m\u001b[37m\u001b[0m \u001b[1m1s\u001b[0m 2ms/step - accuracy: 0.9780 - loss: 0.0596 - val_accuracy: 0.9707 - val_loss: 0.0885\n",
            "Epoch 16/100\n",
            "\u001b[1m222/230\u001b[0m \u001b[32m━━━━━━━━━━━━━━━━━━━\u001b[0m\u001b[37m━\u001b[0m \u001b[1m0s\u001b[0m 2ms/step - accuracy: 0.9852 - loss: 0.0442\n",
            "Epoch 16: val_accuracy did not improve from 0.97283\n",
            "\u001b[1m230/230\u001b[0m \u001b[32m━━━━━━━━━━━━━━━━━━━━\u001b[0m\u001b[37m\u001b[0m \u001b[1m1s\u001b[0m 2ms/step - accuracy: 0.9851 - loss: 0.0444 - val_accuracy: 0.9696 - val_loss: 0.0898\n",
            "Epoch 16: early stopping\n",
            "Restoring model weights from the end of the best epoch: 11.\n"
          ]
        }
      ],
      "source": [
        "# Train the model\n",
        "# history= model.fit(X_train, y_train, epochs=20, batch_size=32, validation_data=(X_test, y_test))\n",
        "\n",
        "model_checkpoint = ModelCheckpoint(\n",
        "    \"model.keras\", monitor=\"val_accuracy\", save_best_only=True, mode=\"max\", verbose=1\n",
        ")\n",
        "\n",
        "early_stopping = EarlyStopping(\n",
        "    monitor=\"val_accuracy\", patience=5, verbose=1, mode=\"max\", restore_best_weights=True\n",
        ")\n",
        "\n",
        "history = model.fit(\n",
        "    X_train,\n",
        "    y_train,\n",
        "    validation_split=0.2,\n",
        "    epochs=100,\n",
        "    batch_size=32,\n",
        "    callbacks=[model_checkpoint, early_stopping],\n",
        ")"
      ]
    },
    {
      "cell_type": "code",
      "execution_count": 44,
      "metadata": {},
      "outputs": [
        {
          "name": "stdout",
          "output_type": "stream",
          "text": [
            "Model saved successfully!\n"
          ]
        }
      ],
      "source": [
        "import pickle\n",
        "\n",
        "# Save the model to a .pk file\n",
        "with open(\"model2.pk\", \"wb\") as file:\n",
        "    pickle.dump(model, file)\n",
        "\n",
        "print(\"Model saved successfully!\")"
      ]
    },
    {
      "cell_type": "code",
      "execution_count": null,
      "metadata": {},
      "outputs": [],
      "source": []
    },
    {
      "cell_type": "code",
      "execution_count": 22,
      "metadata": {
        "colab": {
          "base_uri": "https://localhost:8080/",
          "height": 1000
        },
        "id": "uwymaYYxDbIM",
        "outputId": "021fd6a8-b5c8-4507-d42e-c10e7ff29043"
      },
      "outputs": [
        {
          "name": "stdout",
          "output_type": "stream",
          "text": [
            "Train Accuracy: 0.9938\n",
            "Test Accuracy: 0.9809\n",
            "Train Loss: 0.0213\n",
            "Test Loss: 0.0517\n",
            "\u001b[1m72/72\u001b[0m \u001b[32m━━━━━━━━━━━━━━━━━━━━\u001b[0m\u001b[37m\u001b[0m \u001b[1m0s\u001b[0m 2ms/step\n",
            "\n",
            "Classification Report:\n",
            "              precision    recall  f1-score   support\n",
            "\n",
            "           0       0.98      0.99      0.99      1835\n",
            "           1       0.97      0.93      0.95       465\n",
            "\n",
            "    accuracy                           0.98      2300\n",
            "   macro avg       0.98      0.96      0.97      2300\n",
            "weighted avg       0.98      0.98      0.98      2300\n",
            "\n",
            "\n",
            "Confusion Matrix:\n"
          ]
        },
        {
          "data": {
            "image/png": "[encoded data removed]",
            "text/plain": [
              "<Figure size 600x400 with 1 Axes>"
            ]
          },
          "metadata": {},
          "output_type": "display_data"
        },
        {
          "data": {
            "image/png": "[encoded data removed]",
            "text/plain": [
              "<Figure size 800x600 with 1 Axes>"
            ]
          },
          "metadata": {},
          "output_type": "display_data"
        },
        {
          "data": {
            "image/png": "[encoded data removed]",
            "text/plain": [
              "<Figure size 800x600 with 1 Axes>"
            ]
          },
          "metadata": {},
          "output_type": "display_data"
        }
      ],
      "source": [
        "# Evaluate the model on training data\n",
        "train_loss, train_accuracy = model.evaluate(X_train, y_train, verbose=0)\n",
        "\n",
        "# Evaluate the model on test data\n",
        "test_loss, test_accuracy = model.evaluate(X_test, y_test, verbose=0)\n",
        "\n",
        "print(f'Train Accuracy: {train_accuracy:.4f}')\n",
        "print(f'Test Accuracy: {test_accuracy:.4f}')\n",
        "print(f'Train Loss: {train_loss:.4f}')\n",
        "print(f'Test Loss: {test_loss:.4f}')\n",
        "\n",
        "# Predict the test set\n",
        "y_pred_prob = model.predict(X_test)  # Get probabilities\n",
        "y_pred = (y_pred_prob > 0.5).astype(\"int32\")  # Convert probabilities to binary predictions\n",
        "\n",
        "# Generate classification report\n",
        "print(\"\\nClassification Report:\")\n",
        "print(classification_report(y_test, y_pred))\n",
        "\n",
        "# Generate confusion matrix\n",
        "conf_matrix = confusion_matrix(y_test, y_pred)\n",
        "print(\"\\nConfusion Matrix:\")\n",
        "\n",
        "# Visualize confusion matrix\n",
        "plt.figure(figsize=(6, 4))\n",
        "sns.heatmap(conf_matrix, annot=True, fmt='d', cmap='Blues', cbar=False,\n",
        "            xticklabels=['Class 0', 'Class 1'], yticklabels=['Class 0', 'Class 1'])\n",
        "plt.title('Confusion Matrix')\n",
        "plt.xlabel('Predicted Label')\n",
        "plt.ylabel('True Label')\n",
        "plt.show()\n",
        "\n",
        "# Visualize Training and Validation Loss Curves\n",
        "plt.figure(figsize=(8, 6))\n",
        "plt.plot(history.history['loss'], label='Training Loss')\n",
        "plt.plot(history.history['val_loss'], label='Validation/Test Loss')\n",
        "plt.title('Training and Validation Loss over Epochs')\n",
        "plt.xlabel('Epochs')\n",
        "plt.ylabel('Loss')\n",
        "plt.legend()\n",
        "plt.show()\n",
        "\n",
        "# Visualize Training and Validation Accuracy Curves\n",
        "plt.figure(figsize=(8, 6))\n",
        "plt.plot(history.history['accuracy'], label='Training Accuracy')\n",
        "plt.plot(history.history['val_accuracy'], label='Validation/Test Accuracy')\n",
        "plt.title('Training and Validation Accuracy over Epochs')\n",
        "plt.xlabel('Epochs')\n",
        "plt.ylabel('Accuracy')\n",
        "plt.legend()\n",
        "plt.show()"
      ]
    },
    {
      "cell_type": "markdown",
      "metadata": {
        "id": "YEX6ihX_tiV-"
      },
      "source": [
        "## Model(LSTM)"
      ]
    },
    {
      "cell_type": "code",
      "execution_count": 23,
      "metadata": {
        "id": "slaVyRlbtYkf"
      },
      "outputs": [],
      "source": [
        "# Separate features and labels\n",
        "X = df2.drop('y', axis=1)  # Drop the label column 'y'\n",
        "y = df2['y']\n",
        "\n",
        "# Split the data into training and test sets\n",
        "X_train, X_test, y_train, y_test = train_test_split(X, y, test_size=0.2, random_state=42)"
      ]
    },
    {
      "cell_type": "code",
      "execution_count": 24,
      "metadata": {
        "id": "N3OGST4ItYkf"
      },
      "outputs": [],
      "source": [
        "# Build the LSTM model for binary classification\n",
        "model = Sequential()\n",
        "\n",
        "# Reshape the input data to include the timesteps dimension\n",
        "X_train = X_train.values.reshape(X_train.shape[0], 1, X_train.shape[1])\n",
        "X_test = X_test.values.reshape(X_test.shape[0], 1, X_test.shape[1])\n",
        "\n",
        "# Input layer\n",
        "model.add(LSTM(128, input_shape=(X_train.shape[1], X_train.shape[2]), return_sequences=True))  # Updated input_shape\n",
        "model.add(BatchNormalization())\n",
        "model.add(Dropout(0.2))\n",
        "\n",
        "# Additional LSTM layers\n",
        "model.add(LSTM(64, return_sequences=True))\n",
        "model.add(BatchNormalization())\n",
        "model.add(Dropout(0.3))\n",
        "\n",
        "model.add(LSTM(32))  # Last LSTM layer does not need return_sequences\n",
        "model.add(BatchNormalization())\n",
        "model.add(Dropout(0.2))\n",
        "\n",
        "# Output layer (for binary classification)\n",
        "model.add(Dense(1, activation='sigmoid'))  # Output is 1 neuron with sigmoid for binary classification\n",
        "\n",
        "# Compile the model\n",
        "model.compile(optimizer='adam', loss='binary_crossentropy', metrics=['accuracy'])"
      ]
    },
    {
      "cell_type": "code",
      "execution_count": 25,
      "metadata": {
        "colab": {
          "base_uri": "https://localhost:8080/",
          "height": 512
        },
        "id": "YgzKRUvotYkf",
        "outputId": "87f75419-a788-4541-dd51-dbc70e3639f3"
      },
      "outputs": [
        {
          "data": {
            "text/html": [
              "<pre style=\"white-space:pre;overflow-x:auto;line-height:normal;font-family:Menlo,'DejaVu Sans Mono',consolas,'Courier New',monospace\"><span style=\"font-weight: bold\">Model: \"sequential_1\"</span>\n",
              "</pre>\n"
            ],
            "text/plain": [
              "\u001b[1mModel: \"sequential_1\"\u001b[0m\n"
            ]
          },
          "metadata": {},
          "output_type": "display_data"
        },
        {
          "data": {
            "text/html": [
              "<pre style=\"white-space:pre;overflow-x:auto;line-height:normal;font-family:Menlo,'DejaVu Sans Mono',consolas,'Courier New',monospace\">┏━━━━━━━━━━━━━━━━━━━━━━━━━━━━━━━━━┳━━━━━━━━━━━━━━━━━━━━━━━━┳━━━━━━━━━━━━━━━┓\n",
              "┃<span style=\"font-weight: bold\"> Layer (type)                    </span>┃<span style=\"font-weight: bold\"> Output Shape           </span>┃<span style=\"font-weight: bold\">       Param # </span>┃\n",
              "┡━━━━━━━━━━━━━━━━━━━━━━━━━━━━━━━━━╇━━━━━━━━━━━━━━━━━━━━━━━━╇━━━━━━━━━━━━━━━┩\n",
              "│ lstm (<span style=\"color: #0087ff; text-decoration-color: #0087ff\">LSTM</span>)                     │ (<span style=\"color: #00d7ff; text-decoration-color: #00d7ff\">None</span>, <span style=\"color: #00af00; text-decoration-color: #00af00\">1</span>, <span style=\"color: #00af00; text-decoration-color: #00af00\">128</span>)         │       <span style=\"color: #00af00; text-decoration-color: #00af00\">157,184</span> │\n",
              "├─────────────────────────────────┼────────────────────────┼───────────────┤\n",
              "│ batch_normalization_3           │ (<span style=\"color: #00d7ff; text-decoration-color: #00d7ff\">None</span>, <span style=\"color: #00af00; text-decoration-color: #00af00\">1</span>, <span style=\"color: #00af00; text-decoration-color: #00af00\">128</span>)         │           <span style=\"color: #00af00; text-decoration-color: #00af00\">512</span> │\n",
              "│ (<span style=\"color: #0087ff; text-decoration-color: #0087ff\">BatchNormalization</span>)            │                        │               │\n",
              "├─────────────────────────────────┼────────────────────────┼───────────────┤\n",
              "│ dropout_3 (<span style=\"color: #0087ff; text-decoration-color: #0087ff\">Dropout</span>)             │ (<span style=\"color: #00d7ff; text-decoration-color: #00d7ff\">None</span>, <span style=\"color: #00af00; text-decoration-color: #00af00\">1</span>, <span style=\"color: #00af00; text-decoration-color: #00af00\">128</span>)         │             <span style=\"color: #00af00; text-decoration-color: #00af00\">0</span> │\n",
              "├─────────────────────────────────┼────────────────────────┼───────────────┤\n",
              "│ lstm_1 (<span style=\"color: #0087ff; text-decoration-color: #0087ff\">LSTM</span>)                   │ (<span style=\"color: #00d7ff; text-decoration-color: #00d7ff\">None</span>, <span style=\"color: #00af00; text-decoration-color: #00af00\">1</span>, <span style=\"color: #00af00; text-decoration-color: #00af00\">64</span>)          │        <span style=\"color: #00af00; text-decoration-color: #00af00\">49,408</span> │\n",
              "├─────────────────────────────────┼────────────────────────┼───────────────┤\n",
              "│ batch_normalization_4           │ (<span style=\"color: #00d7ff; text-decoration-color: #00d7ff\">None</span>, <span style=\"color: #00af00; text-decoration-color: #00af00\">1</span>, <span style=\"color: #00af00; text-decoration-color: #00af00\">64</span>)          │           <span style=\"color: #00af00; text-decoration-color: #00af00\">256</span> │\n",
              "│ (<span style=\"color: #0087ff; text-decoration-color: #0087ff\">BatchNormalization</span>)            │                        │               │\n",
              "├─────────────────────────────────┼────────────────────────┼───────────────┤\n",
              "│ dropout_4 (<span style=\"color: #0087ff; text-decoration-color: #0087ff\">Dropout</span>)             │ (<span style=\"color: #00d7ff; text-decoration-color: #00d7ff\">None</span>, <span style=\"color: #00af00; text-decoration-color: #00af00\">1</span>, <span style=\"color: #00af00; text-decoration-color: #00af00\">64</span>)          │             <span style=\"color: #00af00; text-decoration-color: #00af00\">0</span> │\n",
              "├─────────────────────────────────┼────────────────────────┼───────────────┤\n",
              "│ lstm_2 (<span style=\"color: #0087ff; text-decoration-color: #0087ff\">LSTM</span>)                   │ (<span style=\"color: #00d7ff; text-decoration-color: #00d7ff\">None</span>, <span style=\"color: #00af00; text-decoration-color: #00af00\">32</span>)             │        <span style=\"color: #00af00; text-decoration-color: #00af00\">12,416</span> │\n",
              "├─────────────────────────────────┼────────────────────────┼───────────────┤\n",
              "│ batch_normalization_5           │ (<span style=\"color: #00d7ff; text-decoration-color: #00d7ff\">None</span>, <span style=\"color: #00af00; text-decoration-color: #00af00\">32</span>)             │           <span style=\"color: #00af00; text-decoration-color: #00af00\">128</span> │\n",
              "│ (<span style=\"color: #0087ff; text-decoration-color: #0087ff\">BatchNormalization</span>)            │                        │               │\n",
              "├─────────────────────────────────┼────────────────────────┼───────────────┤\n",
              "│ dropout_5 (<span style=\"color: #0087ff; text-decoration-color: #0087ff\">Dropout</span>)             │ (<span style=\"color: #00d7ff; text-decoration-color: #00d7ff\">None</span>, <span style=\"color: #00af00; text-decoration-color: #00af00\">32</span>)             │             <span style=\"color: #00af00; text-decoration-color: #00af00\">0</span> │\n",
              "├─────────────────────────────────┼────────────────────────┼───────────────┤\n",
              "│ dense_5 (<span style=\"color: #0087ff; text-decoration-color: #0087ff\">Dense</span>)                 │ (<span style=\"color: #00d7ff; text-decoration-color: #00d7ff\">None</span>, <span style=\"color: #00af00; text-decoration-color: #00af00\">1</span>)              │            <span style=\"color: #00af00; text-decoration-color: #00af00\">33</span> │\n",
              "└─────────────────────────────────┴────────────────────────┴───────────────┘\n",
              "</pre>\n"
            ],
            "text/plain": [
              "┏━━━━━━━━━━━━━━━━━━━━━━━━━━━━━━━━━┳━━━━━━━━━━━━━━━━━━━━━━━━┳━━━━━━━━━━━━━━━┓\n",
              "┃\u001b[1m \u001b[0m\u001b[1mLayer (type)                   \u001b[0m\u001b[1m \u001b[0m┃\u001b[1m \u001b[0m\u001b[1mOutput Shape          \u001b[0m\u001b[1m \u001b[0m┃\u001b[1m \u001b[0m\u001b[1m      Param #\u001b[0m\u001b[1m \u001b[0m┃\n",
              "┡━━━━━━━━━━━━━━━━━━━━━━━━━━━━━━━━━╇━━━━━━━━━━━━━━━━━━━━━━━━╇━━━━━━━━━━━━━━━┩\n",
              "│ lstm (\u001b[38;5;33mLSTM\u001b[0m)                     │ (\u001b[38;5;45mNone\u001b[0m, \u001b[38;5;34m1\u001b[0m, \u001b[38;5;34m128\u001b[0m)         │       \u001b[38;5;34m157,184\u001b[0m │\n",
              "├─────────────────────────────────┼────────────────────────┼───────────────┤\n",
              "│ batch_normalization_3           │ (\u001b[38;5;45mNone\u001b[0m, \u001b[38;5;34m1\u001b[0m, \u001b[38;5;34m128\u001b[0m)         │           \u001b[38;5;34m512\u001b[0m │\n",
              "│ (\u001b[38;5;33mBatchNormalization\u001b[0m)            │                        │               │\n",
              "├─────────────────────────────────┼────────────────────────┼───────────────┤\n",
              "│ dropout_3 (\u001b[38;5;33mDropout\u001b[0m)             │ (\u001b[38;5;45mNone\u001b[0m, \u001b[38;5;34m1\u001b[0m, \u001b[38;5;34m128\u001b[0m)         │             \u001b[38;5;34m0\u001b[0m │\n",
              "├─────────────────────────────────┼────────────────────────┼───────────────┤\n",
              "│ lstm_1 (\u001b[38;5;33mLSTM\u001b[0m)                   │ (\u001b[38;5;45mNone\u001b[0m, \u001b[38;5;34m1\u001b[0m, \u001b[38;5;34m64\u001b[0m)          │        \u001b[38;5;34m49,408\u001b[0m │\n",
              "├─────────────────────────────────┼────────────────────────┼───────────────┤\n",
              "│ batch_normalization_4           │ (\u001b[38;5;45mNone\u001b[0m, \u001b[38;5;34m1\u001b[0m, \u001b[38;5;34m64\u001b[0m)          │           \u001b[38;5;34m256\u001b[0m │\n",
              "│ (\u001b[38;5;33mBatchNormalization\u001b[0m)            │                        │               │\n",
              "├─────────────────────────────────┼────────────────────────┼───────────────┤\n",
              "│ dropout_4 (\u001b[38;5;33mDropout\u001b[0m)             │ (\u001b[38;5;45mNone\u001b[0m, \u001b[38;5;34m1\u001b[0m, \u001b[38;5;34m64\u001b[0m)          │             \u001b[38;5;34m0\u001b[0m │\n",
              "├─────────────────────────────────┼────────────────────────┼───────────────┤\n",
              "│ lstm_2 (\u001b[38;5;33mLSTM\u001b[0m)                   │ (\u001b[38;5;45mNone\u001b[0m, \u001b[38;5;34m32\u001b[0m)             │        \u001b[38;5;34m12,416\u001b[0m │\n",
              "├─────────────────────────────────┼────────────────────────┼───────────────┤\n",
              "│ batch_normalization_5           │ (\u001b[38;5;45mNone\u001b[0m, \u001b[38;5;34m32\u001b[0m)             │           \u001b[38;5;34m128\u001b[0m │\n",
              "│ (\u001b[38;5;33mBatchNormalization\u001b[0m)            │                        │               │\n",
              "├─────────────────────────────────┼────────────────────────┼───────────────┤\n",
              "│ dropout_5 (\u001b[38;5;33mDropout\u001b[0m)             │ (\u001b[38;5;45mNone\u001b[0m, \u001b[38;5;34m32\u001b[0m)             │             \u001b[38;5;34m0\u001b[0m │\n",
              "├─────────────────────────────────┼────────────────────────┼───────────────┤\n",
              "│ dense_5 (\u001b[38;5;33mDense\u001b[0m)                 │ (\u001b[38;5;45mNone\u001b[0m, \u001b[38;5;34m1\u001b[0m)              │            \u001b[38;5;34m33\u001b[0m │\n",
              "└─────────────────────────────────┴────────────────────────┴───────────────┘\n"
            ]
          },
          "metadata": {},
          "output_type": "display_data"
        },
        {
          "data": {
            "text/html": [
              "<pre style=\"white-space:pre;overflow-x:auto;line-height:normal;font-family:Menlo,'DejaVu Sans Mono',consolas,'Courier New',monospace\"><span style=\"font-weight: bold\"> Total params: </span><span style=\"color: #00af00; text-decoration-color: #00af00\">219,937</span> (859.13 KB)\n",
              "</pre>\n"
            ],
            "text/plain": [
              "\u001b[1m Total params: \u001b[0m\u001b[38;5;34m219,937\u001b[0m (859.13 KB)\n"
            ]
          },
          "metadata": {},
          "output_type": "display_data"
        },
        {
          "data": {
            "text/html": [
              "<pre style=\"white-space:pre;overflow-x:auto;line-height:normal;font-family:Menlo,'DejaVu Sans Mono',consolas,'Courier New',monospace\"><span style=\"font-weight: bold\"> Trainable params: </span><span style=\"color: #00af00; text-decoration-color: #00af00\">219,489</span> (857.38 KB)\n",
              "</pre>\n"
            ],
            "text/plain": [
              "\u001b[1m Trainable params: \u001b[0m\u001b[38;5;34m219,489\u001b[0m (857.38 KB)\n"
            ]
          },
          "metadata": {},
          "output_type": "display_data"
        },
        {
          "data": {
            "text/html": [
              "<pre style=\"white-space:pre;overflow-x:auto;line-height:normal;font-family:Menlo,'DejaVu Sans Mono',consolas,'Courier New',monospace\"><span style=\"font-weight: bold\"> Non-trainable params: </span><span style=\"color: #00af00; text-decoration-color: #00af00\">448</span> (1.75 KB)\n",
              "</pre>\n"
            ],
            "text/plain": [
              "\u001b[1m Non-trainable params: \u001b[0m\u001b[38;5;34m448\u001b[0m (1.75 KB)\n"
            ]
          },
          "metadata": {},
          "output_type": "display_data"
        }
      ],
      "source": [
        "model.summary()"
      ]
    },
    {
      "cell_type": "code",
      "execution_count": 26,
      "metadata": {
        "colab": {
          "base_uri": "https://localhost:8080/"
        },
        "id": "uW-BnWw3tYkf",
        "outputId": "f493ac75-73b2-4176-f7a3-67e97d4dcebb"
      },
      "outputs": [
        {
          "name": "stdout",
          "output_type": "stream",
          "text": [
            "Epoch 1/20\n",
            "\u001b[1m288/288\u001b[0m \u001b[32m━━━━━━━━━━━━━━━━━━━━\u001b[0m\u001b[37m\u001b[0m \u001b[1m10s\u001b[0m 9ms/step - accuracy: 0.6164 - loss: 0.6971 - val_accuracy: 0.7978 - val_loss: 0.4461\n",
            "Epoch 2/20\n",
            "\u001b[1m288/288\u001b[0m \u001b[32m━━━━━━━━━━━━━━━━━━━━\u001b[0m\u001b[37m\u001b[0m \u001b[1m2s\u001b[0m 7ms/step - accuracy: 0.7910 - loss: 0.4538 - val_accuracy: 0.8396 - val_loss: 0.3718\n",
            "Epoch 3/20\n",
            "\u001b[1m288/288\u001b[0m \u001b[32m━━━━━━━━━━━━━━━━━━━━\u001b[0m\u001b[37m\u001b[0m \u001b[1m2s\u001b[0m 8ms/step - accuracy: 0.8239 - loss: 0.3941 - val_accuracy: 0.8504 - val_loss: 0.3450\n",
            "Epoch 4/20\n",
            "\u001b[1m288/288\u001b[0m \u001b[32m━━━━━━━━━━━━━━━━━━━━\u001b[0m\u001b[37m\u001b[0m \u001b[1m2s\u001b[0m 7ms/step - accuracy: 0.8268 - loss: 0.3890 - val_accuracy: 0.8561 - val_loss: 0.3393\n",
            "Epoch 5/20\n",
            "\u001b[1m288/288\u001b[0m \u001b[32m━━━━━━━━━━━━━━━━━━━━\u001b[0m\u001b[37m\u001b[0m \u001b[1m2s\u001b[0m 8ms/step - accuracy: 0.8461 - loss: 0.3555 - val_accuracy: 0.8552 - val_loss: 0.3314\n",
            "Epoch 6/20\n",
            "\u001b[1m288/288\u001b[0m \u001b[32m━━━━━━━━━━━━━━━━━━━━\u001b[0m\u001b[37m\u001b[0m \u001b[1m2s\u001b[0m 6ms/step - accuracy: 0.8546 - loss: 0.3477 - val_accuracy: 0.8587 - val_loss: 0.3243\n",
            "Epoch 7/20\n",
            "\u001b[1m288/288\u001b[0m \u001b[32m━━━━━━━━━━━━━━━━━━━━\u001b[0m\u001b[37m\u001b[0m \u001b[1m2s\u001b[0m 5ms/step - accuracy: 0.8599 - loss: 0.3302 - val_accuracy: 0.8678 - val_loss: 0.3144\n",
            "Epoch 8/20\n",
            "\u001b[1m288/288\u001b[0m \u001b[32m━━━━━━━━━━━━━━━━━━━━\u001b[0m\u001b[37m\u001b[0m \u001b[1m2s\u001b[0m 5ms/step - accuracy: 0.8676 - loss: 0.3229 - val_accuracy: 0.8713 - val_loss: 0.3130\n",
            "Epoch 9/20\n",
            "\u001b[1m288/288\u001b[0m \u001b[32m━━━━━━━━━━━━━━━━━━━━\u001b[0m\u001b[37m\u001b[0m \u001b[1m2s\u001b[0m 5ms/step - accuracy: 0.8679 - loss: 0.3174 - val_accuracy: 0.8739 - val_loss: 0.3079\n",
            "Epoch 10/20\n",
            "\u001b[1m288/288\u001b[0m \u001b[32m━━━━━━━━━━━━━━━━━━━━\u001b[0m\u001b[37m\u001b[0m \u001b[1m2s\u001b[0m 5ms/step - accuracy: 0.8664 - loss: 0.3197 - val_accuracy: 0.8661 - val_loss: 0.3109\n",
            "Epoch 11/20\n",
            "\u001b[1m288/288\u001b[0m \u001b[32m━━━━━━━━━━━━━━━━━━━━\u001b[0m\u001b[37m\u001b[0m \u001b[1m2s\u001b[0m 5ms/step - accuracy: 0.8806 - loss: 0.2973 - val_accuracy: 0.8709 - val_loss: 0.3073\n",
            "Epoch 12/20\n",
            "\u001b[1m288/288\u001b[0m \u001b[32m━━━━━━━━━━━━━━━━━━━━\u001b[0m\u001b[37m\u001b[0m \u001b[1m1s\u001b[0m 5ms/step - accuracy: 0.8820 - loss: 0.2951 - val_accuracy: 0.8778 - val_loss: 0.2981\n",
            "Epoch 13/20\n",
            "\u001b[1m288/288\u001b[0m \u001b[32m━━━━━━━━━━━━━━━━━━━━\u001b[0m\u001b[37m\u001b[0m \u001b[1m2s\u001b[0m 5ms/step - accuracy: 0.8864 - loss: 0.2892 - val_accuracy: 0.8791 - val_loss: 0.3010\n",
            "Epoch 14/20\n",
            "\u001b[1m288/288\u001b[0m \u001b[32m━━━━━━━━━━━━━━━━━━━━\u001b[0m\u001b[37m\u001b[0m \u001b[1m2s\u001b[0m 6ms/step - accuracy: 0.8882 - loss: 0.2890 - val_accuracy: 0.8822 - val_loss: 0.3013\n",
            "Epoch 15/20\n",
            "\u001b[1m288/288\u001b[0m \u001b[32m━━━━━━━━━━━━━━━━━━━━\u001b[0m\u001b[37m\u001b[0m \u001b[1m2s\u001b[0m 5ms/step - accuracy: 0.8884 - loss: 0.2872 - val_accuracy: 0.8830 - val_loss: 0.2891\n",
            "Epoch 16/20\n",
            "\u001b[1m288/288\u001b[0m \u001b[32m━━━━━━━━━━━━━━━━━━━━\u001b[0m\u001b[37m\u001b[0m \u001b[1m2s\u001b[0m 5ms/step - accuracy: 0.8858 - loss: 0.2931 - val_accuracy: 0.8800 - val_loss: 0.2969\n",
            "Epoch 17/20\n",
            "\u001b[1m288/288\u001b[0m \u001b[32m━━━━━━━━━━━━━━━━━━━━\u001b[0m\u001b[37m\u001b[0m \u001b[1m2s\u001b[0m 5ms/step - accuracy: 0.8861 - loss: 0.2923 - val_accuracy: 0.8804 - val_loss: 0.2992\n",
            "Epoch 18/20\n",
            "\u001b[1m288/288\u001b[0m \u001b[32m━━━━━━━━━━━━━━━━━━━━\u001b[0m\u001b[37m\u001b[0m \u001b[1m2s\u001b[0m 5ms/step - accuracy: 0.8736 - loss: 0.3093 - val_accuracy: 0.8752 - val_loss: 0.3108\n",
            "Epoch 19/20\n",
            "\u001b[1m288/288\u001b[0m \u001b[32m━━━━━━━━━━━━━━━━━━━━\u001b[0m\u001b[37m\u001b[0m \u001b[1m2s\u001b[0m 5ms/step - accuracy: 0.8945 - loss: 0.2758 - val_accuracy: 0.8783 - val_loss: 0.3015\n",
            "Epoch 20/20\n",
            "\u001b[1m288/288\u001b[0m \u001b[32m━━━━━━━━━━━━━━━━━━━━\u001b[0m\u001b[37m\u001b[0m \u001b[1m2s\u001b[0m 5ms/step - accuracy: 0.8786 - loss: 0.3000 - val_accuracy: 0.8778 - val_loss: 0.3006\n"
          ]
        }
      ],
      "source": [
        "# Train the model\n",
        "history= model.fit(X_train, y_train, epochs=20, batch_size=32, validation_data=(X_test, y_test))"
      ]
    },
    {
      "cell_type": "code",
      "execution_count": 27,
      "metadata": {
        "colab": {
          "base_uri": "https://localhost:8080/",
          "height": 1000
        },
        "id": "IruvU2e8tYkf",
        "outputId": "e8d105c0-469f-41b6-f145-bf5f2f6a58b1"
      },
      "outputs": [
        {
          "name": "stdout",
          "output_type": "stream",
          "text": [
            "Train Accuracy: 0.9198\n",
            "Test Accuracy: 0.8778\n",
            "Train Loss: 0.2187\n",
            "Test Loss: 0.3006\n",
            "\u001b[1m72/72\u001b[0m \u001b[32m━━━━━━━━━━━━━━━━━━━━\u001b[0m\u001b[37m\u001b[0m \u001b[1m1s\u001b[0m 10ms/step\n",
            "\n",
            "Classification Report:\n",
            "              precision    recall  f1-score   support\n",
            "\n",
            "           0       0.91      0.94      0.92      1835\n",
            "           1       0.74      0.62      0.67       465\n",
            "\n",
            "    accuracy                           0.88      2300\n",
            "   macro avg       0.82      0.78      0.80      2300\n",
            "weighted avg       0.87      0.88      0.87      2300\n",
            "\n",
            "\n",
            "Confusion Matrix:\n"
          ]
        },
        {
          "data": {
            "image/png": "[encoded data removed]",
            "text/plain": [
              "<Figure size 600x400 with 1 Axes>"
            ]
          },
          "metadata": {},
          "output_type": "display_data"
        },
        {
          "data": {
            "image/png": "[encoded data removed]",
            "text/plain": [
              "<Figure size 800x600 with 1 Axes>"
            ]
          },
          "metadata": {},
          "output_type": "display_data"
        },
        {
          "data": {
            "image/png": "[encoded data removed]",
            "text/plain": [
              "<Figure size 800x600 with 1 Axes>"
            ]
          },
          "metadata": {},
          "output_type": "display_data"
        }
      ],
      "source": [
        "# Evaluate the model on training data\n",
        "train_loss, train_accuracy = model.evaluate(X_train, y_train, verbose=0)\n",
        "\n",
        "# Evaluate the model on test data\n",
        "test_loss, test_accuracy = model.evaluate(X_test, y_test, verbose=0)\n",
        "\n",
        "print(f'Train Accuracy: {train_accuracy:.4f}')\n",
        "print(f'Test Accuracy: {test_accuracy:.4f}')\n",
        "print(f'Train Loss: {train_loss:.4f}')\n",
        "print(f'Test Loss: {test_loss:.4f}')\n",
        "\n",
        "# Predict the test set\n",
        "y_pred_prob = model.predict(X_test)  # Get probabilities\n",
        "y_pred = (y_pred_prob > 0.5).astype(\"int32\")  # Convert probabilities to binary predictions\n",
        "\n",
        "# Generate classification report\n",
        "print(\"\\nClassification Report:\")\n",
        "print(classification_report(y_test, y_pred))\n",
        "\n",
        "# Generate confusion matrix\n",
        "conf_matrix = confusion_matrix(y_test, y_pred)\n",
        "print(\"\\nConfusion Matrix:\")\n",
        "\n",
        "# Visualize confusion matrix\n",
        "plt.figure(figsize=(6, 4))\n",
        "sns.heatmap(conf_matrix, annot=True, fmt='d', cmap='Blues', cbar=False,\n",
        "            xticklabels=['Class 0', 'Class 1'], yticklabels=['Class 0', 'Class 1'])\n",
        "plt.title('Confusion Matrix')\n",
        "plt.xlabel('Predicted Label')\n",
        "plt.ylabel('True Label')\n",
        "plt.show()\n",
        "\n",
        "# Visualize Training and Validation Loss Curves\n",
        "plt.figure(figsize=(8, 6))\n",
        "plt.plot(history.history['loss'], label='Training Loss')\n",
        "plt.plot(history.history['val_loss'], label='Validation/Test Loss')\n",
        "plt.title('Training and Validation Loss over Epochs')\n",
        "plt.xlabel('Epochs')\n",
        "plt.ylabel('Loss')\n",
        "plt.legend()\n",
        "plt.show()\n",
        "\n",
        "# Visualize Training and Validation Accuracy Curves\n",
        "plt.figure(figsize=(8, 6))\n",
        "plt.plot(history.history['accuracy'], label='Training Accuracy')\n",
        "plt.plot(history.history['val_accuracy'], label='Validation/Test Accuracy')\n",
        "plt.title('Training and Validation Accuracy over Epochs')\n",
        "plt.xlabel('Epochs')\n",
        "plt.ylabel('Accuracy')\n",
        "plt.legend()\n",
        "plt.show()"
      ]
    },
    {
      "cell_type": "markdown",
      "metadata": {
        "id": "3BAsCCE_udTh"
      },
      "source": [
        "## TimeGAN(Class 0)"
      ]
    },
    {
      "cell_type": "code",
      "execution_count": 28,
      "metadata": {
        "id": "cDz6dSlvyubt"
      },
      "outputs": [],
      "source": [
        "import numpy as np\n",
        "import pandas as pd\n",
        "import tensorflow as tf\n",
        "from tensorflow.keras import layers\n",
        "from sklearn.preprocessing import MinMaxScaler\n",
        "import matplotlib.pyplot as plt\n",
        "\n",
        "# Set random seed for reproducibility\n",
        "np.random.seed(42)\n",
        "tf.random.set_seed(42)"
      ]
    },
    {
      "cell_type": "code",
      "execution_count": 31,
      "metadata": {
        "colab": {
          "base_uri": "https://localhost:8080/"
        },
        "id": "FZWcpcm5yvgk",
        "outputId": "3fde1ca8-7bb7-4d3b-bcc8-31b5b86e02b7"
      },
      "outputs": [
        {
          "name": "stdout",
          "output_type": "stream",
          "text": [
            "Filtered data shape (rows, features): (9200, 178)\n",
            "Filtered target shape (rows): (9200,)\n"
          ]
        }
      ],
      "source": [
        "# Load the dataset\n",
        "data = pd.read_csv(\n",
        "    r\"W:\\courses\\SIC\\assigments&tasks\\20-final project\\Epileptic Seizure Recognition.csv\"\n",
        ")\n",
        "\n",
        "# Store the target column separately\n",
        "target = data['y']\n",
        "\n",
        "# Drop irrelevant columns\n",
        "data = data.drop(['Unnamed', 'y'], axis=1)\n",
        "\n",
        "# Define your mapping dictionary\n",
        "dic = {5: 0, 4: 0, 3: 0, 2: 0, 1: 1}\n",
        "\n",
        "# Map the target labels using the dictionary\n",
        "target = target.map(dic)\n",
        "\n",
        "# Filter the data to keep only rows where the target is class 0\n",
        "data_class_0 = data[target == 0]\n",
        "\n",
        "# Optionally, you can also filter the target variable to match\n",
        "target_class_0 = target[target == 0]\n",
        "\n",
        "# Print the shape of the filtered data\n",
        "print(f\"Filtered data shape (rows, features): {data_class_0.shape}\")\n",
        "print(f\"Filtered target shape (rows): {target_class_0.shape}\")"
      ]
    },
    {
      "cell_type": "code",
      "execution_count": 32,
      "metadata": {
        "id": "asQucw6Ryvdh"
      },
      "outputs": [],
      "source": [
        "def build_embedder():\n",
        "    model = tf.keras.Sequential([\n",
        "        layers.LSTM(100, return_sequences=True),\n",
        "        layers.LSTM(100, return_sequences=True),\n",
        "        layers.TimeDistributed(layers.Dense(50)),\n",
        "        layers.TimeDistributed(layers.Dense(10))  # Embed to 10 dimensions\n",
        "    ])\n",
        "    return model\n",
        "\n",
        "def build_recovery():\n",
        "    # Get the number of features from your dataset\n",
        "    n_features = 178  # data_class_0.shape[1] or the actual number of features\n",
        "\n",
        "    model = tf.keras.Sequential([\n",
        "        layers.LSTM(100, return_sequences=True),\n",
        "        layers.LSTM(100, return_sequences=True),\n",
        "        layers.TimeDistributed(layers.Dense(50)),\n",
        "        layers.TimeDistributed(layers.Dense(n_features))  # Reconstruct back to original features\n",
        "    ])\n",
        "    return model"
      ]
    },
    {
      "cell_type": "code",
      "execution_count": 33,
      "metadata": {
        "id": "lDPZWktGyvaG"
      },
      "outputs": [],
      "source": [
        "def build_generator():\n",
        "    # Get the number of features from your dataset\n",
        "    n_features = 178  # data_class_0.shape[1]\n",
        "\n",
        "    model = tf.keras.Sequential([\n",
        "        layers.LSTM(100, return_sequences=True),\n",
        "        layers.LSTM(100, return_sequences=True),\n",
        "        layers.TimeDistributed(layers.Dense(50)),\n",
        "        layers.TimeDistributed(layers.Dense(n_features))  # Generate original features\n",
        "    ])\n",
        "    return model\n",
        "\n",
        "def build_discriminator():\n",
        "    model = tf.keras.Sequential([\n",
        "        layers.LSTM(100, return_sequences=True),\n",
        "        layers.LSTM(100),\n",
        "        layers.Dense(50),\n",
        "        layers.Dense(1, activation='sigmoid')\n",
        "    ])\n",
        "    return model"
      ]
    },
    {
      "cell_type": "code",
      "execution_count": 34,
      "metadata": {
        "id": "WcMiXt97yvXN"
      },
      "outputs": [],
      "source": [
        "def build_supervisor():\n",
        "    model = tf.keras.Sequential([\n",
        "        layers.LSTM(100, return_sequences=True),\n",
        "        layers.LSTM(100, return_sequences=True)\n",
        "    ])\n",
        "    return model"
      ]
    },
    {
      "cell_type": "code",
      "execution_count": 35,
      "metadata": {
        "id": "pJ8oiUKa7fO3"
      },
      "outputs": [],
      "source": [
        "def custom_loss(real, generated):\n",
        "    real = tf.cast(real, tf.float32)\n",
        "    return tf.reduce_mean(tf.square(real - generated))\n",
        "\n",
        "# Create the optimizer outside the train_step function\n",
        "optimizer = tf.keras.optimizers.Adam(learning_rate=0.001)"
      ]
    },
    {
      "cell_type": "code",
      "execution_count": 36,
      "metadata": {
        "id": "ixCdqed1yvPw"
      },
      "outputs": [],
      "source": [
        "@tf.function\n",
        "def train_step(generator, discriminator, embedder, recovery, supervisor, real_data):\n",
        "    # Reshape real_data to include a timesteps dimension\n",
        "    real_data = tf.expand_dims(real_data, axis=1)  # Add timesteps dimension\n",
        "\n",
        "    with tf.GradientTape() as gen_tape, tf.GradientTape() as disc_tape:\n",
        "        # Embed real data\n",
        "        embedded_data = embedder(real_data)\n",
        "        recovered_data = recovery(embedded_data)\n",
        "\n",
        "        # Generate fake data\n",
        "        noise_shape = real_data.shape  # Use the shape of real_data for noise\n",
        "        noise = tf.random.normal(shape=noise_shape)\n",
        "        generated_data = generator(noise)\n",
        "\n",
        "        # Supervised training\n",
        "        supervised_data = supervisor(embedded_data)\n",
        "\n",
        "        # Discriminator prediction on real and fake data\n",
        "        # Cast inputs to discriminator to float32\n",
        "        real_output = discriminator(tf.cast(real_data, dtype=tf.float32))\n",
        "        fake_output = discriminator(tf.cast(generated_data, dtype=tf.float32))\n",
        "\n",
        "        # Losses\n",
        "        # Reshape recovered_data to match real_data shape for loss calculation\n",
        "        recovered_data = tf.squeeze(recovered_data, axis=1)\n",
        "        embedding_loss = custom_loss(real_data, recovered_data)\n",
        "        # Calculate generator loss based on discriminator output for fake data\n",
        "        generator_loss = custom_loss(tf.ones_like(fake_output), fake_output)\n",
        "        # Calculate discriminator loss based on real and fake data\n",
        "        discriminator_loss_real = custom_loss(tf.ones_like(real_output), real_output)\n",
        "        discriminator_loss_fake = custom_loss(tf.zeros_like(fake_output), fake_output)\n",
        "        discriminator_loss = discriminator_loss_real + discriminator_loss_fake\n",
        "\n",
        "    # Calculate gradients separately for generator and discriminator\n",
        "    generator_gradients = gen_tape.gradient(generator_loss + embedding_loss, generator.trainable_variables + embedder.trainable_variables + recovery.trainable_variables)\n",
        "    discriminator_gradients = disc_tape.gradient(discriminator_loss, discriminator.trainable_variables)\n",
        "\n",
        "    # Apply gradients using the optimizer (now defined outside)\n",
        "    if generator_gradients and any(g is not None for g in generator_gradients):\n",
        "        optimizer.apply_gradients(zip(generator_gradients, generator.trainable_variables + embedder.trainable_variables + recovery.trainable_variables))\n",
        "    if discriminator_gradients and any(g is not None for g in discriminator_gradients):\n",
        "        optimizer.apply_gradients(zip(discriminator_gradients, discriminator.trainable_variables))\n",
        "\n",
        "    return embedding_loss, discriminator_loss"
      ]
    },
    {
      "cell_type": "code",
      "execution_count": 37,
      "metadata": {
        "id": "JOujhBPg8vh3"
      },
      "outputs": [],
      "source": [
        "# Instantiate the models before the training loop\n",
        "generator = build_generator()\n",
        "discriminator = build_discriminator()\n",
        "embedder = build_embedder()\n",
        "recovery = build_recovery()\n",
        "supervisor = build_supervisor()\n",
        "\n",
        "# Batch processing\n",
        "batch_size = 32  # Choose an appropriate batch size based on your system's memory capacity\n",
        "num_batches = data_class_0.shape[0] // batch_size"
      ]
    },
    {
      "cell_type": "code",
      "execution_count": 38,
      "metadata": {
        "colab": {
          "base_uri": "https://localhost:8080/"
        },
        "id": "wtPGC1YK8rtU",
        "outputId": "241ed95c-2fac-4469-e129-ecc3db3821fb"
      },
      "outputs": [
        {
          "name": "stdout",
          "output_type": "stream",
          "text": [
            "Epoch 0, Embed Loss: 13519.3876953125, Disc Loss: 0.000226935648242943\n",
            "Epoch 10, Embed Loss: 13519.3876953125, Disc Loss: 8.293027349282056e-07\n",
            "Epoch 20, Embed Loss: 13519.3876953125, Disc Loss: 1.1416535272701367e-07\n",
            "Epoch 30, Embed Loss: 13519.3876953125, Disc Loss: 2.2011393596699236e-08\n",
            "Epoch 40, Embed Loss: 13519.3876953125, Disc Loss: 4.778027751228819e-09\n",
            "Epoch 50, Embed Loss: 13519.3876953125, Disc Loss: 1.1979156555597115e-09\n",
            "Epoch 60, Embed Loss: 13519.3876953125, Disc Loss: 3.623869537783264e-10\n"
          ]
        },
        {
          "ename": "KeyboardInterrupt",
          "evalue": "",
          "output_type": "error",
          "traceback": [
            "\u001b[1;31m---------------------------------------------------------------------------\u001b[0m",
            "\u001b[1;31mKeyboardInterrupt\u001b[0m                         Traceback (most recent call last)",
            "Cell \u001b[1;32mIn[38], line 9\u001b[0m\n\u001b[0;32m      6\u001b[0m     end_index \u001b[38;5;241m=\u001b[39m (batch_index \u001b[38;5;241m+\u001b[39m \u001b[38;5;241m1\u001b[39m) \u001b[38;5;241m*\u001b[39m batch_size\n\u001b[0;32m      7\u001b[0m     batch_data \u001b[38;5;241m=\u001b[39m data_class_0[start_index:end_index]  \u001b[38;5;66;03m# Select a batch of data\u001b[39;00m\n\u001b[1;32m----> 9\u001b[0m     loss_embed, loss_disc \u001b[38;5;241m=\u001b[39m \u001b[43mtrain_step\u001b[49m\u001b[43m(\u001b[49m\u001b[43mgenerator\u001b[49m\u001b[43m,\u001b[49m\u001b[43m \u001b[49m\u001b[43mdiscriminator\u001b[49m\u001b[43m,\u001b[49m\u001b[43m \u001b[49m\u001b[43membedder\u001b[49m\u001b[43m,\u001b[49m\u001b[43m \u001b[49m\u001b[43mrecovery\u001b[49m\u001b[43m,\u001b[49m\u001b[43m \u001b[49m\u001b[43msupervisor\u001b[49m\u001b[43m,\u001b[49m\u001b[43m \u001b[49m\u001b[43mbatch_data\u001b[49m\u001b[43m)\u001b[49m\n\u001b[0;32m     11\u001b[0m \u001b[38;5;28;01mif\u001b[39;00m epoch \u001b[38;5;241m%\u001b[39m \u001b[38;5;241m10\u001b[39m \u001b[38;5;241m==\u001b[39m \u001b[38;5;241m0\u001b[39m:\n\u001b[0;32m     12\u001b[0m     \u001b[38;5;28mprint\u001b[39m(\u001b[38;5;124mf\u001b[39m\u001b[38;5;124m\"\u001b[39m\u001b[38;5;124mEpoch \u001b[39m\u001b[38;5;132;01m{\u001b[39;00mepoch\u001b[38;5;132;01m}\u001b[39;00m\u001b[38;5;124m, Embed Loss: \u001b[39m\u001b[38;5;132;01m{\u001b[39;00mloss_embed\u001b[38;5;241m.\u001b[39mnumpy()\u001b[38;5;132;01m}\u001b[39;00m\u001b[38;5;124m, Disc Loss: \u001b[39m\u001b[38;5;132;01m{\u001b[39;00mloss_disc\u001b[38;5;241m.\u001b[39mnumpy()\u001b[38;5;132;01m}\u001b[39;00m\u001b[38;5;124m\"\u001b[39m)\n",
            "File \u001b[1;32mc:\\Users\\dell\\AppData\\Local\\Programs\\Python\\Python311\\Lib\\site-packages\\tensorflow\\python\\util\\traceback_utils.py:150\u001b[0m, in \u001b[0;36mfilter_traceback.<locals>.error_handler\u001b[1;34m(*args, **kwargs)\u001b[0m\n\u001b[0;32m    148\u001b[0m filtered_tb \u001b[38;5;241m=\u001b[39m \u001b[38;5;28;01mNone\u001b[39;00m\n\u001b[0;32m    149\u001b[0m \u001b[38;5;28;01mtry\u001b[39;00m:\n\u001b[1;32m--> 150\u001b[0m   \u001b[38;5;28;01mreturn\u001b[39;00m \u001b[43mfn\u001b[49m\u001b[43m(\u001b[49m\u001b[38;5;241;43m*\u001b[39;49m\u001b[43margs\u001b[49m\u001b[43m,\u001b[49m\u001b[43m \u001b[49m\u001b[38;5;241;43m*\u001b[39;49m\u001b[38;5;241;43m*\u001b[39;49m\u001b[43mkwargs\u001b[49m\u001b[43m)\u001b[49m\n\u001b[0;32m    151\u001b[0m \u001b[38;5;28;01mexcept\u001b[39;00m \u001b[38;5;167;01mException\u001b[39;00m \u001b[38;5;28;01mas\u001b[39;00m e:\n\u001b[0;32m    152\u001b[0m   filtered_tb \u001b[38;5;241m=\u001b[39m _process_traceback_frames(e\u001b[38;5;241m.\u001b[39m__traceback__)\n",
            "File \u001b[1;32mc:\\Users\\dell\\AppData\\Local\\Programs\\Python\\Python311\\Lib\\site-packages\\tensorflow\\python\\eager\\polymorphic_function\\polymorphic_function.py:833\u001b[0m, in \u001b[0;36mFunction.__call__\u001b[1;34m(self, *args, **kwds)\u001b[0m\n\u001b[0;32m    830\u001b[0m compiler \u001b[38;5;241m=\u001b[39m \u001b[38;5;124m\"\u001b[39m\u001b[38;5;124mxla\u001b[39m\u001b[38;5;124m\"\u001b[39m \u001b[38;5;28;01mif\u001b[39;00m \u001b[38;5;28mself\u001b[39m\u001b[38;5;241m.\u001b[39m_jit_compile \u001b[38;5;28;01melse\u001b[39;00m \u001b[38;5;124m\"\u001b[39m\u001b[38;5;124mnonXla\u001b[39m\u001b[38;5;124m\"\u001b[39m\n\u001b[0;32m    832\u001b[0m \u001b[38;5;28;01mwith\u001b[39;00m OptionalXlaContext(\u001b[38;5;28mself\u001b[39m\u001b[38;5;241m.\u001b[39m_jit_compile):\n\u001b[1;32m--> 833\u001b[0m   result \u001b[38;5;241m=\u001b[39m \u001b[38;5;28;43mself\u001b[39;49m\u001b[38;5;241;43m.\u001b[39;49m\u001b[43m_call\u001b[49m\u001b[43m(\u001b[49m\u001b[38;5;241;43m*\u001b[39;49m\u001b[43margs\u001b[49m\u001b[43m,\u001b[49m\u001b[43m \u001b[49m\u001b[38;5;241;43m*\u001b[39;49m\u001b[38;5;241;43m*\u001b[39;49m\u001b[43mkwds\u001b[49m\u001b[43m)\u001b[49m\n\u001b[0;32m    835\u001b[0m new_tracing_count \u001b[38;5;241m=\u001b[39m \u001b[38;5;28mself\u001b[39m\u001b[38;5;241m.\u001b[39mexperimental_get_tracing_count()\n\u001b[0;32m    836\u001b[0m without_tracing \u001b[38;5;241m=\u001b[39m (tracing_count \u001b[38;5;241m==\u001b[39m new_tracing_count)\n",
            "File \u001b[1;32mc:\\Users\\dell\\AppData\\Local\\Programs\\Python\\Python311\\Lib\\site-packages\\tensorflow\\python\\eager\\polymorphic_function\\polymorphic_function.py:869\u001b[0m, in \u001b[0;36mFunction._call\u001b[1;34m(self, *args, **kwds)\u001b[0m\n\u001b[0;32m    866\u001b[0m   \u001b[38;5;28mself\u001b[39m\u001b[38;5;241m.\u001b[39m_lock\u001b[38;5;241m.\u001b[39mrelease()\n\u001b[0;32m    867\u001b[0m   \u001b[38;5;66;03m# In this case we have created variables on the first call, so we run the\u001b[39;00m\n\u001b[0;32m    868\u001b[0m   \u001b[38;5;66;03m# defunned version which is guaranteed to never create variables.\u001b[39;00m\n\u001b[1;32m--> 869\u001b[0m   \u001b[38;5;28;01mreturn\u001b[39;00m \u001b[43mtracing_compilation\u001b[49m\u001b[38;5;241;43m.\u001b[39;49m\u001b[43mcall_function\u001b[49m\u001b[43m(\u001b[49m\n\u001b[0;32m    870\u001b[0m \u001b[43m      \u001b[49m\u001b[43margs\u001b[49m\u001b[43m,\u001b[49m\u001b[43m \u001b[49m\u001b[43mkwds\u001b[49m\u001b[43m,\u001b[49m\u001b[43m \u001b[49m\u001b[38;5;28;43mself\u001b[39;49m\u001b[38;5;241;43m.\u001b[39;49m\u001b[43m_no_variable_creation_config\u001b[49m\n\u001b[0;32m    871\u001b[0m \u001b[43m  \u001b[49m\u001b[43m)\u001b[49m\n\u001b[0;32m    872\u001b[0m \u001b[38;5;28;01melif\u001b[39;00m \u001b[38;5;28mself\u001b[39m\u001b[38;5;241m.\u001b[39m_variable_creation_config \u001b[38;5;129;01mis\u001b[39;00m \u001b[38;5;129;01mnot\u001b[39;00m \u001b[38;5;28;01mNone\u001b[39;00m:\n\u001b[0;32m    873\u001b[0m   \u001b[38;5;66;03m# Release the lock early so that multiple threads can perform the call\u001b[39;00m\n\u001b[0;32m    874\u001b[0m   \u001b[38;5;66;03m# in parallel.\u001b[39;00m\n\u001b[0;32m    875\u001b[0m   \u001b[38;5;28mself\u001b[39m\u001b[38;5;241m.\u001b[39m_lock\u001b[38;5;241m.\u001b[39mrelease()\n",
            "File \u001b[1;32mc:\\Users\\dell\\AppData\\Local\\Programs\\Python\\Python311\\Lib\\site-packages\\tensorflow\\python\\eager\\polymorphic_function\\tracing_compilation.py:139\u001b[0m, in \u001b[0;36mcall_function\u001b[1;34m(args, kwargs, tracing_options)\u001b[0m\n\u001b[0;32m    137\u001b[0m bound_args \u001b[38;5;241m=\u001b[39m function\u001b[38;5;241m.\u001b[39mfunction_type\u001b[38;5;241m.\u001b[39mbind(\u001b[38;5;241m*\u001b[39margs, \u001b[38;5;241m*\u001b[39m\u001b[38;5;241m*\u001b[39mkwargs)\n\u001b[0;32m    138\u001b[0m flat_inputs \u001b[38;5;241m=\u001b[39m function\u001b[38;5;241m.\u001b[39mfunction_type\u001b[38;5;241m.\u001b[39munpack_inputs(bound_args)\n\u001b[1;32m--> 139\u001b[0m \u001b[38;5;28;01mreturn\u001b[39;00m \u001b[43mfunction\u001b[49m\u001b[38;5;241;43m.\u001b[39;49m\u001b[43m_call_flat\u001b[49m\u001b[43m(\u001b[49m\u001b[43m  \u001b[49m\u001b[38;5;66;43;03m# pylint: disable=protected-access\u001b[39;49;00m\n\u001b[0;32m    140\u001b[0m \u001b[43m    \u001b[49m\u001b[43mflat_inputs\u001b[49m\u001b[43m,\u001b[49m\u001b[43m \u001b[49m\u001b[43mcaptured_inputs\u001b[49m\u001b[38;5;241;43m=\u001b[39;49m\u001b[43mfunction\u001b[49m\u001b[38;5;241;43m.\u001b[39;49m\u001b[43mcaptured_inputs\u001b[49m\n\u001b[0;32m    141\u001b[0m \u001b[43m\u001b[49m\u001b[43m)\u001b[49m\n",
            "File \u001b[1;32mc:\\Users\\dell\\AppData\\Local\\Programs\\Python\\Python311\\Lib\\site-packages\\tensorflow\\python\\eager\\polymorphic_function\\concrete_function.py:1322\u001b[0m, in \u001b[0;36mConcreteFunction._call_flat\u001b[1;34m(self, tensor_inputs, captured_inputs)\u001b[0m\n\u001b[0;32m   1318\u001b[0m possible_gradient_type \u001b[38;5;241m=\u001b[39m gradients_util\u001b[38;5;241m.\u001b[39mPossibleTapeGradientTypes(args)\n\u001b[0;32m   1319\u001b[0m \u001b[38;5;28;01mif\u001b[39;00m (possible_gradient_type \u001b[38;5;241m==\u001b[39m gradients_util\u001b[38;5;241m.\u001b[39mPOSSIBLE_GRADIENT_TYPES_NONE\n\u001b[0;32m   1320\u001b[0m     \u001b[38;5;129;01mand\u001b[39;00m executing_eagerly):\n\u001b[0;32m   1321\u001b[0m   \u001b[38;5;66;03m# No tape is watching; skip to running the function.\u001b[39;00m\n\u001b[1;32m-> 1322\u001b[0m   \u001b[38;5;28;01mreturn\u001b[39;00m \u001b[38;5;28;43mself\u001b[39;49m\u001b[38;5;241;43m.\u001b[39;49m\u001b[43m_inference_function\u001b[49m\u001b[38;5;241;43m.\u001b[39;49m\u001b[43mcall_preflattened\u001b[49m\u001b[43m(\u001b[49m\u001b[43margs\u001b[49m\u001b[43m)\u001b[49m\n\u001b[0;32m   1323\u001b[0m forward_backward \u001b[38;5;241m=\u001b[39m \u001b[38;5;28mself\u001b[39m\u001b[38;5;241m.\u001b[39m_select_forward_and_backward_functions(\n\u001b[0;32m   1324\u001b[0m     args,\n\u001b[0;32m   1325\u001b[0m     possible_gradient_type,\n\u001b[0;32m   1326\u001b[0m     executing_eagerly)\n\u001b[0;32m   1327\u001b[0m forward_function, args_with_tangents \u001b[38;5;241m=\u001b[39m forward_backward\u001b[38;5;241m.\u001b[39mforward()\n",
            "File \u001b[1;32mc:\\Users\\dell\\AppData\\Local\\Programs\\Python\\Python311\\Lib\\site-packages\\tensorflow\\python\\eager\\polymorphic_function\\atomic_function.py:216\u001b[0m, in \u001b[0;36mAtomicFunction.call_preflattened\u001b[1;34m(self, args)\u001b[0m\n\u001b[0;32m    214\u001b[0m \u001b[38;5;28;01mdef\u001b[39;00m \u001b[38;5;21mcall_preflattened\u001b[39m(\u001b[38;5;28mself\u001b[39m, args: Sequence[core\u001b[38;5;241m.\u001b[39mTensor]) \u001b[38;5;241m-\u001b[39m\u001b[38;5;241m>\u001b[39m Any:\n\u001b[0;32m    215\u001b[0m \u001b[38;5;250m  \u001b[39m\u001b[38;5;124;03m\"\"\"Calls with flattened tensor inputs and returns the structured output.\"\"\"\u001b[39;00m\n\u001b[1;32m--> 216\u001b[0m   flat_outputs \u001b[38;5;241m=\u001b[39m \u001b[38;5;28;43mself\u001b[39;49m\u001b[38;5;241;43m.\u001b[39;49m\u001b[43mcall_flat\u001b[49m\u001b[43m(\u001b[49m\u001b[38;5;241;43m*\u001b[39;49m\u001b[43margs\u001b[49m\u001b[43m)\u001b[49m\n\u001b[0;32m    217\u001b[0m   \u001b[38;5;28;01mreturn\u001b[39;00m \u001b[38;5;28mself\u001b[39m\u001b[38;5;241m.\u001b[39mfunction_type\u001b[38;5;241m.\u001b[39mpack_output(flat_outputs)\n",
            "File \u001b[1;32mc:\\Users\\dell\\AppData\\Local\\Programs\\Python\\Python311\\Lib\\site-packages\\tensorflow\\python\\eager\\polymorphic_function\\atomic_function.py:251\u001b[0m, in \u001b[0;36mAtomicFunction.call_flat\u001b[1;34m(self, *args)\u001b[0m\n\u001b[0;32m    249\u001b[0m \u001b[38;5;28;01mwith\u001b[39;00m record\u001b[38;5;241m.\u001b[39mstop_recording():\n\u001b[0;32m    250\u001b[0m   \u001b[38;5;28;01mif\u001b[39;00m \u001b[38;5;28mself\u001b[39m\u001b[38;5;241m.\u001b[39m_bound_context\u001b[38;5;241m.\u001b[39mexecuting_eagerly():\n\u001b[1;32m--> 251\u001b[0m     outputs \u001b[38;5;241m=\u001b[39m \u001b[38;5;28;43mself\u001b[39;49m\u001b[38;5;241;43m.\u001b[39;49m\u001b[43m_bound_context\u001b[49m\u001b[38;5;241;43m.\u001b[39;49m\u001b[43mcall_function\u001b[49m\u001b[43m(\u001b[49m\n\u001b[0;32m    252\u001b[0m \u001b[43m        \u001b[49m\u001b[38;5;28;43mself\u001b[39;49m\u001b[38;5;241;43m.\u001b[39;49m\u001b[43mname\u001b[49m\u001b[43m,\u001b[49m\n\u001b[0;32m    253\u001b[0m \u001b[43m        \u001b[49m\u001b[38;5;28;43mlist\u001b[39;49m\u001b[43m(\u001b[49m\u001b[43margs\u001b[49m\u001b[43m)\u001b[49m\u001b[43m,\u001b[49m\n\u001b[0;32m    254\u001b[0m \u001b[43m        \u001b[49m\u001b[38;5;28;43mlen\u001b[39;49m\u001b[43m(\u001b[49m\u001b[38;5;28;43mself\u001b[39;49m\u001b[38;5;241;43m.\u001b[39;49m\u001b[43mfunction_type\u001b[49m\u001b[38;5;241;43m.\u001b[39;49m\u001b[43mflat_outputs\u001b[49m\u001b[43m)\u001b[49m\u001b[43m,\u001b[49m\n\u001b[0;32m    255\u001b[0m \u001b[43m    \u001b[49m\u001b[43m)\u001b[49m\n\u001b[0;32m    256\u001b[0m   \u001b[38;5;28;01melse\u001b[39;00m:\n\u001b[0;32m    257\u001b[0m     outputs \u001b[38;5;241m=\u001b[39m make_call_op_in_graph(\n\u001b[0;32m    258\u001b[0m         \u001b[38;5;28mself\u001b[39m,\n\u001b[0;32m    259\u001b[0m         \u001b[38;5;28mlist\u001b[39m(args),\n\u001b[0;32m    260\u001b[0m         \u001b[38;5;28mself\u001b[39m\u001b[38;5;241m.\u001b[39m_bound_context\u001b[38;5;241m.\u001b[39mfunction_call_options\u001b[38;5;241m.\u001b[39mas_attrs(),\n\u001b[0;32m    261\u001b[0m     )\n",
            "File \u001b[1;32mc:\\Users\\dell\\AppData\\Local\\Programs\\Python\\Python311\\Lib\\site-packages\\tensorflow\\python\\eager\\context.py:1552\u001b[0m, in \u001b[0;36mContext.call_function\u001b[1;34m(self, name, tensor_inputs, num_outputs)\u001b[0m\n\u001b[0;32m   1550\u001b[0m cancellation_context \u001b[38;5;241m=\u001b[39m cancellation\u001b[38;5;241m.\u001b[39mcontext()\n\u001b[0;32m   1551\u001b[0m \u001b[38;5;28;01mif\u001b[39;00m cancellation_context \u001b[38;5;129;01mis\u001b[39;00m \u001b[38;5;28;01mNone\u001b[39;00m:\n\u001b[1;32m-> 1552\u001b[0m   outputs \u001b[38;5;241m=\u001b[39m \u001b[43mexecute\u001b[49m\u001b[38;5;241;43m.\u001b[39;49m\u001b[43mexecute\u001b[49m\u001b[43m(\u001b[49m\n\u001b[0;32m   1553\u001b[0m \u001b[43m      \u001b[49m\u001b[43mname\u001b[49m\u001b[38;5;241;43m.\u001b[39;49m\u001b[43mdecode\u001b[49m\u001b[43m(\u001b[49m\u001b[38;5;124;43m\"\u001b[39;49m\u001b[38;5;124;43mutf-8\u001b[39;49m\u001b[38;5;124;43m\"\u001b[39;49m\u001b[43m)\u001b[49m\u001b[43m,\u001b[49m\n\u001b[0;32m   1554\u001b[0m \u001b[43m      \u001b[49m\u001b[43mnum_outputs\u001b[49m\u001b[38;5;241;43m=\u001b[39;49m\u001b[43mnum_outputs\u001b[49m\u001b[43m,\u001b[49m\n\u001b[0;32m   1555\u001b[0m \u001b[43m      \u001b[49m\u001b[43minputs\u001b[49m\u001b[38;5;241;43m=\u001b[39;49m\u001b[43mtensor_inputs\u001b[49m\u001b[43m,\u001b[49m\n\u001b[0;32m   1556\u001b[0m \u001b[43m      \u001b[49m\u001b[43mattrs\u001b[49m\u001b[38;5;241;43m=\u001b[39;49m\u001b[43mattrs\u001b[49m\u001b[43m,\u001b[49m\n\u001b[0;32m   1557\u001b[0m \u001b[43m      \u001b[49m\u001b[43mctx\u001b[49m\u001b[38;5;241;43m=\u001b[39;49m\u001b[38;5;28;43mself\u001b[39;49m\u001b[43m,\u001b[49m\n\u001b[0;32m   1558\u001b[0m \u001b[43m  \u001b[49m\u001b[43m)\u001b[49m\n\u001b[0;32m   1559\u001b[0m \u001b[38;5;28;01melse\u001b[39;00m:\n\u001b[0;32m   1560\u001b[0m   outputs \u001b[38;5;241m=\u001b[39m execute\u001b[38;5;241m.\u001b[39mexecute_with_cancellation(\n\u001b[0;32m   1561\u001b[0m       name\u001b[38;5;241m.\u001b[39mdecode(\u001b[38;5;124m\"\u001b[39m\u001b[38;5;124mutf-8\u001b[39m\u001b[38;5;124m\"\u001b[39m),\n\u001b[0;32m   1562\u001b[0m       num_outputs\u001b[38;5;241m=\u001b[39mnum_outputs,\n\u001b[1;32m   (...)\u001b[0m\n\u001b[0;32m   1566\u001b[0m       cancellation_manager\u001b[38;5;241m=\u001b[39mcancellation_context,\n\u001b[0;32m   1567\u001b[0m   )\n",
            "File \u001b[1;32mc:\\Users\\dell\\AppData\\Local\\Programs\\Python\\Python311\\Lib\\site-packages\\tensorflow\\python\\eager\\execute.py:53\u001b[0m, in \u001b[0;36mquick_execute\u001b[1;34m(op_name, num_outputs, inputs, attrs, ctx, name)\u001b[0m\n\u001b[0;32m     51\u001b[0m \u001b[38;5;28;01mtry\u001b[39;00m:\n\u001b[0;32m     52\u001b[0m   ctx\u001b[38;5;241m.\u001b[39mensure_initialized()\n\u001b[1;32m---> 53\u001b[0m   tensors \u001b[38;5;241m=\u001b[39m \u001b[43mpywrap_tfe\u001b[49m\u001b[38;5;241;43m.\u001b[39;49m\u001b[43mTFE_Py_Execute\u001b[49m\u001b[43m(\u001b[49m\u001b[43mctx\u001b[49m\u001b[38;5;241;43m.\u001b[39;49m\u001b[43m_handle\u001b[49m\u001b[43m,\u001b[49m\u001b[43m \u001b[49m\u001b[43mdevice_name\u001b[49m\u001b[43m,\u001b[49m\u001b[43m \u001b[49m\u001b[43mop_name\u001b[49m\u001b[43m,\u001b[49m\n\u001b[0;32m     54\u001b[0m \u001b[43m                                      \u001b[49m\u001b[43minputs\u001b[49m\u001b[43m,\u001b[49m\u001b[43m \u001b[49m\u001b[43mattrs\u001b[49m\u001b[43m,\u001b[49m\u001b[43m \u001b[49m\u001b[43mnum_outputs\u001b[49m\u001b[43m)\u001b[49m\n\u001b[0;32m     55\u001b[0m \u001b[38;5;28;01mexcept\u001b[39;00m core\u001b[38;5;241m.\u001b[39m_NotOkStatusException \u001b[38;5;28;01mas\u001b[39;00m e:\n\u001b[0;32m     56\u001b[0m   \u001b[38;5;28;01mif\u001b[39;00m name \u001b[38;5;129;01mis\u001b[39;00m \u001b[38;5;129;01mnot\u001b[39;00m \u001b[38;5;28;01mNone\u001b[39;00m:\n",
            "\u001b[1;31mKeyboardInterrupt\u001b[0m: "
          ]
        }
      ],
      "source": [
        "# Training loop\n",
        "epochs = 1000\n",
        "for epoch in range(epochs):\n",
        "    for batch_index in range(num_batches):\n",
        "        start_index = batch_index * batch_size\n",
        "        end_index = (batch_index + 1) * batch_size\n",
        "        batch_data = data_class_0[start_index:end_index]  # Select a batch of data\n",
        "\n",
        "        loss_embed, loss_disc = train_step(generator, discriminator, embedder, recovery, supervisor, batch_data)\n",
        "\n",
        "    if epoch % 10 == 0:\n",
        "        print(f\"Epoch {epoch}, Embed Loss: {loss_embed.numpy()}, Disc Loss: {loss_disc.numpy()}\")"
      ]
    },
    {
      "cell_type": "code",
      "execution_count": null,
      "metadata": {
        "id": "F5vIJnu6y-3t"
      },
      "outputs": [],
      "source": [
        "def generate_rows(generator, num_samples, n_features): # Add n_features as an argument\n",
        "    noise = tf.random.normal(shape=(num_samples, 178, n_features))\n",
        "    generated_rows = generator(noise)\n",
        "    return generated_rows\n",
        "\n",
        "# Generate new rows of data (each row consists of 178 points)\n",
        "num_samples = 5  # You can generate as many rows as needed\n",
        "# Get n_features from your data's shape\n",
        "n_features = data.shape[1]\n",
        "generated_rows = generate_rows(generator, num_samples, n_features).numpy() # Pass n_features to the function"
      ]
    },
    {
      "cell_type": "code",
      "execution_count": null,
      "metadata": {
        "colab": {
          "base_uri": "https://localhost:8080/",
          "height": 450
        },
        "id": "MkzysGkGAQaM",
        "outputId": "10161e64-9a41-45b4-ad59-24104da3f562"
      },
      "outputs": [
        {
          "data": {
            "image/png": "[encoded data removed]",
            "text/plain": [
              "<Figure size 1500x500 with 3 Axes>"
            ]
          },
          "metadata": {},
          "output_type": "display_data"
        }
      ],
      "source": [
        "# Function to plot specific signals side by side\n",
        "def plot_specific_signals(signals, indices, title_prefix=\"Generated EEG Signal\", sample_idx=0):\n",
        "    num_signals = len(indices)  # Number of specific signals to plot\n",
        "\n",
        "    # Create a figure with subplots for the specified signals\n",
        "    fig, axes = plt.subplots(1, num_signals, figsize=(15, 5))\n",
        "\n",
        "    for idx, signal_idx in enumerate(indices):  # Iterate over each specified signal index\n",
        "        axes[idx].plot(signals[sample_idx, :, signal_idx], label=f'Signal {signal_idx+1}', color='blue')\n",
        "        axes[idx].set_title(f\"{title_prefix} - Signal {signal_idx+1}\")\n",
        "        axes[idx].set_xlabel('Time Points (1 Second)')\n",
        "        axes[idx].set_ylabel('Amplitude')\n",
        "        axes[idx].legend()\n",
        "        axes[idx].grid(True)\n",
        "\n",
        "    # Adjust layout\n",
        "    plt.tight_layout()\n",
        "    plt.show()\n",
        "\n",
        "# Specify the indices of the three signals you want to plot\n",
        "specific_indices = [0, 1, 2]  # Indices of the signals to visualize (adjust as needed)\n",
        "\n",
        "# Visualize the specified signals side by side\n",
        "plot_specific_signals(generated_rows, specific_indices, title_prefix=\"Generated EEG Signal\", sample_idx=0)"
      ]
    },
    {
      "cell_type": "markdown",
      "metadata": {
        "id": "Bk8UtGWS8sTu"
      },
      "source": [
        "## TimeGAN(Class 1)"
      ]
    },
    {
      "cell_type": "code",
      "execution_count": null,
      "metadata": {
        "id": "olqGzsn-4HQ1"
      },
      "outputs": [],
      "source": [
        "import numpy as np\n",
        "import pandas as pd\n",
        "import tensorflow as tf\n",
        "from tensorflow.keras import layers\n",
        "from sklearn.preprocessing import MinMaxScaler\n",
        "import matplotlib.pyplot as plt\n",
        "\n",
        "# Set random seed for reproducibility\n",
        "np.random.seed(42)\n",
        "tf.random.set_seed(42)"
      ]
    },
    {
      "cell_type": "code",
      "execution_count": null,
      "metadata": {
        "colab": {
          "base_uri": "https://localhost:8080/"
        },
        "id": "7Ul0yUfy4HQ1",
        "outputId": "194063a5-b5a1-416b-c5be-1ce24ef52429"
      },
      "outputs": [
        {
          "name": "stdout",
          "output_type": "stream",
          "text": [
            "Filtered data shape (rows, features): (2300, 178)\n",
            "Filtered target shape (rows): (2300,)\n"
          ]
        }
      ],
      "source": [
        "# Load the dataset\n",
        "data = pd.read_csv('/content/Epileptic Seizure Recognition.csv')\n",
        "\n",
        "# Store the target column separately\n",
        "target = data['y']\n",
        "\n",
        "# Drop irrelevant columns\n",
        "data = data.drop(['Unnamed', 'y'], axis=1)\n",
        "\n",
        "# Define your mapping dictionary\n",
        "dic = {5: 0, 4: 0, 3: 0, 2: 0, 1: 1}\n",
        "\n",
        "# Map the target labels using the dictionary\n",
        "target = target.map(dic)\n",
        "\n",
        "# Filter the data to keep only rows where the target is class 0\n",
        "data_class_1 = data[target == 1]\n",
        "\n",
        "# Optionally, you can also filter the target variable to match\n",
        "target_class_1 = target[target == 1]\n",
        "\n",
        "# Print the shape of the filtered data\n",
        "print(f\"Filtered data shape (rows, features): {data_class_1.shape}\")\n",
        "print(f\"Filtered target shape (rows): {target_class_1.shape}\")"
      ]
    },
    {
      "cell_type": "code",
      "execution_count": null,
      "metadata": {
        "id": "FFfl0v8i4HQ1"
      },
      "outputs": [],
      "source": [
        "def build_embedder():\n",
        "    model = tf.keras.Sequential([\n",
        "        layers.LSTM(100, return_sequences=True),\n",
        "        layers.LSTM(100, return_sequences=True),\n",
        "        layers.TimeDistributed(layers.Dense(50)),\n",
        "        layers.TimeDistributed(layers.Dense(10))  # Embed to 10 dimensions\n",
        "    ])\n",
        "    return model\n",
        "\n",
        "def build_recovery():\n",
        "    # Get the number of features from your dataset\n",
        "    n_features = 178  # data_class_0.shape[1] or the actual number of features\n",
        "\n",
        "    model = tf.keras.Sequential([\n",
        "        layers.LSTM(100, return_sequences=True),\n",
        "        layers.LSTM(100, return_sequences=True),\n",
        "        layers.TimeDistributed(layers.Dense(50)),\n",
        "        layers.TimeDistributed(layers.Dense(n_features))  # Reconstruct back to original features\n",
        "    ])\n",
        "    return model"
      ]
    },
    {
      "cell_type": "code",
      "execution_count": null,
      "metadata": {
        "id": "cmu1GPTt4HQ1"
      },
      "outputs": [],
      "source": [
        "def build_generator():\n",
        "    # Get the number of features from your dataset\n",
        "    n_features = 178  # data_class_0.shape[1]\n",
        "\n",
        "    model = tf.keras.Sequential([\n",
        "        layers.LSTM(100, return_sequences=True),\n",
        "        layers.LSTM(100, return_sequences=True),\n",
        "        layers.TimeDistributed(layers.Dense(50)),\n",
        "        layers.TimeDistributed(layers.Dense(n_features))  # Generate original features\n",
        "    ])\n",
        "    return model\n",
        "\n",
        "def build_discriminator():\n",
        "    model = tf.keras.Sequential([\n",
        "        layers.LSTM(100, return_sequences=True),\n",
        "        layers.LSTM(100),\n",
        "        layers.Dense(50),\n",
        "        layers.Dense(1, activation='sigmoid')\n",
        "    ])\n",
        "    return model"
      ]
    },
    {
      "cell_type": "code",
      "execution_count": null,
      "metadata": {
        "id": "5AL3IIGy4HQ1"
      },
      "outputs": [],
      "source": [
        "def build_supervisor():\n",
        "    model = tf.keras.Sequential([\n",
        "        layers.LSTM(100, return_sequences=True),\n",
        "        layers.LSTM(100, return_sequences=True)\n",
        "    ])\n",
        "    return model"
      ]
    },
    {
      "cell_type": "code",
      "execution_count": null,
      "metadata": {
        "id": "3gSdTARh4HQ1"
      },
      "outputs": [],
      "source": [
        "def custom_loss(real, generated):\n",
        "    real = tf.cast(real, tf.float32)\n",
        "    return tf.reduce_mean(tf.square(real - generated))\n",
        "\n",
        "# Create the optimizer outside the train_step function\n",
        "optimizer = tf.keras.optimizers.Adam(learning_rate=0.001)"
      ]
    },
    {
      "cell_type": "code",
      "execution_count": null,
      "metadata": {
        "id": "ooRhA0XP4HQ1"
      },
      "outputs": [],
      "source": [
        "@tf.function\n",
        "def train_step(generator, discriminator, embedder, recovery, supervisor, real_data):\n",
        "    # Reshape real_data to include a timesteps dimension\n",
        "    real_data = tf.expand_dims(real_data, axis=1)  # Add timesteps dimension\n",
        "\n",
        "    with tf.GradientTape() as gen_tape, tf.GradientTape() as disc_tape:\n",
        "        # Embed real data\n",
        "        embedded_data = embedder(real_data)\n",
        "        recovered_data = recovery(embedded_data)\n",
        "\n",
        "        # Generate fake data\n",
        "        noise_shape = real_data.shape  # Use the shape of real_data for noise\n",
        "        noise = tf.random.normal(shape=noise_shape)\n",
        "        generated_data = generator(noise)\n",
        "\n",
        "        # Supervised training\n",
        "        supervised_data = supervisor(embedded_data)\n",
        "\n",
        "        # Discriminator prediction on real and fake data\n",
        "        # Cast inputs to discriminator to float32\n",
        "        real_output = discriminator(tf.cast(real_data, dtype=tf.float32))\n",
        "        fake_output = discriminator(tf.cast(generated_data, dtype=tf.float32))\n",
        "\n",
        "        # Losses\n",
        "        # Reshape recovered_data to match real_data shape for loss calculation\n",
        "        recovered_data = tf.squeeze(recovered_data, axis=1)\n",
        "        embedding_loss = custom_loss(real_data, recovered_data)\n",
        "        # Calculate generator loss based on discriminator output for fake data\n",
        "        generator_loss = custom_loss(tf.ones_like(fake_output), fake_output)\n",
        "        # Calculate discriminator loss based on real and fake data\n",
        "        discriminator_loss_real = custom_loss(tf.ones_like(real_output), real_output)\n",
        "        discriminator_loss_fake = custom_loss(tf.zeros_like(fake_output), fake_output)\n",
        "        discriminator_loss = discriminator_loss_real + discriminator_loss_fake\n",
        "\n",
        "    # Calculate gradients separately for generator and discriminator\n",
        "    generator_gradients = gen_tape.gradient(generator_loss + embedding_loss, generator.trainable_variables + embedder.trainable_variables + recovery.trainable_variables)\n",
        "    discriminator_gradients = disc_tape.gradient(discriminator_loss, discriminator.trainable_variables)\n",
        "\n",
        "    # Apply gradients using the optimizer (now defined outside)\n",
        "    if generator_gradients and any(g is not None for g in generator_gradients):\n",
        "        optimizer.apply_gradients(zip(generator_gradients, generator.trainable_variables + embedder.trainable_variables + recovery.trainable_variables))\n",
        "    if discriminator_gradients and any(g is not None for g in discriminator_gradients):\n",
        "        optimizer.apply_gradients(zip(discriminator_gradients, discriminator.trainable_variables))\n",
        "\n",
        "    return embedding_loss, discriminator_loss"
      ]
    },
    {
      "cell_type": "code",
      "execution_count": null,
      "metadata": {
        "id": "NWyUE-WW4HQ1"
      },
      "outputs": [],
      "source": [
        "# Instantiate the models before the training loop\n",
        "generator = build_generator()\n",
        "discriminator = build_discriminator()\n",
        "embedder = build_embedder()\n",
        "recovery = build_recovery()\n",
        "supervisor = build_supervisor()\n",
        "\n",
        "# Batch processing\n",
        "batch_size = 32  # Choose an appropriate batch size based on your system's memory capacity\n",
        "num_batches = data_class_1.shape[0] // batch_size"
      ]
    },
    {
      "cell_type": "code",
      "execution_count": null,
      "metadata": {
        "colab": {
          "base_uri": "https://localhost:8080/"
        },
        "id": "ew907zSc4HQ1",
        "outputId": "3ee00645-0be9-420b-a7f0-6f3866a9ad27"
      },
      "outputs": [
        {
          "name": "stdout",
          "output_type": "stream",
          "text": [
            "Epoch 0, Embed Loss: 99672.40625, Disc Loss: 0.04584339261054993\n",
            "Epoch 10, Embed Loss: 99672.40625, Disc Loss: 2.456998663546983e-05\n",
            "Epoch 20, Embed Loss: 99672.40625, Disc Loss: 5.038729796069674e-06\n",
            "Epoch 30, Embed Loss: 99672.40625, Disc Loss: 2.0914903871016577e-06\n",
            "Epoch 40, Embed Loss: 99672.40625, Disc Loss: 1.0519964916966273e-06\n",
            "Epoch 50, Embed Loss: 99672.40625, Disc Loss: 6.293175829341635e-07\n",
            "Epoch 60, Embed Loss: 99672.40625, Disc Loss: 3.8594740203734546e-07\n",
            "Epoch 70, Embed Loss: 99672.40625, Disc Loss: 2.3699604412286135e-07\n",
            "Epoch 80, Embed Loss: 99672.40625, Disc Loss: 1.583446191943949e-07\n",
            "Epoch 90, Embed Loss: 99672.40625, Disc Loss: 1.004546987815047e-07\n",
            "Epoch 100, Embed Loss: 99672.40625, Disc Loss: 6.946159913923111e-08\n",
            "Epoch 110, Embed Loss: 99672.40625, Disc Loss: 4.7596017793694045e-08\n",
            "Epoch 120, Embed Loss: 99672.40625, Disc Loss: 3.151371075205134e-08\n",
            "Epoch 130, Embed Loss: 99672.40625, Disc Loss: 2.2202581106967045e-08\n",
            "Epoch 140, Embed Loss: 99672.40625, Disc Loss: 1.4322224295426622e-08\n",
            "Epoch 150, Embed Loss: 99672.40625, Disc Loss: 9.94834792322763e-09\n",
            "Epoch 160, Embed Loss: 99672.40625, Disc Loss: 7.35777971883067e-09\n",
            "Epoch 170, Embed Loss: 99672.40625, Disc Loss: 4.940382325457904e-09\n",
            "Epoch 180, Embed Loss: 99672.40625, Disc Loss: 3.547014681970495e-09\n",
            "Epoch 190, Embed Loss: 99672.40625, Disc Loss: 2.608555149663516e-09\n",
            "Epoch 200, Embed Loss: 99672.40625, Disc Loss: 1.8638455223651818e-09\n",
            "Epoch 210, Embed Loss: 99672.40625, Disc Loss: 1.3291410194682385e-09\n",
            "Epoch 220, Embed Loss: 99672.40625, Disc Loss: 9.91819737450328e-10\n",
            "Epoch 230, Embed Loss: 99672.40625, Disc Loss: 7.747611441288882e-10\n",
            "Epoch 240, Embed Loss: 99672.40625, Disc Loss: 5.695714455633549e-10\n",
            "Epoch 250, Embed Loss: 99672.40625, Disc Loss: 4.1886580315342314e-10\n",
            "Epoch 260, Embed Loss: 99672.40625, Disc Loss: 3.21325716035048e-10\n",
            "Epoch 270, Embed Loss: 99672.40625, Disc Loss: 2.710704438690925e-10\n",
            "Epoch 280, Embed Loss: 99672.40625, Disc Loss: 2.0499348052371857e-10\n",
            "Epoch 290, Embed Loss: 99672.40625, Disc Loss: 1.5878068304608917e-10\n",
            "Epoch 300, Embed Loss: 99672.40625, Disc Loss: 1.3658778275082994e-10\n",
            "Epoch 310, Embed Loss: 99672.40625, Disc Loss: 1.1385352383097569e-10\n",
            "Epoch 320, Embed Loss: 99672.40625, Disc Loss: 1.0097495062311168e-10\n",
            "Epoch 330, Embed Loss: 99672.40625, Disc Loss: 8.640688164973653e-11\n",
            "Epoch 340, Embed Loss: 99672.40625, Disc Loss: 7.043880062562735e-11\n",
            "Epoch 350, Embed Loss: 99672.40625, Disc Loss: 6.390032253333899e-11\n",
            "Epoch 360, Embed Loss: 99672.40625, Disc Loss: 5.899163796341256e-11\n",
            "Epoch 370, Embed Loss: 99672.40625, Disc Loss: 5.218079093816108e-11\n",
            "Epoch 380, Embed Loss: 99672.40625, Disc Loss: 5.091767632525723e-11\n",
            "Epoch 390, Embed Loss: 99672.40625, Disc Loss: 4.306161677236631e-11\n",
            "Epoch 400, Embed Loss: 99672.40625, Disc Loss: 4.103995615567513e-11\n",
            "Epoch 410, Embed Loss: 99672.40625, Disc Loss: 3.687451732847791e-11\n",
            "Epoch 420, Embed Loss: 99672.40625, Disc Loss: 3.547297178219111e-11\n",
            "Epoch 430, Embed Loss: 99672.40625, Disc Loss: 3.102289258816171e-11\n",
            "Epoch 440, Embed Loss: 99672.40625, Disc Loss: 3.154787542314352e-11\n",
            "Epoch 450, Embed Loss: 99672.40625, Disc Loss: 2.897000694890295e-11\n",
            "Epoch 460, Embed Loss: 99672.40625, Disc Loss: 2.6950731576991238e-11\n",
            "Epoch 470, Embed Loss: 99672.40625, Disc Loss: 2.5419753107991383e-11\n",
            "Epoch 480, Embed Loss: 99672.40625, Disc Loss: 2.5110139661999042e-11\n",
            "Epoch 490, Embed Loss: 99672.40625, Disc Loss: 2.305677523906091e-11\n",
            "Epoch 500, Embed Loss: 99672.40625, Disc Loss: 2.226557653528527e-11\n",
            "Epoch 510, Embed Loss: 99672.40625, Disc Loss: 2.1508538006198563e-11\n",
            "Epoch 520, Embed Loss: 99672.40625, Disc Loss: 2.070045870827819e-11\n",
            "Epoch 530, Embed Loss: 99672.40625, Disc Loss: 1.9737600442937264e-11\n",
            "Epoch 540, Embed Loss: 99672.40625, Disc Loss: 1.9176788629282626e-11\n",
            "Epoch 550, Embed Loss: 99672.40625, Disc Loss: 1.826362325263453e-11\n",
            "Epoch 560, Embed Loss: 99672.40625, Disc Loss: 1.6729295032602565e-11\n",
            "Epoch 570, Embed Loss: 99672.40625, Disc Loss: 1.638697857964111e-11\n",
            "Epoch 580, Embed Loss: 99672.40625, Disc Loss: 1.644638245035246e-11\n",
            "Epoch 590, Embed Loss: 99672.40625, Disc Loss: 1.5743344128349435e-11\n",
            "Epoch 600, Embed Loss: 99672.40625, Disc Loss: 1.525527967838336e-11\n",
            "Epoch 610, Embed Loss: 99672.40625, Disc Loss: 1.5441361730927916e-11\n",
            "Epoch 620, Embed Loss: 99672.40625, Disc Loss: 1.3859406677863007e-11\n",
            "Epoch 630, Embed Loss: 99672.40625, Disc Loss: 1.403242539527172e-11\n",
            "Epoch 640, Embed Loss: 99672.40625, Disc Loss: 1.354280229626248e-11\n",
            "Epoch 650, Embed Loss: 99672.40625, Disc Loss: 1.374196850062459e-11\n",
            "Epoch 660, Embed Loss: 99672.40625, Disc Loss: 1.2812834994380129e-11\n",
            "Epoch 670, Embed Loss: 99672.40625, Disc Loss: 1.2825586079290296e-11\n",
            "Epoch 680, Embed Loss: 99672.40625, Disc Loss: 1.2069375013301631e-11\n",
            "Epoch 690, Embed Loss: 99672.40625, Disc Loss: 1.2136827133579775e-11\n",
            "Epoch 700, Embed Loss: 99672.40625, Disc Loss: 1.1255741130811181e-11\n",
            "Epoch 710, Embed Loss: 99672.40625, Disc Loss: 1.1030132536504755e-11\n",
            "Epoch 720, Embed Loss: 99672.40625, Disc Loss: 1.0717335872933997e-11\n",
            "Epoch 730, Embed Loss: 99672.40625, Disc Loss: 1.0613507468726358e-11\n",
            "Epoch 740, Embed Loss: 99672.40625, Disc Loss: 1.0299905893462746e-11\n",
            "Epoch 750, Embed Loss: 99672.40625, Disc Loss: 1.0091915150778341e-11\n",
            "Epoch 760, Embed Loss: 99672.40625, Disc Loss: 9.706890673200075e-12\n",
            "Epoch 770, Embed Loss: 99672.40625, Disc Loss: 9.480696609720507e-12\n",
            "Epoch 780, Embed Loss: 99672.40625, Disc Loss: 9.74014965904324e-12\n",
            "Epoch 790, Embed Loss: 99672.40625, Disc Loss: 9.339531752139418e-12\n",
            "Epoch 800, Embed Loss: 99672.40625, Disc Loss: 9.40073279637188e-12\n",
            "Epoch 810, Embed Loss: 99672.40625, Disc Loss: 9.170736219032971e-12\n",
            "Epoch 820, Embed Loss: 99672.40625, Disc Loss: 8.77347673677864e-12\n",
            "Epoch 830, Embed Loss: 99672.40625, Disc Loss: 8.788239233559203e-12\n",
            "Epoch 840, Embed Loss: 99672.40625, Disc Loss: 8.68649509960795e-12\n",
            "Epoch 850, Embed Loss: 99672.40625, Disc Loss: 8.317666000401402e-12\n",
            "Epoch 860, Embed Loss: 99672.40625, Disc Loss: 8.237834893398688e-12\n",
            "Epoch 870, Embed Loss: 99672.40625, Disc Loss: 8.027935954890708e-12\n",
            "Epoch 880, Embed Loss: 99672.40625, Disc Loss: 7.97594369023047e-12\n",
            "Epoch 890, Embed Loss: 99672.40625, Disc Loss: 7.807808219406631e-12\n",
            "Epoch 900, Embed Loss: 99672.40625, Disc Loss: 7.716643296573622e-12\n",
            "Epoch 910, Embed Loss: 99672.40625, Disc Loss: 7.685281230851437e-12\n",
            "Epoch 920, Embed Loss: 99672.40625, Disc Loss: 7.332559906481073e-12\n",
            "Epoch 930, Embed Loss: 99672.40625, Disc Loss: 7.18458018772461e-12\n",
            "Epoch 940, Embed Loss: 99672.40625, Disc Loss: 7.37931851041429e-12\n",
            "Epoch 950, Embed Loss: 99672.40625, Disc Loss: 7.035028375818042e-12\n",
            "Epoch 960, Embed Loss: 99672.40625, Disc Loss: 7.11867847655312e-12\n",
            "Epoch 970, Embed Loss: 99672.40625, Disc Loss: 7.026869537629654e-12\n",
            "Epoch 980, Embed Loss: 99672.40625, Disc Loss: 6.520372349688719e-12\n",
            "Epoch 990, Embed Loss: 99672.40625, Disc Loss: 6.722016172855394e-12\n"
          ]
        }
      ],
      "source": [
        "# Training loop\n",
        "epochs = 1000\n",
        "for epoch in range(epochs):\n",
        "    for batch_index in range(num_batches):\n",
        "        start_index = batch_index * batch_size\n",
        "        end_index = (batch_index + 1) * batch_size\n",
        "        batch_data = data_class_1[start_index:end_index]  # Select a batch of data\n",
        "\n",
        "        loss_embed, loss_disc = train_step(generator, discriminator, embedder, recovery, supervisor, batch_data)\n",
        "\n",
        "    if epoch % 10 == 0:\n",
        "        print(f\"Epoch {epoch}, Embed Loss: {loss_embed.numpy()}, Disc Loss: {loss_disc.numpy()}\")"
      ]
    },
    {
      "cell_type": "code",
      "execution_count": null,
      "metadata": {
        "id": "iWQ5xPlv4HQ2"
      },
      "outputs": [],
      "source": [
        "def generate_rows(generator, num_samples, n_features): # Add n_features as an argument\n",
        "    noise = tf.random.normal(shape=(num_samples, 178, n_features))\n",
        "    generated_rows = generator(noise)\n",
        "    return generated_rows\n",
        "\n",
        "# Generate new rows of data (each row consists of 178 points)\n",
        "num_samples = 5  # You can generate as many rows as needed\n",
        "# Get n_features from your data's shape\n",
        "n_features = data.shape[1]\n",
        "generated_rows = generate_rows(generator, num_samples, n_features).numpy() # Pass n_features to the function"
      ]
    },
    {
      "cell_type": "code",
      "execution_count": null,
      "metadata": {
        "colab": {
          "base_uri": "https://localhost:8080/",
          "height": 450
        },
        "id": "eU5FJ6vD4HQ2",
        "outputId": "8c210faf-76a5-4745-c48d-3bc90ce0ed34"
      },
      "outputs": [
        {
          "data": {
            "image/png": "[encoded data removed]",
            "text/plain": [
              "<Figure size 1500x500 with 3 Axes>"
            ]
          },
          "metadata": {},
          "output_type": "display_data"
        }
      ],
      "source": [
        "# Function to plot specific signals side by side\n",
        "def plot_specific_signals(signals, indices, title_prefix=\"Generated EEG Signal\", sample_idx=0):\n",
        "    num_signals = len(indices)  # Number of specific signals to plot\n",
        "\n",
        "    # Create a figure with subplots for the specified signals\n",
        "    fig, axes = plt.subplots(1, num_signals, figsize=(15, 5))\n",
        "\n",
        "    for idx, signal_idx in enumerate(indices):  # Iterate over each specified signal index\n",
        "        axes[idx].plot(signals[sample_idx, :, signal_idx], label=f'Signal {signal_idx+1}', color='blue')\n",
        "        axes[idx].set_title(f\"{title_prefix} - Signal {signal_idx+1}\")\n",
        "        axes[idx].set_xlabel('Time Points (1 Second)')\n",
        "        axes[idx].set_ylabel('Amplitude')\n",
        "        axes[idx].legend()\n",
        "        axes[idx].grid(True)\n",
        "\n",
        "    # Adjust layout\n",
        "    plt.tight_layout()\n",
        "    plt.show()\n",
        "\n",
        "# Specify the indices of the three signals you want to plot\n",
        "specific_indices = [0, 1, 2]  # Indices of the signals to visualize (adjust as needed)\n",
        "\n",
        "# Visualize the specified signals side by side\n",
        "plot_specific_signals(generated_rows, specific_indices, title_prefix=\"Generated EEG Signal\", sample_idx=0)"
      ]
    },
    {
      "cell_type": "markdown",
      "metadata": {
        "id": "MFFkprVHu4kO"
      },
      "source": [
        "## Thank you"
      ]
    }
  ],
  "metadata": {
    "accelerator": "GPU",
    "colab": {
      "collapsed_sections": [
        "omAv-gRQE9ou",
        "YEX6ihX_tiV-",
        "3BAsCCE_udTh",
        "Bk8UtGWS8sTu"
      ],
      "gpuType": "T4",
      "provenance": []
    },
    "kernelspec": {
      "display_name": "base",
      "language": "python",
      "name": "python3"
    },
    "language_info": {
      "codemirror_mode": {
        "name": "ipython",
        "version": 3
      },
      "file_extension": ".py",
      "mimetype": "text/x-python",
      "name": "python",
      "nbconvert_exporter": "python",
      "pygments_lexer": "ipython3",
      "version": "3.10.9"
    }
  },
  "nbformat": 4,
  "nbformat_minor": 0
}
